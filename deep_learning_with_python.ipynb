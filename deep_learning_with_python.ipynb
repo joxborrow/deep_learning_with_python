{
 "cells": [
  {
   "cell_type": "markdown",
   "id": "4c4dc871",
   "metadata": {},
   "source": [
    "# Chapter 2 - A First Example"
   ]
  },
  {
   "cell_type": "code",
   "execution_count": 1,
   "id": "77d20132",
   "metadata": {},
   "outputs": [
    {
     "name": "stderr",
     "output_type": "stream",
     "text": [
      "2025-04-27 17:35:44.363757: I external/local_xla/xla/tsl/cuda/cudart_stub.cc:32] Could not find cuda drivers on your machine, GPU will not be used.\n",
      "2025-04-27 17:35:44.437144: I external/local_xla/xla/tsl/cuda/cudart_stub.cc:32] Could not find cuda drivers on your machine, GPU will not be used.\n",
      "2025-04-27 17:35:44.507250: E external/local_xla/xla/stream_executor/cuda/cuda_fft.cc:467] Unable to register cuFFT factory: Attempting to register factory for plugin cuFFT when one has already been registered\n",
      "WARNING: All log messages before absl::InitializeLog() is called are written to STDERR\n",
      "E0000 00:00:1745793344.575030  313206 cuda_dnn.cc:8579] Unable to register cuDNN factory: Attempting to register factory for plugin cuDNN when one has already been registered\n",
      "E0000 00:00:1745793344.596777  313206 cuda_blas.cc:1407] Unable to register cuBLAS factory: Attempting to register factory for plugin cuBLAS when one has already been registered\n",
      "W0000 00:00:1745793344.730076  313206 computation_placer.cc:177] computation placer already registered. Please check linkage and avoid linking the same target more than once.\n",
      "W0000 00:00:1745793344.730103  313206 computation_placer.cc:177] computation placer already registered. Please check linkage and avoid linking the same target more than once.\n",
      "W0000 00:00:1745793344.730106  313206 computation_placer.cc:177] computation placer already registered. Please check linkage and avoid linking the same target more than once.\n",
      "W0000 00:00:1745793344.730108  313206 computation_placer.cc:177] computation placer already registered. Please check linkage and avoid linking the same target more than once.\n",
      "2025-04-27 17:35:44.746371: I tensorflow/core/platform/cpu_feature_guard.cc:210] This TensorFlow binary is optimized to use available CPU instructions in performance-critical operations.\n",
      "To enable the following instructions: AVX2 FMA, in other operations, rebuild TensorFlow with the appropriate compiler flags.\n"
     ]
    }
   ],
   "source": [
    "# Imports\n",
    "from tensorflow.keras.datasets import mnist\n",
    "from tensorflow import keras\n",
    "from tensorflow.keras import layers\n",
    "\n",
    "# Load data\n",
    "(train_images, train_labels), (test_images, test_labels) = mnist.load_data()"
   ]
  },
  {
   "cell_type": "code",
   "execution_count": 2,
   "id": "328b89a0",
   "metadata": {},
   "outputs": [
    {
     "data": {
      "text/plain": [
       "(60000, 28, 28)"
      ]
     },
     "metadata": {},
     "output_type": "display_data"
    },
    {
     "data": {
      "text/plain": [
       "60000"
      ]
     },
     "metadata": {},
     "output_type": "display_data"
    },
    {
     "data": {
      "text/plain": [
       "array([5, 0, 4, ..., 5, 6, 8], shape=(60000,), dtype=uint8)"
      ]
     },
     "metadata": {},
     "output_type": "display_data"
    }
   ],
   "source": [
    "# Look at training data\n",
    "display(train_images.shape)\n",
    "\n",
    "display(len(train_labels))\n",
    "\n",
    "display(train_labels)"
   ]
  },
  {
   "cell_type": "code",
   "execution_count": 3,
   "id": "a1caa148",
   "metadata": {},
   "outputs": [
    {
     "data": {
      "text/plain": [
       "(10000, 28, 28)"
      ]
     },
     "metadata": {},
     "output_type": "display_data"
    },
    {
     "data": {
      "text/plain": [
       "10000"
      ]
     },
     "metadata": {},
     "output_type": "display_data"
    },
    {
     "data": {
      "text/plain": [
       "array([7, 2, 1, ..., 4, 5, 6], shape=(10000,), dtype=uint8)"
      ]
     },
     "metadata": {},
     "output_type": "display_data"
    }
   ],
   "source": [
    "# Look at test data\n",
    "display(test_images.shape)\n",
    "\n",
    "display(len(test_labels))\n",
    "\n",
    "display(test_labels)"
   ]
  },
  {
   "cell_type": "code",
   "execution_count": 4,
   "id": "1676292b",
   "metadata": {},
   "outputs": [
    {
     "name": "stderr",
     "output_type": "stream",
     "text": [
      "/home/jonathan/Projects/deep_learning_with_python/.venv/lib/python3.10/site-packages/keras/src/layers/core/dense.py:87: UserWarning: Do not pass an `input_shape`/`input_dim` argument to a layer. When using Sequential models, prefer using an `Input(shape)` object as the first layer in the model instead.\n",
      "  super().__init__(activity_regularizer=activity_regularizer, **kwargs)\n",
      "2025-04-27 17:35:50.150429: E external/local_xla/xla/stream_executor/cuda/cuda_platform.cc:51] failed call to cuInit: INTERNAL: CUDA error: Failed call to cuInit: UNKNOWN ERROR (303)\n"
     ]
    },
    {
     "data": {
      "text/plain": [
       "<Sequential name=sequential, built=True>"
      ]
     },
     "metadata": {},
     "output_type": "display_data"
    }
   ],
   "source": [
    "# Create a model\n",
    "model = keras.Sequential([\n",
    "    layers.Dense(512, activation='relu', input_shape=(28*28,)),\n",
    "    layers.Dense(10, activation='softmax')\n",
    "])\n",
    "\n",
    "display(model)"
   ]
  },
  {
   "cell_type": "code",
   "execution_count": 5,
   "id": "15dabb72",
   "metadata": {},
   "outputs": [
    {
     "data": {
      "text/plain": [
       "<Sequential name=sequential, built=True>"
      ]
     },
     "metadata": {},
     "output_type": "display_data"
    }
   ],
   "source": [
    "# Compile the model\n",
    "model.compile(optimizer='rmsprop',\n",
    "              loss='sparse_categorical_crossentropy',\n",
    "              metrics=['accuracy'])\n",
    "\n",
    "display(model)"
   ]
  },
  {
   "cell_type": "code",
   "execution_count": 6,
   "id": "ce61501c",
   "metadata": {},
   "outputs": [
    {
     "data": {
      "text/plain": [
       "(60000, 784)"
      ]
     },
     "metadata": {},
     "output_type": "display_data"
    },
    {
     "data": {
      "text/plain": [
       "(10000, 784)"
      ]
     },
     "metadata": {},
     "output_type": "display_data"
    }
   ],
   "source": [
    "# Reshape the image data for modeling\n",
    "train_images = train_images.reshape((60_000, 28*28))\n",
    "train_images = train_images.astype(\"float32\")/255\n",
    "test_images = test_images.reshape((10_000, 28*28))\n",
    "test_images = test_images.astype(\"float32\")/255\n",
    "\n",
    "display(train_images.shape)\n",
    "display(test_images.shape)\n"
   ]
  },
  {
   "cell_type": "code",
   "execution_count": 7,
   "id": "be20e73a",
   "metadata": {},
   "outputs": [
    {
     "name": "stdout",
     "output_type": "stream",
     "text": [
      "Epoch 1/5\n",
      "\u001b[1m469/469\u001b[0m \u001b[32m━━━━━━━━━━━━━━━━━━━━\u001b[0m\u001b[37m\u001b[0m \u001b[1m4s\u001b[0m 7ms/step - accuracy: 0.8714 - loss: 0.4450\n",
      "Epoch 2/5\n",
      "\u001b[1m469/469\u001b[0m \u001b[32m━━━━━━━━━━━━━━━━━━━━\u001b[0m\u001b[37m\u001b[0m \u001b[1m3s\u001b[0m 7ms/step - accuracy: 0.9674 - loss: 0.1135\n",
      "Epoch 3/5\n",
      "\u001b[1m469/469\u001b[0m \u001b[32m━━━━━━━━━━━━━━━━━━━━\u001b[0m\u001b[37m\u001b[0m \u001b[1m3s\u001b[0m 7ms/step - accuracy: 0.9789 - loss: 0.0695\n",
      "Epoch 4/5\n",
      "\u001b[1m469/469\u001b[0m \u001b[32m━━━━━━━━━━━━━━━━━━━━\u001b[0m\u001b[37m\u001b[0m \u001b[1m3s\u001b[0m 7ms/step - accuracy: 0.9847 - loss: 0.0507\n",
      "Epoch 5/5\n",
      "\u001b[1m469/469\u001b[0m \u001b[32m━━━━━━━━━━━━━━━━━━━━\u001b[0m\u001b[37m\u001b[0m \u001b[1m3s\u001b[0m 7ms/step - accuracy: 0.9891 - loss: 0.0367\n"
     ]
    },
    {
     "data": {
      "text/plain": [
       "<keras.src.callbacks.history.History at 0x791d37dfee90>"
      ]
     },
     "execution_count": 7,
     "metadata": {},
     "output_type": "execute_result"
    }
   ],
   "source": [
    "# Fit the model\n",
    "\n",
    "model.fit(train_images, train_labels, epochs=5, batch_size=128)"
   ]
  },
  {
   "cell_type": "code",
   "execution_count": 8,
   "id": "3c6d00be",
   "metadata": {},
   "outputs": [
    {
     "name": "stdout",
     "output_type": "stream",
     "text": [
      "\u001b[1m1/1\u001b[0m \u001b[32m━━━━━━━━━━━━━━━━━━━━\u001b[0m\u001b[37m\u001b[0m \u001b[1m0s\u001b[0m 57ms/step\n"
     ]
    },
    {
     "data": {
      "text/plain": [
       "array([1.1097960e-07, 7.0248443e-09, 1.6789127e-05, 2.5904919e-05,\n",
       "       2.8314900e-10, 4.8859306e-07, 7.5379980e-12, 9.9992412e-01,\n",
       "       2.5299876e-06, 3.0070187e-05], dtype=float32)"
      ]
     },
     "metadata": {},
     "output_type": "display_data"
    },
    {
     "data": {
      "text/plain": [
       "np.int64(7)"
      ]
     },
     "metadata": {},
     "output_type": "display_data"
    },
    {
     "data": {
      "text/plain": [
       "np.float32(7.0248443e-09)"
      ]
     },
     "metadata": {},
     "output_type": "display_data"
    },
    {
     "data": {
      "text/plain": [
       "np.uint8(7)"
      ]
     },
     "execution_count": 8,
     "metadata": {},
     "output_type": "execute_result"
    }
   ],
   "source": [
    "# Make predictions\n",
    "test_digits = test_images[0:10]\n",
    "predictions = model.predict(test_digits)\n",
    "display(predictions[0])\n",
    "display(predictions[0].argmax())\n",
    "display(predictions[0][1])\n",
    "test_labels[0]"
   ]
  },
  {
   "cell_type": "code",
   "execution_count": 9,
   "id": "7e7f5a82",
   "metadata": {},
   "outputs": [
    {
     "name": "stdout",
     "output_type": "stream",
     "text": [
      "\u001b[1m313/313\u001b[0m \u001b[32m━━━━━━━━━━━━━━━━━━━━\u001b[0m\u001b[37m\u001b[0m \u001b[1m1s\u001b[0m 4ms/step - accuracy: 0.9747 - loss: 0.0751\n",
      "test_acc: 0.9796000123023987\n"
     ]
    }
   ],
   "source": [
    "# Evaluate the Model\n",
    "test_loss, test_acc = model.evaluate(test_images, test_labels)\n",
    "print(f\"test_acc: {test_acc}\")"
   ]
  },
  {
   "cell_type": "markdown",
   "id": "8d2181db",
   "metadata": {},
   "source": [
    "## Data representations with Tensors"
   ]
  },
  {
   "cell_type": "code",
   "execution_count": 10,
   "id": "a850cae7",
   "metadata": {},
   "outputs": [
    {
     "data": {
      "text/plain": [
       "array(12)"
      ]
     },
     "metadata": {},
     "output_type": "display_data"
    },
    {
     "data": {
      "text/plain": [
       "0"
      ]
     },
     "metadata": {},
     "output_type": "display_data"
    }
   ],
   "source": [
    "# Rank 0 tensor\n",
    "import numpy as np \n",
    "x = np.array(12)\n",
    "display(x)\n",
    "display(x.ndim)"
   ]
  },
  {
   "cell_type": "code",
   "execution_count": 11,
   "id": "51a0e98e",
   "metadata": {},
   "outputs": [
    {
     "data": {
      "text/plain": [
       "array([12,  3,  6, 14,  7])"
      ]
     },
     "metadata": {},
     "output_type": "display_data"
    },
    {
     "data": {
      "text/plain": [
       "1"
      ]
     },
     "metadata": {},
     "output_type": "display_data"
    }
   ],
   "source": [
    "# Rank 1 Tensor\n",
    "x = np.array([12,3,6,14,7])\n",
    "display(x)\n",
    "display(x.ndim)"
   ]
  },
  {
   "cell_type": "code",
   "execution_count": 12,
   "id": "2666f2e4",
   "metadata": {},
   "outputs": [
    {
     "data": {
      "text/plain": [
       "array([[ 5, 78,  2, 34,  0],\n",
       "       [ 6, 79,  3, 35,  1]])"
      ]
     },
     "metadata": {},
     "output_type": "display_data"
    },
    {
     "data": {
      "text/plain": [
       "2"
      ]
     },
     "metadata": {},
     "output_type": "display_data"
    }
   ],
   "source": [
    "# Rank 2 Tensor\n",
    "x = np.array([[5,78,2,34,0],\n",
    "              [6,79,3,35,1]])\n",
    "display(x)\n",
    "display(x.ndim)"
   ]
  },
  {
   "cell_type": "markdown",
   "id": "9df54dd2",
   "metadata": {},
   "source": [
    "In deep learning you will typically manipulate tensors with dimension 0 to 4, but you may\n",
    "on occasion go to 5 if you are working with video data.\n",
    "\n",
    "Tensors are defined by:\n",
    "\n",
    "- Number of axes (ie rank)\n",
    "- Shape (describes the dimensions)\n",
    "- Data type (float16, float32)\n",
    "\n"
   ]
  },
  {
   "cell_type": "code",
   "execution_count": 13,
   "id": "32b76bea",
   "metadata": {},
   "outputs": [],
   "source": [
    "from tensorflow.keras.datasets import mnist\n",
    "(train_images, train_labels), (test_images, test_labels) = mnist.load_data()"
   ]
  },
  {
   "cell_type": "code",
   "execution_count": 14,
   "id": "12d26c70",
   "metadata": {},
   "outputs": [
    {
     "data": {
      "text/plain": [
       "3"
      ]
     },
     "execution_count": 14,
     "metadata": {},
     "output_type": "execute_result"
    }
   ],
   "source": [
    "train_images.ndim"
   ]
  },
  {
   "cell_type": "code",
   "execution_count": 15,
   "id": "b511bd7e",
   "metadata": {},
   "outputs": [
    {
     "data": {
      "text/plain": [
       "(60000, 28, 28)"
      ]
     },
     "execution_count": 15,
     "metadata": {},
     "output_type": "execute_result"
    }
   ],
   "source": [
    "train_images.shape"
   ]
  },
  {
   "cell_type": "code",
   "execution_count": 16,
   "id": "0ad13ade",
   "metadata": {},
   "outputs": [
    {
     "data": {
      "text/plain": [
       "dtype('uint8')"
      ]
     },
     "execution_count": 16,
     "metadata": {},
     "output_type": "execute_result"
    }
   ],
   "source": [
    "train_images.dtype"
   ]
  },
  {
   "cell_type": "code",
   "execution_count": 17,
   "id": "7b2836bb",
   "metadata": {},
   "outputs": [
    {
     "data": {
      "image/png": "[encoded data removed]",
      "text/plain": [
       "<Figure size 640x480 with 1 Axes>"
      ]
     },
     "metadata": {},
     "output_type": "display_data"
    },
    {
     "data": {
      "text/plain": [
       "np.uint8(9)"
      ]
     },
     "metadata": {},
     "output_type": "display_data"
    }
   ],
   "source": [
    "import matplotlib.pyplot as plt \n",
    "digit = train_images[4]\n",
    "plt.imshow(digit, cmap=plt.cm.binary)\n",
    "plt.show()\n",
    "\n",
    "display(train_labels[4])"
   ]
  },
  {
   "cell_type": "markdown",
   "id": "31412f97",
   "metadata": {},
   "source": [
    "### Manipulating Tensors in Numpy"
   ]
  },
  {
   "cell_type": "code",
   "execution_count": 18,
   "id": "58e9634f",
   "metadata": {},
   "outputs": [
    {
     "data": {
      "text/plain": [
       "(90, 28, 28)"
      ]
     },
     "execution_count": 18,
     "metadata": {},
     "output_type": "execute_result"
    }
   ],
   "source": [
    "my_slice = train_images[10:100]\n",
    "my_slice.shape"
   ]
  },
  {
   "cell_type": "code",
   "execution_count": 19,
   "id": "4acb8061",
   "metadata": {},
   "outputs": [
    {
     "data": {
      "text/plain": [
       "(90, 28, 28)"
      ]
     },
     "metadata": {},
     "output_type": "display_data"
    },
    {
     "data": {
      "text/plain": [
       "(90, 28, 28)"
      ]
     },
     "metadata": {},
     "output_type": "display_data"
    }
   ],
   "source": [
    "my_slice = train_images[10:100, :, :]\n",
    "display(my_slice.shape)\n",
    "my_slice = train_images[10:100, 0:28, 0:28]\n",
    "display(my_slice.shape)"
   ]
  },
  {
   "cell_type": "code",
   "execution_count": 20,
   "id": "e078c0b4",
   "metadata": {},
   "outputs": [
    {
     "data": {
      "text/plain": [
       "<matplotlib.image.AxesImage at 0x791d379ac1c0>"
      ]
     },
     "execution_count": 20,
     "metadata": {},
     "output_type": "execute_result"
    },
    {
     "data": {
      "image/png": "[encoded data removed]",
      "text/plain": [
       "<Figure size 640x480 with 1 Axes>"
      ]
     },
     "metadata": {},
     "output_type": "display_data"
    }
   ],
   "source": [
    "my_slice = train_images[:, 14:, 14:]\n",
    "plt.imshow(my_slice[4], cmap=plt.cm.binary)\n",
    "my_slice = train_images[:, 7:-7, 7:-7]\n",
    "plt.imshow(my_slice[4], cmap=plt.cm.binary)"
   ]
  },
  {
   "cell_type": "markdown",
   "id": "214f02bd",
   "metadata": {},
   "source": [
    " You can see that you can use these operations to essentially crop the in images\n",
    " etc.\n",
    "\n",
    " ### Notion of data batches\n",
    "\n",
    " - The first axis will generally be the samples axis\n",
    " - In the example above the samples are images\n",
    " - The dataset is rarely processsed all at once\n",
    " - It is typically processed in batches\n",
    " - In our case the batch size is 128"
   ]
  },
  {
   "cell_type": "code",
   "execution_count": 21,
   "id": "f0dbaf67",
   "metadata": {},
   "outputs": [],
   "source": [
    "batch0 = train_images[:128]\n",
    "batch1 = train_images[128:256]\n",
    "\n",
    "n = 3\n",
    "batchn = train_images[128*n:128*(n+1)]"
   ]
  },
  {
   "cell_type": "markdown",
   "id": "0c846c04",
   "metadata": {},
   "source": [
    "## Real world examples of tensors\n",
    "\n",
    "- Vector (tabular) Data: Rank 2, (samples, features), where each sample is a vector\n",
    "  of numerical attributes\n",
    "- Time Series: Rank 3, (samples, timesteps, features)\n",
    "- Images: Rank 4, (samples, height, width, channels), each pixes is representated by a vector\n",
    "  of values\n",
    "- Video: Rank 5, (samples, frames, heights, width, channels), where each sample is a sequence of frames\n",
    "\n",
    "## The gears of neural networks: Tensor operations"
   ]
  },
  {
   "cell_type": "code",
   "execution_count": 22,
   "id": "f2235696",
   "metadata": {},
   "outputs": [],
   "source": [
    "import keras"
   ]
  },
  {
   "cell_type": "markdown",
   "id": "b13b0488",
   "metadata": {},
   "source": [
    "### A Dense layer\n",
    "\n",
    "```python\n",
    "keras.layers.Dense(512, activation='relu')\n",
    "```\n",
    "\n",
    "- This is a function that takes an input matrix and returns another matrix\n",
    "\n",
    "```python\n",
    "output = relu(dot(input, W) + b)\n",
    "```\n",
    "There are three tensor operations here\n",
    "\n",
    "- a dot product\n",
    "- tensor addition\n",
    "- a relu operation, $max(x, 0)$.\n",
    "\n",
    "#### Elementwise Operations\n",
    "\n",
    "Note the $relu$ and $+$ are elementwise operations, while the dot is a matrix operation\n",
    "\n",
    "- There is elementwise addition, subtraction, multiplication, ...\n",
    "\n",
    "#### Dot Products\n",
    "\n",
    "Same as in matrix algebra\n",
    "\n",
    "#### Tensor reshaping\n",
    "\n",
    "The operation of reshaping a matrix/tensor"
   ]
  },
  {
   "cell_type": "code",
   "execution_count": 23,
   "id": "aa0936a6",
   "metadata": {},
   "outputs": [
    {
     "data": {
      "text/plain": [
       "(3, 2)"
      ]
     },
     "metadata": {},
     "output_type": "display_data"
    },
    {
     "data": {
      "text/plain": [
       "array([[0.],\n",
       "       [1.],\n",
       "       [2.],\n",
       "       [3.],\n",
       "       [4.],\n",
       "       [5.]])"
      ]
     },
     "metadata": {},
     "output_type": "display_data"
    },
    {
     "data": {
      "text/plain": [
       "(6, 1)"
      ]
     },
     "metadata": {},
     "output_type": "display_data"
    },
    {
     "data": {
      "text/plain": [
       "array([[0., 1., 2.],\n",
       "       [3., 4., 5.]])"
      ]
     },
     "metadata": {},
     "output_type": "display_data"
    },
    {
     "data": {
      "text/plain": [
       "(2, 3)"
      ]
     },
     "metadata": {},
     "output_type": "display_data"
    }
   ],
   "source": [
    "train_images = train_images.reshape((60_000, 28*28))\n",
    "x = np.array([[0., 1.],\n",
    "              [2., 3.],\n",
    "              [4., 5.]])\n",
    "display(x.shape)\n",
    "\n",
    "x = x.reshape((6,1))\n",
    "display(x)\n",
    "display(x.shape)\n",
    "\n",
    "x = x.reshape((2,3))\n",
    "display(x)\n",
    "display(x.shape)"
   ]
  },
  {
   "cell_type": "markdown",
   "id": "cebd5b15",
   "metadata": {},
   "source": [
    "#### Transposition\n",
    "\n",
    "This just transposes the matrix/tensor"
   ]
  },
  {
   "cell_type": "code",
   "execution_count": 24,
   "id": "619f9037",
   "metadata": {},
   "outputs": [
    {
     "data": {
      "text/plain": [
       "(20, 300)"
      ]
     },
     "execution_count": 24,
     "metadata": {},
     "output_type": "execute_result"
    }
   ],
   "source": [
    "x = np.zeros((300, 20))\n",
    "x = np.transpose(x)\n",
    "x.shape"
   ]
  },
  {
   "cell_type": "markdown",
   "id": "93925985",
   "metadata": {},
   "source": [
    "### Geometric Interpretations of tensor operations\n",
    "\n",
    "- Tensor addition acts like a translation of an object to a new position, without\n",
    "  distoring the object\n",
    "\n",
    "$$\n",
    "\\begin{bmatrix}HorizontalFactor \\\\\n",
    "               VerticalFactor\n",
    "\\end{bmatrix} + \n",
    "\\begin{bmatrix}x \\\\\n",
    "               y\n",
    "\\end{bmatrix}\n",
    "$$\n",
    "\n",
    "- Rotation (counterclockwise): a dot product with \n",
    "$$R = \\begin{bmatrix}cos(\\theta) & -sin(\\theta) \\\\\n",
    "                     sin(\\theta) & cos(\\theta)\n",
    "      \\end{bmatrix} \\cdot \n",
    "      \\begin{bmatrix}x \\\\\n",
    "                     y\n",
    "      \\end{bmatrix}\n",
    "$$\n",
    "\n",
    "- Scaling: Vertical and horizontal scaling can be achieve with a diagonal matrix\n",
    "\n",
    "$$\n",
    "S = \\begin{bmatrix}\n",
    "    HorizontalFactor & 0 \\\\\n",
    "    0 & VerticalFactor\n",
    "    \\end{bmatrix} \\cdot \n",
    "    \\begin{bmatrix}\n",
    "    x \\\\\n",
    "    y\n",
    "    \\end{bmatrix}\n",
    "$$\n",
    "\n",
    "- Linear Transform: A dot product with an arbitrary matrix. This encompasses scaling\n",
    "  and rotation\n",
    "- Affine transform: The combination of a linear transform and a translation. Note\n",
    "  $y = W \\cdot x + b$ is affine. Note that an affine transform of an affine transform\n",
    "  is an affine transform. This means that neural networks w/o activation functions\n",
    "  would just be linear models in disguise.\n",
    "  "
   ]
  },
  {
   "cell_type": "markdown",
   "id": "6fcaad60",
   "metadata": {},
   "source": [
    "## Stochastic Gradient Descent - Front Pass\n",
    "\n",
    "- SGD is the method of minimizing the loss function\n",
    "- It essentially evaluates the partial derivative for all dimensions (weights)\n",
    "  and then moves in the opposite direction related to the learning rate to minimize the\n",
    "  loss function\n",
    "- There are many different version of SGD, or optimizers\n",
    "- A common enhancement to vanilla SGD is to add the concept of momentum.\n",
    "  Adagrad, RMSprop, and others\n",
    "- Momentum aids in convergence speed and helps avoid local minima.\n",
    "\n",
    "## Backpropagation and the Chain Rule\n",
    "\n",
    "- Tensor operations have simple derivatives, allowing them to be chained together\n",
    "- Computation graphs can be used to program extensive chained operations\n",
    "- Computation graphs let you encode commputable expressions as a machine readable data\n",
    "  structure\n",
    "- Reversing computation graphs and using gradients allow for the creation of the\n",
    "  back pass."
   ]
  },
  {
   "cell_type": "markdown",
   "id": "be8a0a9f",
   "metadata": {},
   "source": [
    "## The Gradient Tape\n",
    "\n",
    "GradientTape is a python scope that will \"record\" the tensor operations that\n",
    "run inside as a computation graph, or \"tape\"."
   ]
  },
  {
   "cell_type": "code",
   "execution_count": 25,
   "id": "72b3a227",
   "metadata": {},
   "outputs": [
    {
     "data": {
      "text/plain": [
       "<tf.Variable 'Variable:0' shape=() dtype=float32, numpy=0.0>"
      ]
     },
     "metadata": {},
     "output_type": "display_data"
    },
    {
     "data": {
      "text/plain": [
       "<tf.Tensor: shape=(), dtype=float32, numpy=2.0>"
      ]
     },
     "metadata": {},
     "output_type": "display_data"
    }
   ],
   "source": [
    "import tensorflow as tf \n",
    "x = tf.Variable(0.)\n",
    "\n",
    "display(x)\n",
    "\n",
    "with tf.GradientTape() as tape:\n",
    "    y = 2 * x + 3\n",
    "    \n",
    "grad_of_y_wrt = tape.gradient(y, x)\n",
    "display(grad_of_y_wrt)"
   ]
  },
  {
   "cell_type": "code",
   "execution_count": 26,
   "id": "05fd9e96",
   "metadata": {},
   "outputs": [
    {
     "data": {
      "text/plain": [
       "<tf.Variable 'Variable:0' shape=(2, 2) dtype=float32, numpy=\n",
       "array([[0.9889544 , 0.4170183 ],\n",
       "       [0.14135957, 0.05694294]], dtype=float32)>"
      ]
     },
     "metadata": {},
     "output_type": "display_data"
    },
    {
     "data": {
      "text/plain": [
       "<tf.Tensor: shape=(2, 2), dtype=float32, numpy=\n",
       "array([[2., 2.],\n",
       "       [2., 2.]], dtype=float32)>"
      ]
     },
     "metadata": {},
     "output_type": "display_data"
    }
   ],
   "source": [
    "x = tf.Variable(tf.random.uniform((2,2)))\n",
    "\n",
    "display(x)\n",
    "\n",
    "with tf.GradientTape() as tape:\n",
    "    y = 2 * x + 3\n",
    "\n",
    "grad_of_y_wrt_x = tape.gradient(y, x)\n",
    "display(grad_of_y_wrt_x)"
   ]
  },
  {
   "cell_type": "code",
   "execution_count": 27,
   "id": "ed94e56a",
   "metadata": {},
   "outputs": [
    {
     "data": {
      "text/plain": [
       "[<tf.Tensor: shape=(2, 2), dtype=float32, numpy=\n",
       " array([[0.9040698, 0.9040698],\n",
       "        [1.823676 , 1.823676 ]], dtype=float32)>,\n",
       " <tf.Tensor: shape=(2,), dtype=float32, numpy=array([2., 2.], dtype=float32)>]"
      ]
     },
     "metadata": {},
     "output_type": "display_data"
    }
   ],
   "source": [
    "# It works on lists of variables\n",
    "\n",
    "W = tf.Variable(tf.random.uniform((2,2)))\n",
    "b = tf.Variable(tf.zeros(2,))\n",
    "x = tf.random.uniform((2,2))\n",
    "\n",
    "with tf.GradientTape() as tape:\n",
    "    y = tf.matmul(x, W) + b\n",
    "    \n",
    "grad_of_y_wrt_W_and_b = tape.gradient(y, [W, b])\n",
    "\n",
    "display(grad_of_y_wrt_W_and_b)"
   ]
  },
  {
   "cell_type": "markdown",
   "id": "fb02f26b",
   "metadata": {},
   "source": [
    "## A short review of the first example"
   ]
  },
  {
   "cell_type": "code",
   "execution_count": 28,
   "id": "dd152433",
   "metadata": {},
   "outputs": [],
   "source": [
    "(train_images, train_labels), (test_images, test_labels) = mnist.load_data()\n",
    "train_images = train_images.reshape((60000, 28*28))\n",
    "train_images = train_images.astype(\"float32\")/255\n",
    "test_images = test_images.reshape((10000, 28*28))\n",
    "test_images = test_images.astype(\"float32\")/255"
   ]
  },
  {
   "cell_type": "markdown",
   "id": "d49c2ab4",
   "metadata": {},
   "source": [
    "- Here you transform data into several tensors\n",
    "- Each pixel in the image represents an input feature and there are 512 of them"
   ]
  },
  {
   "cell_type": "code",
   "execution_count": 29,
   "id": "ef6ff6ef",
   "metadata": {},
   "outputs": [],
   "source": [
    "model = keras.Sequential([\n",
    "    layers.Dense(512, activation='relu'),\n",
    "    layers.Dense(10, activation='softmax')\n",
    "])"
   ]
  },
  {
   "cell_type": "markdown",
   "id": "ef8034e6",
   "metadata": {},
   "source": [
    "- Above you see you have a layer with the activation function relu\n",
    "- Each layer is applying tensor functions\n",
    "- The weights that are calibrated hold the knowledge"
   ]
  },
  {
   "cell_type": "code",
   "execution_count": 30,
   "id": "b5621827",
   "metadata": {},
   "outputs": [],
   "source": [
    "model.compile(optimizer='rmsprop',\n",
    "              loss='sparse_categorical_crossentropy',\n",
    "              metrics=['accuracy'])"
   ]
  },
  {
   "cell_type": "markdown",
   "id": "b660f164",
   "metadata": {},
   "source": [
    "- We have specified the loss function and the optimizer that will be used\n",
    "  for the optimizer\n",
    "- We have also specified metrics to track"
   ]
  },
  {
   "cell_type": "code",
   "execution_count": 31,
   "id": "39a57409",
   "metadata": {},
   "outputs": [
    {
     "name": "stdout",
     "output_type": "stream",
     "text": [
      "Epoch 1/5\n",
      "\u001b[1m469/469\u001b[0m \u001b[32m━━━━━━━━━━━━━━━━━━━━\u001b[0m\u001b[37m\u001b[0m \u001b[1m4s\u001b[0m 8ms/step - accuracy: 0.8687 - loss: 0.4458\n",
      "Epoch 2/5\n",
      "\u001b[1m469/469\u001b[0m \u001b[32m━━━━━━━━━━━━━━━━━━━━\u001b[0m\u001b[37m\u001b[0m \u001b[1m3s\u001b[0m 7ms/step - accuracy: 0.9681 - loss: 0.1150\n",
      "Epoch 3/5\n",
      "\u001b[1m469/469\u001b[0m \u001b[32m━━━━━━━━━━━━━━━━━━━━\u001b[0m\u001b[37m\u001b[0m \u001b[1m3s\u001b[0m 7ms/step - accuracy: 0.9788 - loss: 0.0730\n",
      "Epoch 4/5\n",
      "\u001b[1m469/469\u001b[0m \u001b[32m━━━━━━━━━━━━━━━━━━━━\u001b[0m\u001b[37m\u001b[0m \u001b[1m4s\u001b[0m 8ms/step - accuracy: 0.9851 - loss: 0.0493\n",
      "Epoch 5/5\n",
      "\u001b[1m469/469\u001b[0m \u001b[32m━━━━━━━━━━━━━━━━━━━━\u001b[0m\u001b[37m\u001b[0m \u001b[1m3s\u001b[0m 7ms/step - accuracy: 0.9893 - loss: 0.0360\n"
     ]
    },
    {
     "data": {
      "text/plain": [
       "<keras.src.callbacks.history.History at 0x791d34b51300>"
      ]
     },
     "execution_count": 31,
     "metadata": {},
     "output_type": "execute_result"
    }
   ],
   "source": [
    "model.fit(train_images, train_labels, epochs=5, batch_size=128)"
   ]
  },
  {
   "cell_type": "markdown",
   "id": "1be605d7",
   "metadata": {},
   "source": [
    "- the model iterates on batches of 128 images\n",
    "- It does 5 passes or epochs\n",
    "- Ir performs 2,345 gradient updates"
   ]
  },
  {
   "cell_type": "markdown",
   "id": "5a57a7a4",
   "metadata": {},
   "source": [
    "## Reimplementing the first example from scratch with Tensorflow\n",
    "\n",
    "- Here we will barely using any keras functions"
   ]
  },
  {
   "cell_type": "code",
   "execution_count": 32,
   "id": "4914e1d4",
   "metadata": {},
   "outputs": [],
   "source": [
    "# The dense layer\n",
    "import tensorflow as tf \n",
    "\n",
    "class NaiveDense:\n",
    "    def __init__(self, input_size, output_size, activation):\n",
    "        self.activation = activation\n",
    "        \n",
    "        w_shape = (input_size, output_size)\n",
    "        w_initial_value = tf.random.uniform(w_shape, minval=0, maxval=1e-1)\n",
    "        self.W = tf.Variable(w_initial_value)\n",
    "        \n",
    "        b_shape = (output_size,)\n",
    "        b_initial_value = tf.zeros(b_shape)\n",
    "        self.b = tf.Variable(b_initial_value)\n",
    "        \n",
    "    def __call__(self, inputs):\n",
    "        return self.activation(tf.matmul(inputs, self.W) + self.b)\n",
    "    \n",
    "    @property\n",
    "    def weights(self):\n",
    "        return [self.W, self.b]\n",
    "        \n",
    "    "
   ]
  },
  {
   "cell_type": "code",
   "execution_count": 33,
   "id": "925703c6",
   "metadata": {},
   "outputs": [],
   "source": [
    "class NaiveSequential:\n",
    "    def __init__(self, layers):\n",
    "        self.layers = layers\n",
    "        \n",
    "    def __call__(self, inputs):\n",
    "        x = inputs\n",
    "        for layer in self.layers:\n",
    "            x = layer(x)\n",
    "        return x\n",
    "    \n",
    "    @property\n",
    "    def weights(self):\n",
    "        weights = []\n",
    "        for layer in self.layers:\n",
    "            weights += layer.weights\n",
    "        return weights"
   ]
  },
  {
   "cell_type": "code",
   "execution_count": 34,
   "id": "632feb0d",
   "metadata": {},
   "outputs": [],
   "source": [
    "model = NaiveSequential([\n",
    "    NaiveDense(input_size=28*28, output_size=512, activation=tf.nn.relu),\n",
    "    NaiveDense(input_size=512, output_size=10, activation=tf.nn.relu),\n",
    "    \n",
    "])\n",
    "\n",
    "assert len(model.weights) == 4"
   ]
  },
  {
   "cell_type": "code",
   "execution_count": 35,
   "id": "3e444fc3",
   "metadata": {},
   "outputs": [],
   "source": [
    "import math\n",
    "\n",
    "class BatchGenerator:\n",
    "    def __init__(self, images, labels, batch_size=128):\n",
    "        assert len(images) == len(labels)\n",
    "        self.index = 0\n",
    "        self.images =images\n",
    "        self.labels = labels\n",
    "        self.batch_size = batch_size\n",
    "        self.num_batches = math.ceil(len(images)/batch_size)\n",
    "        \n",
    "    def next(self):\n",
    "        images = self.images[self.index : self.index + self.batch_size]\n",
    "        labels = self.labels[self.index : self.index + self.batch_size]\n",
    "        self.index += self.batch_size\n",
    "        return images, labels\n",
    "    \n",
    "    "
   ]
  },
  {
   "cell_type": "code",
   "execution_count": 36,
   "id": "498fe47f",
   "metadata": {},
   "outputs": [],
   "source": [
    "learning_rate = 1e-3\n",
    "\n",
    "def update_weights(gradients, weights):\n",
    "    for g, w in zip(gradients, weights):\n",
    "        w.assign_sub(g * learning_rate)"
   ]
  },
  {
   "cell_type": "code",
   "execution_count": 37,
   "id": "f0ab2358",
   "metadata": {},
   "outputs": [],
   "source": [
    "def one_training_step(model, images_batch, labels_batch):\n",
    "    with tf.GradientTape() as tape:\n",
    "        predictions = model(images_batch)\n",
    "        per_sample_losses = tf.keras.losses.sparse_categorical_crossentropy(labels_batch, predictions)\n",
    "        average_loss = tf.reduce_mean(per_sample_losses)\n",
    "    \n",
    "    gradients = tape.gradient(average_loss, model.weights)\n",
    "    update_weights(gradients, model.weights)\n",
    "    return average_loss"
   ]
  },
  {
   "cell_type": "code",
   "execution_count": 38,
   "id": "c820a5e9",
   "metadata": {},
   "outputs": [],
   "source": [
    "def fit(model, images, labels, epochs, batch_size=128):\n",
    "    for epoch_counter in range(epochs):\n",
    "        print(f\"Epoch {epoch_counter}\")\n",
    "        batch_generator = BatchGenerator(images, labels)\n",
    "        for batch_counter in range(batch_generator.num_batches):\n",
    "            images_batch, labels_batch = batch_generator.next()\n",
    "            loss = one_training_step(model, images_batch, labels_batch)\n",
    "            if batch_counter % 100 == 0:\n",
    "                print(f\"loss at batch {batch_counter}: {loss:.2f}\")"
   ]
  },
  {
   "cell_type": "code",
   "execution_count": 39,
   "id": "36d6b604",
   "metadata": {},
   "outputs": [
    {
     "name": "stdout",
     "output_type": "stream",
     "text": [
      "Epoch 0\n",
      "loss at batch 0: 2.30\n",
      "loss at batch 100: 2.30\n",
      "loss at batch 200: 2.30\n",
      "loss at batch 300: 2.30\n",
      "loss at batch 400: 2.30\n",
      "Epoch 1\n",
      "loss at batch 0: 2.30\n",
      "loss at batch 100: 2.30\n",
      "loss at batch 200: 2.30\n",
      "loss at batch 300: 2.30\n",
      "loss at batch 400: 2.30\n",
      "Epoch 2\n",
      "loss at batch 0: 2.30\n",
      "loss at batch 100: 2.30\n",
      "loss at batch 200: 2.30\n",
      "loss at batch 300: 2.30\n",
      "loss at batch 400: 2.30\n",
      "Epoch 3\n",
      "loss at batch 0: 2.30\n",
      "loss at batch 100: 2.30\n",
      "loss at batch 200: 2.30\n",
      "loss at batch 300: 2.30\n",
      "loss at batch 400: 2.30\n",
      "Epoch 4\n",
      "loss at batch 0: 2.30\n",
      "loss at batch 100: 2.30\n",
      "loss at batch 200: 2.30\n",
      "loss at batch 300: 2.30\n",
      "loss at batch 400: 2.30\n",
      "Epoch 5\n",
      "loss at batch 0: 2.30\n",
      "loss at batch 100: 2.30\n",
      "loss at batch 200: 2.30\n",
      "loss at batch 300: 2.30\n",
      "loss at batch 400: 2.30\n",
      "Epoch 6\n",
      "loss at batch 0: 2.30\n",
      "loss at batch 100: 2.30\n",
      "loss at batch 200: 2.30\n",
      "loss at batch 300: 2.30\n",
      "loss at batch 400: 2.30\n",
      "Epoch 7\n",
      "loss at batch 0: 2.30\n",
      "loss at batch 100: 2.30\n",
      "loss at batch 200: 2.30\n",
      "loss at batch 300: 2.30\n",
      "loss at batch 400: 2.30\n",
      "Epoch 8\n",
      "loss at batch 0: 2.30\n",
      "loss at batch 100: 2.30\n",
      "loss at batch 200: 2.30\n",
      "loss at batch 300: 2.30\n",
      "loss at batch 400: 2.30\n",
      "Epoch 9\n",
      "loss at batch 0: 2.30\n",
      "loss at batch 100: 2.30\n",
      "loss at batch 200: 2.30\n",
      "loss at batch 300: 2.30\n",
      "loss at batch 400: 2.30\n"
     ]
    }
   ],
   "source": [
    "from tensorflow.keras.datasets import mnist\n",
    "(train_images, train_labels), (test_images, test_labels) = mnist.load_data()\n",
    "\n",
    "train_images = train_images.reshape((60_000, 28*28))\n",
    "train_images = train_images.astype(\"float32\") / 255\n",
    "test_images = test_images.reshape((10_000, 28*28))\n",
    "test_images = test_images.astype(\"float32\") / 255\n",
    "\n",
    "fit(model, train_images, train_labels, epochs=10, batch_size=128)"
   ]
  },
  {
   "cell_type": "code",
   "execution_count": 40,
   "id": "0b3dbd59",
   "metadata": {},
   "outputs": [
    {
     "name": "stdout",
     "output_type": "stream",
     "text": [
      "accuracy: 0.10\n"
     ]
    }
   ],
   "source": [
    "# Evaluating the Model\n",
    "predictions = model(test_images)\n",
    "predictions = predictions.numpy()\n",
    "predicted_labels = np.argmax(predictions, axis=1)\n",
    "matches = predicted_labels == test_labels\n",
    "print(f\"accuracy: {matches.mean():.2f}\")"
   ]
  },
  {
   "cell_type": "markdown",
   "id": "81ac977e",
   "metadata": {},
   "source": [
    "# Chapter 3 - Intro to Keras and Tensorflow"
   ]
  },
  {
   "cell_type": "markdown",
   "id": "1c9d2988",
   "metadata": {},
   "source": [
    "## First steps with Tensorflow"
   ]
  },
  {
   "cell_type": "code",
   "execution_count": 41,
   "id": "71ebe8cd",
   "metadata": {},
   "outputs": [
    {
     "data": {
      "text/plain": [
       "<tf.Tensor: shape=(2, 1), dtype=float32, numpy=\n",
       "array([[1.],\n",
       "       [1.]], dtype=float32)>"
      ]
     },
     "metadata": {},
     "output_type": "display_data"
    },
    {
     "data": {
      "text/plain": [
       "<tf.Tensor: shape=(2, 1), dtype=float32, numpy=\n",
       "array([[0.],\n",
       "       [0.]], dtype=float32)>"
      ]
     },
     "metadata": {},
     "output_type": "display_data"
    }
   ],
   "source": [
    "# All ones or zeroes\n",
    "import tensorflow as tf\n",
    "x = tf.ones(shape=(2,1))\n",
    "display(x)\n",
    "\n",
    "x = tf.zeros(shape=(2,1))\n",
    "display(x)"
   ]
  },
  {
   "cell_type": "code",
   "execution_count": 42,
   "id": "c699c195",
   "metadata": {},
   "outputs": [
    {
     "data": {
      "text/plain": [
       "<tf.Tensor: shape=(3, 1), dtype=float32, numpy=\n",
       "array([[-1.7925768 ],\n",
       "       [ 0.7202902 ],\n",
       "       [ 0.43485546]], dtype=float32)>"
      ]
     },
     "metadata": {},
     "output_type": "display_data"
    },
    {
     "data": {
      "text/plain": [
       "<tf.Tensor: shape=(3, 1), dtype=float32, numpy=\n",
       "array([[0.08036411],\n",
       "       [0.63500524],\n",
       "       [0.16099215]], dtype=float32)>"
      ]
     },
     "metadata": {},
     "output_type": "display_data"
    }
   ],
   "source": [
    "# Random Tensors\n",
    "x = tf.random.normal(shape=(3,1), mean=0, stddev=1.)\n",
    "display(x)\n",
    "\n",
    "x = tf.random.uniform(shape=(3,1), minval=0, maxval=1.)\n",
    "display(x)"
   ]
  },
  {
   "cell_type": "markdown",
   "id": "2d60c4ed",
   "metadata": {},
   "source": [
    "- Numpy arrays are assignable\n",
    "- Tensors are not"
   ]
  },
  {
   "cell_type": "code",
   "execution_count": 43,
   "id": "70e302d4",
   "metadata": {},
   "outputs": [
    {
     "data": {
      "text/plain": [
       "<tf.Variable 'Variable:0' shape=(3, 1) dtype=float32, numpy=\n",
       "array([[ 0.11695773],\n",
       "       [ 1.5170219 ],\n",
       "       [-0.88801455]], dtype=float32)>"
      ]
     },
     "metadata": {},
     "output_type": "display_data"
    }
   ],
   "source": [
    "# Tensor variables\n",
    "v = tf.Variable(initial_value=tf.random.normal(shape=(3,1)))\n",
    "display(v)"
   ]
  },
  {
   "cell_type": "code",
   "execution_count": 44,
   "id": "3ba89bab",
   "metadata": {},
   "outputs": [
    {
     "data": {
      "text/plain": [
       "<tf.Variable 'UnreadVariable' shape=(3, 1) dtype=float32, numpy=\n",
       "array([[1.],\n",
       "       [1.],\n",
       "       [1.]], dtype=float32)>"
      ]
     },
     "execution_count": 44,
     "metadata": {},
     "output_type": "execute_result"
    }
   ],
   "source": [
    "# Assigning values to a Tensorflow Variable\n",
    "v.assign(tf.ones((3,1)))\n"
   ]
  },
  {
   "cell_type": "code",
   "execution_count": 45,
   "id": "6c8bf96e",
   "metadata": {},
   "outputs": [
    {
     "data": {
      "text/plain": [
       "<tf.Variable 'UnreadVariable' shape=(3, 1) dtype=float32, numpy=\n",
       "array([[3.],\n",
       "       [1.],\n",
       "       [1.]], dtype=float32)>"
      ]
     },
     "execution_count": 45,
     "metadata": {},
     "output_type": "execute_result"
    }
   ],
   "source": [
    "# You can assign to a subset\n",
    "v[0,0].assign(3.)"
   ]
  },
  {
   "cell_type": "code",
   "execution_count": 46,
   "id": "9086dc11",
   "metadata": {},
   "outputs": [
    {
     "data": {
      "text/plain": [
       "<tf.Variable 'UnreadVariable' shape=(3, 1) dtype=float32, numpy=\n",
       "array([[4.],\n",
       "       [2.],\n",
       "       [2.]], dtype=float32)>"
      ]
     },
     "execution_count": 46,
     "metadata": {},
     "output_type": "execute_result"
    }
   ],
   "source": [
    "# Assign Add\n",
    "v.assign_add(tf.ones((3,1)))"
   ]
  },
  {
   "cell_type": "code",
   "execution_count": 47,
   "id": "035a73f3",
   "metadata": {},
   "outputs": [
    {
     "data": {
      "text/plain": [
       "<tf.Variable 'UnreadVariable' shape=(3, 1) dtype=float32, numpy=\n",
       "array([[3.],\n",
       "       [1.],\n",
       "       [1.]], dtype=float32)>"
      ]
     },
     "execution_count": 47,
     "metadata": {},
     "output_type": "execute_result"
    }
   ],
   "source": [
    "# Assign subtract\n",
    "v.assign_sub(tf.ones((3,1)))"
   ]
  },
  {
   "cell_type": "code",
   "execution_count": 48,
   "id": "cb6b4d42",
   "metadata": {},
   "outputs": [
    {
     "data": {
      "text/plain": [
       "<tf.Tensor: shape=(2, 2), dtype=float32, numpy=\n",
       "array([[1., 1.],\n",
       "       [1., 1.]], dtype=float32)>"
      ]
     },
     "metadata": {},
     "output_type": "display_data"
    },
    {
     "data": {
      "text/plain": [
       "<tf.Tensor: shape=(2, 2), dtype=float32, numpy=\n",
       "array([[1., 1.],\n",
       "       [1., 1.]], dtype=float32)>"
      ]
     },
     "metadata": {},
     "output_type": "display_data"
    },
    {
     "data": {
      "text/plain": [
       "<tf.Tensor: shape=(2, 2), dtype=float32, numpy=\n",
       "array([[1., 1.],\n",
       "       [1., 1.]], dtype=float32)>"
      ]
     },
     "metadata": {},
     "output_type": "display_data"
    },
    {
     "data": {
      "text/plain": [
       "<tf.Tensor: shape=(2, 2), dtype=float32, numpy=\n",
       "array([[2., 2.],\n",
       "       [2., 2.]], dtype=float32)>"
      ]
     },
     "metadata": {},
     "output_type": "display_data"
    },
    {
     "data": {
      "text/plain": [
       "<tf.Tensor: shape=(2, 2), dtype=float32, numpy=\n",
       "array([[4., 4.],\n",
       "       [4., 4.]], dtype=float32)>"
      ]
     },
     "metadata": {},
     "output_type": "display_data"
    }
   ],
   "source": [
    "# Tensor Math\n",
    "a = tf.ones((2,2))\n",
    "b = tf.square(a)\n",
    "c = tf.sqrt(a)\n",
    "d = b + c \n",
    "e = tf.matmul(a, b)\n",
    "e *= d\n",
    "\n",
    "display(a)\n",
    "display(b)\n",
    "display(c)\n",
    "display(d)\n",
    "display(e)"
   ]
  },
  {
   "cell_type": "markdown",
   "id": "dcfc1372",
   "metadata": {},
   "source": [
    "## Gradient Tape API"
   ]
  },
  {
   "cell_type": "code",
   "execution_count": 49,
   "id": "6e214f39",
   "metadata": {},
   "outputs": [],
   "source": [
    "# Gradient with a Variable\n",
    "input_var = tf.Variable(initial_value=3.)\n",
    "with tf.GradientTape() as tape:\n",
    "    result = tf.square(input_var)\n",
    "\n",
    "gradient = tape.gradient(result, input_var)"
   ]
  },
  {
   "cell_type": "code",
   "execution_count": 50,
   "id": "6411b301",
   "metadata": {},
   "outputs": [
    {
     "data": {
      "text/plain": [
       "<tf.Tensor: shape=(), dtype=float32, numpy=6.0>"
      ]
     },
     "execution_count": 50,
     "metadata": {},
     "output_type": "execute_result"
    }
   ],
   "source": [
    "gradient"
   ]
  },
  {
   "cell_type": "code",
   "execution_count": 51,
   "id": "7985d373",
   "metadata": {},
   "outputs": [],
   "source": [
    "# Gradient with a Constant\n",
    "input_const = tf.constant(3.)\n",
    "with tf.GradientTape() as tape:\n",
    "    tape.watch(input_const)\n",
    "    result = tf.square(result, input_const)\n",
    "    \n",
    "gradient = tape.gradient(result, input_const)"
   ]
  },
  {
   "cell_type": "code",
   "execution_count": 52,
   "id": "e148bed5",
   "metadata": {},
   "outputs": [],
   "source": [
    "# Second order gradient\n",
    "time = tf.Variable(0.)\n",
    "with tf.GradientTape() as outer_tape:\n",
    "    with tf.GradientTape() as inner_tape:\n",
    "        position = 4.9 * time**2\n",
    "    speed = inner_tape.gradient(position, time)\n",
    "acceleration = outer_tape.gradient(speed, time)"
   ]
  },
  {
   "cell_type": "markdown",
   "id": "90c287c6",
   "metadata": {},
   "source": [
    "## An End to End Example: A Linear Classifier"
   ]
  },
  {
   "cell_type": "code",
   "execution_count": 53,
   "id": "cc5a30d8",
   "metadata": {},
   "outputs": [
    {
     "data": {
      "image/png": "[encoded data removed]",
      "text/plain": [
       "<Figure size 640x480 with 1 Axes>"
      ]
     },
     "metadata": {},
     "output_type": "display_data"
    }
   ],
   "source": [
    "# Create the data\n",
    "num_samples_per_class = 1000\n",
    "negative_samples = np.random.multivariate_normal(mean=[0,3], \n",
    "                                                 cov=[[1, 0.5],[0.5, 1]],\n",
    "                                                 size=num_samples_per_class)\n",
    "positive_samples = np.random.multivariate_normal(mean=[3,0], \n",
    "                                                 cov=[[1, 0.5],[0.5, 1]],\n",
    "                                                 size=num_samples_per_class)\n",
    "\n",
    "# Stack the data\n",
    "inputs = np.vstack((negative_samples, positive_samples)).astype(np.float32)\n",
    "\n",
    "# Generate the targets\n",
    "targets = np.vstack((np.zeros((num_samples_per_class, 1), dtype=\"float32\"),\n",
    "                     np.ones((num_samples_per_class, 1), dtype=\"float32\")))\n",
    "\n",
    "# Plot the data\n",
    "import matplotlib.pyplot as plt \n",
    "plt.scatter(inputs[:, 0], inputs[:, 1], c=targets[:,0])\n",
    "plt.show()"
   ]
  },
  {
   "cell_type": "code",
   "execution_count": 54,
   "id": "9b8a6fe7",
   "metadata": {},
   "outputs": [],
   "source": [
    "# Create the linear classifier\n",
    "input_dim = 2               # 2d input points\n",
    "output_dim = 1              # One score per sample (0 or 1)\n",
    "\n",
    "# Create W, b\n",
    "W = tf.Variable(initial_value=tf.random.uniform(shape=(input_dim, output_dim)))\n",
    "b = tf.Variable(initial_value=tf.zeros(shape=(output_dim, )))\n",
    "\n",
    "# Create the forward pass function\n",
    "def model(inputs):\n",
    "    return tf.matmul(inputs, W) + b\n",
    "\n",
    "# Define the loss function\n",
    "def square_loss(targets, predictions):\n",
    "    per_sample_losses = tf.square(targets - predictions)\n",
    "    return tf.reduce_mean(per_sample_losses)\n",
    "\n",
    "learning_rate = 0.1\n",
    "\n",
    "# Define the training step\n",
    "def training_step(inputs, targets):\n",
    "    \n",
    "    with tf.GradientTape() as tape:\n",
    "        predictions = model(inputs)\n",
    "        loss = square_loss(targets, predictions)\n",
    "    \n",
    "    grad_loss_wrt_W, grad_loss_wrt_b = tape.gradient(loss, [W, b])\n",
    "    W.assign_sub(grad_loss_wrt_W * learning_rate)\n",
    "    b.assign_sub(grad_loss_wrt_b * learning_rate)\n",
    "    \n",
    "    return loss"
   ]
  },
  {
   "cell_type": "markdown",
   "id": "0563ba40",
   "metadata": {},
   "source": [
    "Here we do just batch trainoing instead of mini batch"
   ]
  },
  {
   "cell_type": "code",
   "execution_count": 55,
   "id": "51b8b917",
   "metadata": {},
   "outputs": [
    {
     "name": "stdout",
     "output_type": "stream",
     "text": [
      "Loss at step 0: 0.3834\n",
      "Loss at step 1: 0.0850\n",
      "Loss at step 2: 0.0795\n",
      "Loss at step 3: 0.0749\n",
      "Loss at step 4: 0.0708\n",
      "Loss at step 5: 0.0670\n",
      "Loss at step 6: 0.0636\n",
      "Loss at step 7: 0.0604\n",
      "Loss at step 8: 0.0576\n",
      "Loss at step 9: 0.0549\n",
      "Loss at step 10: 0.0525\n",
      "Loss at step 11: 0.0503\n",
      "Loss at step 12: 0.0483\n",
      "Loss at step 13: 0.0465\n",
      "Loss at step 14: 0.0448\n",
      "Loss at step 15: 0.0432\n",
      "Loss at step 16: 0.0418\n",
      "Loss at step 17: 0.0405\n",
      "Loss at step 18: 0.0394\n",
      "Loss at step 19: 0.0383\n",
      "Loss at step 20: 0.0373\n",
      "Loss at step 21: 0.0364\n",
      "Loss at step 22: 0.0356\n",
      "Loss at step 23: 0.0348\n",
      "Loss at step 24: 0.0342\n",
      "Loss at step 25: 0.0335\n",
      "Loss at step 26: 0.0330\n",
      "Loss at step 27: 0.0324\n",
      "Loss at step 28: 0.0320\n",
      "Loss at step 29: 0.0315\n",
      "Loss at step 30: 0.0311\n",
      "Loss at step 31: 0.0308\n",
      "Loss at step 32: 0.0304\n",
      "Loss at step 33: 0.0301\n",
      "Loss at step 34: 0.0298\n",
      "Loss at step 35: 0.0296\n",
      "Loss at step 36: 0.0293\n",
      "Loss at step 37: 0.0291\n",
      "Loss at step 38: 0.0289\n",
      "Loss at step 39: 0.0288\n",
      "Loss at step 40: 0.0286\n",
      "Loss at step 41: 0.0284\n",
      "Loss at step 42: 0.0283\n",
      "Loss at step 43: 0.0282\n",
      "Loss at step 44: 0.0281\n",
      "Loss at step 45: 0.0280\n",
      "Loss at step 46: 0.0279\n",
      "Loss at step 47: 0.0278\n",
      "Loss at step 48: 0.0277\n",
      "Loss at step 49: 0.0276\n",
      "Loss at step 50: 0.0276\n",
      "Loss at step 51: 0.0275\n",
      "Loss at step 52: 0.0274\n",
      "Loss at step 53: 0.0274\n",
      "Loss at step 54: 0.0273\n",
      "Loss at step 55: 0.0273\n",
      "Loss at step 56: 0.0273\n",
      "Loss at step 57: 0.0272\n",
      "Loss at step 58: 0.0272\n",
      "Loss at step 59: 0.0272\n",
      "Loss at step 60: 0.0271\n",
      "Loss at step 61: 0.0271\n",
      "Loss at step 62: 0.0271\n",
      "Loss at step 63: 0.0271\n",
      "Loss at step 64: 0.0271\n",
      "Loss at step 65: 0.0270\n",
      "Loss at step 66: 0.0270\n",
      "Loss at step 67: 0.0270\n",
      "Loss at step 68: 0.0270\n",
      "Loss at step 69: 0.0270\n",
      "Loss at step 70: 0.0270\n",
      "Loss at step 71: 0.0270\n",
      "Loss at step 72: 0.0270\n",
      "Loss at step 73: 0.0269\n",
      "Loss at step 74: 0.0269\n",
      "Loss at step 75: 0.0269\n",
      "Loss at step 76: 0.0269\n",
      "Loss at step 77: 0.0269\n",
      "Loss at step 78: 0.0269\n",
      "Loss at step 79: 0.0269\n",
      "Loss at step 80: 0.0269\n",
      "Loss at step 81: 0.0269\n",
      "Loss at step 82: 0.0269\n",
      "Loss at step 83: 0.0269\n",
      "Loss at step 84: 0.0269\n",
      "Loss at step 85: 0.0269\n",
      "Loss at step 86: 0.0269\n",
      "Loss at step 87: 0.0269\n",
      "Loss at step 88: 0.0269\n",
      "Loss at step 89: 0.0269\n",
      "Loss at step 90: 0.0269\n",
      "Loss at step 91: 0.0269\n",
      "Loss at step 92: 0.0269\n",
      "Loss at step 93: 0.0269\n",
      "Loss at step 94: 0.0269\n",
      "Loss at step 95: 0.0269\n",
      "Loss at step 96: 0.0269\n",
      "Loss at step 97: 0.0269\n",
      "Loss at step 98: 0.0269\n",
      "Loss at step 99: 0.0269\n"
     ]
    }
   ],
   "source": [
    "# The batch training loop\n",
    "for step in range(100):\n",
    "    loss = training_step(inputs, targets)\n",
    "    print(f\"Loss at step {step}: {loss:.4f}\")"
   ]
  },
  {
   "cell_type": "code",
   "execution_count": 56,
   "id": "b621889a",
   "metadata": {},
   "outputs": [
    {
     "data": {
      "image/png": "[encoded data removed]",
      "text/plain": [
       "<Figure size 640x480 with 1 Axes>"
      ]
     },
     "metadata": {},
     "output_type": "display_data"
    }
   ],
   "source": [
    "# Plot the results\n",
    "predictions = model(inputs)\n",
    "plt.scatter(inputs[:, 0], inputs[:, 1], c=predictions[:, 0] > 0.5)\n",
    "plt.show()"
   ]
  },
  {
   "cell_type": "code",
   "execution_count": 57,
   "id": "157239a2",
   "metadata": {},
   "outputs": [
    {
     "data": {
      "text/plain": [
       "<matplotlib.collections.PathCollection at 0x791d18612320>"
      ]
     },
     "execution_count": 57,
     "metadata": {},
     "output_type": "execute_result"
    },
    {
     "data": {
      "image/png": "[encoded data removed]",
      "text/plain": [
       "<Figure size 640x480 with 1 Axes>"
      ]
     },
     "metadata": {},
     "output_type": "display_data"
    }
   ],
   "source": [
    "x = np.linspace(-1, 4, 100)\n",
    "y = - W[0] / W[1] * x + (0.5 - b) / W[1]\n",
    "plt.plot(x, y, \"-r\")\n",
    "plt.scatter(inputs[:, 0], inputs[:, 1], c=predictions[:, 0] > 0.5)"
   ]
  },
  {
   "cell_type": "markdown",
   "id": "4a0205e0",
   "metadata": {},
   "source": [
    "## Anatomy of a Neural Network"
   ]
  },
  {
   "cell_type": "markdown",
   "id": "50d47a82",
   "metadata": {},
   "source": [
    "### Layers\n",
    "\n",
    "Layers are data processing modules that take as input one or more tensors and that\n",
    "output one or more tensors. Some layers are stateless, but more frequently layers\n",
    "have a state, the weights.\n",
    "\n",
    "There are different types of layers\n",
    "\n",
    "- Dense: often used for (sample, features), rank 2, ie tabular data\n",
    "- Recurrent layers: Time series, (samples, timesteps, features),\n",
    "  LSTM layers, or 1D convolution (Conv1D)). Image data, rank 4 tensors are\n",
    "  processed by Conv2D.\n",
    "\n",
    "Layers are the building blocks of deep learning\n",
    "\n",
    "#### The Base Layer\n",
    "\n",
    "The `Layer` class is what other layers inherit from. It captures a state and \n",
    "some computation. The weights are defined in a `build()` constructor. The computation\n",
    "is in the `call()` method.\n",
    "\n",
    "##### Implementing a custom layer"
   ]
  },
  {
   "cell_type": "code",
   "execution_count": 58,
   "id": "921ae0ba",
   "metadata": {},
   "outputs": [],
   "source": [
    "from tensorflow import keras\n",
    "\n",
    "class SimpleDense(keras.layers.Layer):                                          # 1\n",
    "    def __init__(self, units, activation=None):\n",
    "        super().__init__()\n",
    "        self.units = units\n",
    "        self.activation = activation\n",
    "        \n",
    "    def build(self, input_shape):                                               # 2\n",
    "        input_dim = input_shape[-1]\n",
    "        self.W = self.add_weight(shape=(input_dim, self.units),                 # 3\n",
    "                                 initializer='random_normal')\n",
    "        self.b = self.add_weight(shape=(self.units,),\n",
    "                                 initializer=\"zeros\")\n",
    "        \n",
    "    def call(self, inputs):                                                     # 4\n",
    "        y = tf.matmul(inputs, self.W) + self.b\n",
    "        if self.activation is not None:\n",
    "            y = self.activation(y)\n",
    "        return(y)"
   ]
  },
  {
   "cell_type": "markdown",
   "id": "9bc798b1",
   "metadata": {},
   "source": [
    "1. All Keras Layers inherit from `Layer`\n",
    "2. Weight (stateful variables) creation happens in `build()`\n",
    "3. add_weight() is a shortcut method for creating weights. It can also be done by\n",
    "   creating standalone variables and assign them as layer attributes, like\n",
    "   `self.W = tf.Variable(tf.random.uniform(w_shape))\n",
    "4. We define the forward pass computation in the `call()`\n",
    "\n",
    "Layer compatibility refers to the fact that every layer will only accept input tensors\n",
    "of a certain shape and return tensors of a certain shape.\n",
    "\n",
    "Most Keras layers require you to worry about size compatibility. They are dynamically\n",
    "built to recognize the inputs."
   ]
  },
  {
   "cell_type": "code",
   "execution_count": 59,
   "id": "44e8741b",
   "metadata": {},
   "outputs": [
    {
     "name": "stdout",
     "output_type": "stream",
     "text": [
      "(2, 32)\n"
     ]
    }
   ],
   "source": [
    "my_dense = SimpleDense(units=32, activation=tf.nn.relu)\n",
    "input_tensor = tf.ones(shape=(2, 784))\n",
    "output_tensor = my_dense(input_tensor)\n",
    "print(output_tensor.shape)"
   ]
  },
  {
   "cell_type": "markdown",
   "id": "74ef7410",
   "metadata": {},
   "source": [
    "Note that the `__call__()` method handles shape inference and other things like\n",
    "the routing between eager and graph execution. Just remember, when implementing\n",
    "your own layers put your foreword pass logic in your `call()` method.\n",
    "\n",
    "To learn from data, you tend to make assumptions. These assumptions define what\n",
    "can be learned, ie the structure of your hypothesis space. The architecture of your\n",
    "model is very important. It encodes the assumptions about the problem in your\n",
    "model. For example, if you are working on a two class classification problem with\n",
    "a single dense layer with no activation (a pure affine transformation), you are assuming\n",
    "your two classes are linearly separable.\n",
    "\n",
    "Picking the right network is more art than science, though there are some best practices.\n",
    "\n",
    "In addition to specifying your architecture you have to choose the following:\n",
    "\n",
    "- Loss Function\n",
    "- Optimizer\n",
    "- Metrics for evaluation"
   ]
  },
  {
   "cell_type": "code",
   "execution_count": 60,
   "id": "6708f209",
   "metadata": {},
   "outputs": [],
   "source": [
    "model = keras.Sequential([keras.layers.Dense(1)])\n",
    "model.compile(optimizer='rmsprop',\n",
    "              loss='mean_squared_error',\n",
    "              metrics=['accuracy'])"
   ]
  },
  {
   "cell_type": "markdown",
   "id": "c0c16985",
   "metadata": {},
   "source": [
    "Note the strings above are actual shortcuts for the related objects. These objects\n",
    "can have parameters of their own. See below"
   ]
  },
  {
   "cell_type": "code",
   "execution_count": 61,
   "id": "d009ee6d",
   "metadata": {},
   "outputs": [],
   "source": [
    "model.compile(optimizer=keras.optimizers.RMSprop(learning_rate=1e-4),\n",
    "              loss=keras.losses.MeanSquaredError(),\n",
    "              metrics=[keras.metrics.BinaryAccuracy()])"
   ]
  },
  {
   "cell_type": "markdown",
   "id": "6379c002",
   "metadata": {},
   "source": [
    "### Picking a Loss Function\n",
    "\n",
    "This is very important. The optimization will take any shortcut to minimize the\n",
    "loss function. There are some simple guidelines to choosing the correct loss\n",
    "function for most common problems.\n",
    "\n",
    "- Two Class Classification: Binary Crossentropy\n",
    "- Many Class Classification: Categorical Crossentropy\n",
    "- ...More to come\n",
    "\n",
    "### The Fit Method\n",
    "\n",
    "Arguments\n",
    "\n",
    "- Inputs (numpy array or TF dataset): the training set\n",
    "- Targets: The target values for the data set\n",
    "- Epochs: number of times the training loop executes\n",
    "- Batch Size: size of the mini batch gradient descent training examples\n"
   ]
  },
  {
   "cell_type": "code",
   "execution_count": 62,
   "id": "a46d09ce",
   "metadata": {},
   "outputs": [
    {
     "name": "stdout",
     "output_type": "stream",
     "text": [
      "Epoch 1/5\n",
      "\u001b[1m16/16\u001b[0m \u001b[32m━━━━━━━━━━━━━━━━━━━━\u001b[0m\u001b[37m\u001b[0m \u001b[1m1s\u001b[0m 5ms/step - binary_accuracy: 0.6021 - loss: 0.6302  \n",
      "Epoch 2/5\n",
      "\u001b[1m16/16\u001b[0m \u001b[32m━━━━━━━━━━━━━━━━━━━━\u001b[0m\u001b[37m\u001b[0m \u001b[1m0s\u001b[0m 4ms/step - binary_accuracy: 0.5997 - loss: 0.5949 \n",
      "Epoch 3/5\n",
      "\u001b[1m16/16\u001b[0m \u001b[32m━━━━━━━━━━━━━━━━━━━━\u001b[0m\u001b[37m\u001b[0m \u001b[1m0s\u001b[0m 4ms/step - binary_accuracy: 0.6003 - loss: 0.6016 \n",
      "Epoch 4/5\n",
      "\u001b[1m16/16\u001b[0m \u001b[32m━━━━━━━━━━━━━━━━━━━━\u001b[0m\u001b[37m\u001b[0m \u001b[1m0s\u001b[0m 4ms/step - binary_accuracy: 0.6062 - loss: 0.6067 \n",
      "Epoch 5/5\n",
      "\u001b[1m16/16\u001b[0m \u001b[32m━━━━━━━━━━━━━━━━━━━━\u001b[0m\u001b[37m\u001b[0m \u001b[1m0s\u001b[0m 5ms/step - binary_accuracy: 0.6063 - loss: 0.5963 \n"
     ]
    }
   ],
   "source": [
    "# Calling .fit()\n",
    "history = model.fit(\n",
    "    inputs,\n",
    "    targets,\n",
    "    epochs=5,\n",
    "    batch_size=128\n",
    ")"
   ]
  },
  {
   "cell_type": "markdown",
   "id": "8633bf30",
   "metadata": {},
   "source": [
    "### The History Object\n",
    "\n",
    "This object contains the results of the epochs. Note that these are the in sample\n",
    "values"
   ]
  },
  {
   "cell_type": "code",
   "execution_count": 63,
   "id": "bbab72d5",
   "metadata": {},
   "outputs": [
    {
     "data": {
      "text/plain": [
       "{'binary_accuracy': [0.6004999876022339,\n",
       "  0.6019999980926514,\n",
       "  0.6010000109672546,\n",
       "  0.6029999852180481,\n",
       "  0.6044999957084656],\n",
       " 'loss': [0.6232115626335144,\n",
       "  0.6127337217330933,\n",
       "  0.6038077473640442,\n",
       "  0.5952227711677551,\n",
       "  0.5867658853530884]}"
      ]
     },
     "execution_count": 63,
     "metadata": {},
     "output_type": "execute_result"
    }
   ],
   "source": [
    "history.history"
   ]
  },
  {
   "cell_type": "markdown",
   "id": "4a84c80e",
   "metadata": {},
   "source": [
    "### Monitoring Loss and Metrics on the Validation Set\n",
    "\n",
    "You can use the `validation_data` argument on the `fit()` method."
   ]
  },
  {
   "cell_type": "code",
   "execution_count": 64,
   "id": "b483d5a0",
   "metadata": {},
   "outputs": [
    {
     "name": "stdout",
     "output_type": "stream",
     "text": [
      "Epoch 1/5\n",
      "\u001b[1m88/88\u001b[0m \u001b[32m━━━━━━━━━━━━━━━━━━━━\u001b[0m\u001b[37m\u001b[0m \u001b[1m1s\u001b[0m 6ms/step - binary_accuracy: 0.6864 - loss: 2.3838 - val_binary_accuracy: 0.9417 - val_loss: 0.1973\n",
      "Epoch 2/5\n",
      "\u001b[1m88/88\u001b[0m \u001b[32m━━━━━━━━━━━━━━━━━━━━\u001b[0m\u001b[37m\u001b[0m \u001b[1m0s\u001b[0m 4ms/step - binary_accuracy: 0.9492 - loss: 0.0856 - val_binary_accuracy: 0.7583 - val_loss: 0.1542\n",
      "Epoch 3/5\n",
      "\u001b[1m88/88\u001b[0m \u001b[32m━━━━━━━━━━━━━━━━━━━━\u001b[0m\u001b[37m\u001b[0m \u001b[1m0s\u001b[0m 4ms/step - binary_accuracy: 0.9637 - loss: 0.0642 - val_binary_accuracy: 1.0000 - val_loss: 0.0331\n",
      "Epoch 4/5\n",
      "\u001b[1m88/88\u001b[0m \u001b[32m━━━━━━━━━━━━━━━━━━━━\u001b[0m\u001b[37m\u001b[0m \u001b[1m0s\u001b[0m 4ms/step - binary_accuracy: 0.9695 - loss: 0.0653 - val_binary_accuracy: 0.7400 - val_loss: 0.3882\n",
      "Epoch 5/5\n",
      "\u001b[1m88/88\u001b[0m \u001b[32m━━━━━━━━━━━━━━━━━━━━\u001b[0m\u001b[37m\u001b[0m \u001b[1m0s\u001b[0m 5ms/step - binary_accuracy: 0.9614 - loss: 0.0838 - val_binary_accuracy: 0.9900 - val_loss: 0.0399\n"
     ]
    },
    {
     "data": {
      "text/plain": [
       "<keras.src.callbacks.history.History at 0x791d186f36a0>"
      ]
     },
     "execution_count": 64,
     "metadata": {},
     "output_type": "execute_result"
    }
   ],
   "source": [
    "# Define the model\n",
    "model = keras.Sequential([keras.layers.Dense(1)])\n",
    "\n",
    "# Compile the model\n",
    "model.compile(optimizer=keras.optimizers.RMSprop(learning_rate=0.1),\n",
    "              loss=keras.losses.MeanSquaredError(),\n",
    "              metrics=[keras.metrics.BinaryAccuracy()])\n",
    "\n",
    "# Define all of the splits\n",
    "indices_permutation = np.random.permutation(len(inputs))\n",
    "shuffled_inputs = inputs[indices_permutation]\n",
    "shuffled_targets = targets[indices_permutation]\n",
    "num_validation_samples = int(0.3 * len(inputs))\n",
    "val_inputs = shuffled_inputs[:num_validation_samples]\n",
    "val_targets = shuffled_targets[:num_validation_samples]\n",
    "training_inputs = shuffled_inputs[num_validation_samples:]\n",
    "training_targets = shuffled_targets[num_validation_samples:]\n",
    "\n",
    "# Fit the model w/ a validation set\n",
    "model.fit(\n",
    "    training_inputs,\n",
    "    training_targets,\n",
    "    epochs=5,\n",
    "    batch_size=16,\n",
    "    validation_data=(val_inputs, val_targets)\n",
    ")"
   ]
  },
  {
   "cell_type": "markdown",
   "id": "1b5dbf00",
   "metadata": {},
   "source": [
    "Notice that you now get the `val_binary_accuracy` and the `val_loss` that\n",
    "show the accuracy and loss for the validation set\n",
    "\n",
    "Note if you want to calculate the validation loss and metrics after the training\n",
    "is done you can call the `evaluate()` method:"
   ]
  },
  {
   "cell_type": "code",
   "execution_count": 65,
   "id": "0dc825fd",
   "metadata": {},
   "outputs": [
    {
     "name": "stdout",
     "output_type": "stream",
     "text": [
      "\u001b[1m5/5\u001b[0m \u001b[32m━━━━━━━━━━━━━━━━━━━━\u001b[0m\u001b[37m\u001b[0m \u001b[1m0s\u001b[0m 10ms/step - binary_accuracy: 0.9894 - loss: 0.0402\n"
     ]
    },
    {
     "data": {
      "text/plain": [
       "[0.039851944893598557, 0.9900000095367432]"
      ]
     },
     "execution_count": 65,
     "metadata": {},
     "output_type": "execute_result"
    }
   ],
   "source": [
    "# Evaluate the model\n",
    "loss_and_metrics = model.evaluate(val_inputs, val_targets, batch_size=128)\n",
    "loss_and_metrics"
   ]
  },
  {
   "cell_type": "markdown",
   "id": "87aa9d44",
   "metadata": {},
   "source": [
    "### Inference after the model\n",
    "\n",
    "You can use the `predict()` method on the model and specify the batch size.\n",
    "\n",
    "```python\n",
    "predictions = model.predict(new_inputs, batch_size=128)\n",
    "```"
   ]
  },
  {
   "cell_type": "code",
   "execution_count": 66,
   "id": "2ac72f89",
   "metadata": {},
   "outputs": [
    {
     "name": "stdout",
     "output_type": "stream",
     "text": [
      "\u001b[1m5/5\u001b[0m \u001b[32m━━━━━━━━━━━━━━━━━━━━\u001b[0m\u001b[37m\u001b[0m \u001b[1m0s\u001b[0m 13ms/step\n",
      "[[0.87804735]\n",
      " [0.21500733]\n",
      " [0.39308316]\n",
      " [0.18842721]\n",
      " [0.1706998 ]\n",
      " [0.9653599 ]\n",
      " [1.0716197 ]\n",
      " [0.88598883]\n",
      " [0.7179589 ]\n",
      " [0.8121424 ]]\n"
     ]
    }
   ],
   "source": [
    "predictions = model.predict(val_inputs, batch_size=128)\n",
    "print(predictions[:10])"
   ]
  },
  {
   "cell_type": "markdown",
   "id": "a6fa199b",
   "metadata": {},
   "source": [
    "## Summary\n",
    "\n",
    "- Tensorflow is an great framework for numerical computing on CPU, GPU, or TPU.\n",
    "  It calculates gradients and can export programs to various runtimes.\n",
    "- Keras is the standard API for doing deep learning with TensorFlow\n",
    "- The central class of Keras is the Layer. You can inherit from this layer and \n",
    "  create your own layers with custom functionality\n",
    "- Before training your model you have to compile it specifying the optimizer, loss function,\n",
    "  and evaluation metrics.\n",
    "- Training the model is done with the `fit()` method, which runs the optimization.\n",
    "  You can use it to monitor metrics and loss on the training and validation sets.\n",
    "- You can use the `model.predict()` method to make predictions on the model. You \n",
    "  can use the `batch_size` argument to break it into pieces."
   ]
  },
  {
   "cell_type": "markdown",
   "id": "20ad32f1",
   "metadata": {},
   "source": [
    "# Chapter 4 - Getting started: Classification and Regression\n",
    "\n",
    "## Glossary\n",
    "\n",
    "- Sample/input - One datapoint that goes into your model\n",
    "- Prediction or output - What comes out of your model\n",
    "- Target - The truth. What your model should ideally have predicted, according to\n",
    "  external source data\n",
    "- Prediction error or loss value - A measure of he distance between your model prediction\n",
    "  and the target\n",
    "- Classes - A set of possible labels to choose from in a classification problem. For\n",
    "  example, when classifying cat and dog pictures, \"dog\" and \"cat\" are two classes\n",
    "- Label - a specific instance of a class annotation in a classification problem\n",
    "- Ground-truth or annotations - All targets for a dataset, typically collected by humans\n",
    "- Binary Classification - A classification task where each input sample should be categorized\n",
    "  into two exclusive categories\n",
    "- Multiclass classification - A classification task where each input sample should be categorized\n",
    "  into more that two categories\n",
    "- Multilabel classification - A classification task where each input sample can be assigned multiple\n",
    "  lables. One instance can have multiple labels like \"cat\" and \"dog\", for an image containing both\n",
    "- Scalar regression - A task where the tareget is a continous scalar value. Ex. Predicting house\n",
    "  prices.\n",
    "- Vector regression - A task where the target is a set of continous values: for example finding\n",
    "  the bounding box of an image.\n",
    "- Minibatch or batch - a small set of samples (typically between 8 and 128) that are processed\n",
    "  simultaneously by the model. The number of samples is most often a power of 2 to facilitate\n",
    "  memory allocation on a GPU. Each minibatch is used to calculate a single SGD update for the model\n",
    "  weights.\n",
    "\n",
    "## Classifying movie reviews: A binary classification example\n",
    "\n"
   ]
  },
  {
   "cell_type": "code",
   "execution_count": 67,
   "id": "fd7bcd8b",
   "metadata": {},
   "outputs": [],
   "source": [
    "from tensorflow.keras.datasets import imdb\n",
    "(train_data, train_labels), (test_data, test_labels) = imdb.load_data(num_words=10000)"
   ]
  },
  {
   "cell_type": "markdown",
   "id": "ce30d7c1",
   "metadata": {},
   "source": [
    "Note that the data datasets are lists of word indicies. The labels are simply\n",
    "values of 0s and 1s."
   ]
  },
  {
   "cell_type": "code",
   "execution_count": 68,
   "id": "f2cb92c3",
   "metadata": {},
   "outputs": [
    {
     "data": {
      "text/plain": [
       "[1,\n",
       " 14,\n",
       " 22,\n",
       " 16,\n",
       " 43,\n",
       " 530,\n",
       " 973,\n",
       " 1622,\n",
       " 1385,\n",
       " 65,\n",
       " 458,\n",
       " 4468,\n",
       " 66,\n",
       " 3941,\n",
       " 4,\n",
       " 173,\n",
       " 36,\n",
       " 256,\n",
       " 5,\n",
       " 25,\n",
       " 100,\n",
       " 43,\n",
       " 838,\n",
       " 112,\n",
       " 50,\n",
       " 670,\n",
       " 2,\n",
       " 9,\n",
       " 35,\n",
       " 480,\n",
       " 284,\n",
       " 5,\n",
       " 150,\n",
       " 4,\n",
       " 172,\n",
       " 112,\n",
       " 167,\n",
       " 2,\n",
       " 336,\n",
       " 385,\n",
       " 39,\n",
       " 4,\n",
       " 172,\n",
       " 4536,\n",
       " 1111,\n",
       " 17,\n",
       " 546,\n",
       " 38,\n",
       " 13,\n",
       " 447,\n",
       " 4,\n",
       " 192,\n",
       " 50,\n",
       " 16,\n",
       " 6,\n",
       " 147,\n",
       " 2025,\n",
       " 19,\n",
       " 14,\n",
       " 22,\n",
       " 4,\n",
       " 1920,\n",
       " 4613,\n",
       " 469,\n",
       " 4,\n",
       " 22,\n",
       " 71,\n",
       " 87,\n",
       " 12,\n",
       " 16,\n",
       " 43,\n",
       " 530,\n",
       " 38,\n",
       " 76,\n",
       " 15,\n",
       " 13,\n",
       " 1247,\n",
       " 4,\n",
       " 22,\n",
       " 17,\n",
       " 515,\n",
       " 17,\n",
       " 12,\n",
       " 16,\n",
       " 626,\n",
       " 18,\n",
       " 2,\n",
       " 5,\n",
       " 62,\n",
       " 386,\n",
       " 12,\n",
       " 8,\n",
       " 316,\n",
       " 8,\n",
       " 106,\n",
       " 5,\n",
       " 4,\n",
       " 2223,\n",
       " 5244,\n",
       " 16,\n",
       " 480,\n",
       " 66,\n",
       " 3785,\n",
       " 33,\n",
       " 4,\n",
       " 130,\n",
       " 12,\n",
       " 16,\n",
       " 38,\n",
       " 619,\n",
       " 5,\n",
       " 25,\n",
       " 124,\n",
       " 51,\n",
       " 36,\n",
       " 135,\n",
       " 48,\n",
       " 25,\n",
       " 1415,\n",
       " 33,\n",
       " 6,\n",
       " 22,\n",
       " 12,\n",
       " 215,\n",
       " 28,\n",
       " 77,\n",
       " 52,\n",
       " 5,\n",
       " 14,\n",
       " 407,\n",
       " 16,\n",
       " 82,\n",
       " 2,\n",
       " 8,\n",
       " 4,\n",
       " 107,\n",
       " 117,\n",
       " 5952,\n",
       " 15,\n",
       " 256,\n",
       " 4,\n",
       " 2,\n",
       " 7,\n",
       " 3766,\n",
       " 5,\n",
       " 723,\n",
       " 36,\n",
       " 71,\n",
       " 43,\n",
       " 530,\n",
       " 476,\n",
       " 26,\n",
       " 400,\n",
       " 317,\n",
       " 46,\n",
       " 7,\n",
       " 4,\n",
       " 2,\n",
       " 1029,\n",
       " 13,\n",
       " 104,\n",
       " 88,\n",
       " 4,\n",
       " 381,\n",
       " 15,\n",
       " 297,\n",
       " 98,\n",
       " 32,\n",
       " 2071,\n",
       " 56,\n",
       " 26,\n",
       " 141,\n",
       " 6,\n",
       " 194,\n",
       " 7486,\n",
       " 18,\n",
       " 4,\n",
       " 226,\n",
       " 22,\n",
       " 21,\n",
       " 134,\n",
       " 476,\n",
       " 26,\n",
       " 480,\n",
       " 5,\n",
       " 144,\n",
       " 30,\n",
       " 5535,\n",
       " 18,\n",
       " 51,\n",
       " 36,\n",
       " 28,\n",
       " 224,\n",
       " 92,\n",
       " 25,\n",
       " 104,\n",
       " 4,\n",
       " 226,\n",
       " 65,\n",
       " 16,\n",
       " 38,\n",
       " 1334,\n",
       " 88,\n",
       " 12,\n",
       " 16,\n",
       " 283,\n",
       " 5,\n",
       " 16,\n",
       " 4472,\n",
       " 113,\n",
       " 103,\n",
       " 32,\n",
       " 15,\n",
       " 16,\n",
       " 5345,\n",
       " 19,\n",
       " 178,\n",
       " 32]"
      ]
     },
     "metadata": {},
     "output_type": "display_data"
    },
    {
     "data": {
      "text/plain": [
       "np.int64(1)"
      ]
     },
     "metadata": {},
     "output_type": "display_data"
    }
   ],
   "source": [
    "display(train_data[0])\n",
    "display(train_labels[0])"
   ]
  },
  {
   "cell_type": "code",
   "execution_count": 69,
   "id": "e507d568",
   "metadata": {},
   "outputs": [
    {
     "data": {
      "text/plain": [
       "\"?thisfilmwasjustbrilliantcastinglocationscenerystorydirectioneveryone'sreallysuitedtheparttheyplayedandyoucouldjustimaginebeingthererobert?isanamazingactorandnowthesamebeingdirector?fathercamefromthesamescottishislandasmyselfsoilovedthefacttherewasarealconnectionwiththisfilmthewittyremarksthroughoutthefilmweregreatitwasjustbrilliantsomuchthatiboughtthefilmassoonasitwasreleasedfor?andwouldrecommendittoeveryonetowatchandtheflyfishingwasamazingreallycriedattheenditwassosadandyouknowwhattheysayifyoucryatafilmitmusthavebeengoodandthisdefinitelywasalso?tothetwolittleboy'sthatplayedthe?ofnormanandpaultheywerejustbrilliantchildrenareoftenleftoutofthe?listithinkbecausethestarsthatplaythemallgrownuparesuchabigprofileforthewholefilmbutthesechildrenareamazingandshouldbepraisedforwhattheyhavedonedon'tyouthinkthewholestorywassolovelybecauseitwastrueandwassomeone'slifeafterallthatwassharedwithusall\""
      ]
     },
     "execution_count": 69,
     "metadata": {},
     "output_type": "execute_result"
    }
   ],
   "source": [
    "# Encoding back to words\n",
    "word_index = imdb.get_word_index()\n",
    "reverse_word_index = dict([(value, key) for (key, value) in word_index.items()])\n",
    "decoded_review = \"\".join([reverse_word_index.get(i-3, \"?\") for i in train_data[0]])\n",
    "decoded_review"
   ]
  },
  {
   "cell_type": "markdown",
   "id": "69851047",
   "metadata": {},
   "source": [
    "### Prepare the data\n",
    "\n",
    "- Pad lists so they have the same length\n",
    "- Change them to an integer tensor of shape (samples, max_length)\n",
    "- Start the model with an embedding layer\n",
    "- multi-hot encode your lists turning them into vectors of 0s and 1s"
   ]
  },
  {
   "cell_type": "code",
   "execution_count": 70,
   "id": "508314f3",
   "metadata": {},
   "outputs": [
    {
     "data": {
      "text/plain": [
       "array([[0., 0., 0., ..., 0., 0., 0.],\n",
       "       [0., 0., 0., ..., 0., 0., 0.],\n",
       "       [0., 0., 0., ..., 0., 0., 0.],\n",
       "       ...,\n",
       "       [0., 0., 0., ..., 0., 0., 0.],\n",
       "       [0., 0., 0., ..., 0., 0., 0.],\n",
       "       [0., 0., 0., ..., 0., 0., 0.]], shape=(25000, 10000))"
      ]
     },
     "metadata": {},
     "output_type": "display_data"
    },
    {
     "data": {
      "text/plain": [
       "array([[0., 0., 0., ..., 0., 0., 0.],\n",
       "       [0., 0., 0., ..., 0., 0., 0.],\n",
       "       [0., 0., 0., ..., 0., 0., 0.],\n",
       "       ...,\n",
       "       [0., 0., 0., ..., 0., 0., 0.],\n",
       "       [0., 0., 0., ..., 0., 0., 0.],\n",
       "       [0., 0., 0., ..., 0., 0., 0.]], shape=(25000, 10000))"
      ]
     },
     "metadata": {},
     "output_type": "display_data"
    },
    {
     "data": {
      "text/plain": [
       "(25000, 10000)"
      ]
     },
     "metadata": {},
     "output_type": "display_data"
    },
    {
     "data": {
      "text/plain": [
       "array([[0., 1., 1., ..., 0., 0., 0.],\n",
       "       [0., 1., 1., ..., 0., 0., 0.],\n",
       "       [0., 1., 1., ..., 0., 0., 0.],\n",
       "       [0., 1., 1., ..., 0., 0., 0.],\n",
       "       [0., 1., 1., ..., 0., 0., 0.]], shape=(5, 10000))"
      ]
     },
     "metadata": {},
     "output_type": "display_data"
    },
    {
     "data": {
      "text/plain": [
       "array([0., 1., 1., ..., 0., 0., 0.], shape=(10000,))"
      ]
     },
     "metadata": {},
     "output_type": "display_data"
    },
    {
     "data": {
      "text/plain": [
       "np.float32(1.0)"
      ]
     },
     "metadata": {},
     "output_type": "display_data"
    }
   ],
   "source": [
    "# Encoding the integers sequences via multi-hot encoding\n",
    "import numpy as np\n",
    "\n",
    "def vectorize_sequences(sequences, dimension=10000):\n",
    "    results = np.zeros((len(sequences), dimension))\n",
    "    display(results)\n",
    "    for i, sequence in enumerate(sequences):\n",
    "        for j in sequence:\n",
    "            results[i,j] = 1.\n",
    "    return results\n",
    "\n",
    "x_train = vectorize_sequences(train_data)\n",
    "x_test = vectorize_sequences(test_data)\n",
    "\n",
    "display(x_train.shape)\n",
    "display(x_train[:5, :])\n",
    "\n",
    "# vectorize your labels as well\n",
    "y_train = np.asarray(train_labels).astype(\"float32\")\n",
    "y_test = np.asarray(test_labels).astype(\"float32\")\n",
    "\n",
    "# Show the shape of inputs\n",
    "display(x_train[0])\n",
    "display(y_train[0])\n"
   ]
  },
  {
   "cell_type": "markdown",
   "id": "860c89f3",
   "metadata": {},
   "source": [
    "### Build the Model\n",
    "\n",
    "We will use stacked dense layers with `relu` activation functions.\n",
    "\n",
    "Key Questions\n",
    "\n",
    "- How many layers to use\n",
    "- How many units for each layer\n",
    "\n",
    "- We will use 2 intermediate layers with 16 units each\n",
    "- A third layer that will output scalar prediction for the sentiment\n"
   ]
  },
  {
   "cell_type": "code",
   "execution_count": 71,
   "id": "302c0a74",
   "metadata": {},
   "outputs": [],
   "source": [
    "from tensorflow import keras\n",
    "from tensorflow.keras import layers\n",
    "\n",
    "model = keras.Sequential([\n",
    "    layers.Dense(16, activation=\"relu\"),\n",
    "    layers.Dense(16, activation=\"relu\"),\n",
    "    layers.Dense(1, activation=\"sigmoid\")\n",
    "])"
   ]
  },
  {
   "cell_type": "markdown",
   "id": "107d78ad",
   "metadata": {},
   "source": [
    "Note that the `relu` activation implements the following:\n",
    "\n",
    "```python\n",
    "output = relu(dot(input, W) + b)\n",
    "```\n",
    "16 units meand W has a shape of (input_dimension, 16), in this case\n",
    "it is (10,000, 16).\n",
    "\n",
    "Dimensionality can be represent how much freedom that you give your model.\n",
    "\n",
    "The `relu` basically zeros out the negative numbers. the sigmoid forces number\n",
    "into the interval [0,1], giving a sort of probability interpretation.\n",
    "\n",
    "For a binary classification you should choose the `binary_crossentropy` for the \n",
    "loss. Cross entropy is a quantity from information theory that measures the distance\n",
    "between probability distributions, or in this case the actual distribution and\n",
    "the predictions.\n",
    "\n",
    "#### Activation Functions\n",
    "\n",
    "Without activation functions the dot product would simply be a linear function.\n",
    "If we just applied layers with no activation functions only linear relationships\n",
    "could be learned. This nullifies the benefits of multiple layers. `relu` is common,\n",
    "but there are other options, `prelu`, `elu`, etc.\n"
   ]
  },
  {
   "cell_type": "code",
   "execution_count": 72,
   "id": "95813785",
   "metadata": {},
   "outputs": [],
   "source": [
    "# Compile the model\n",
    "model.compile(optimizer='rmsprop',\n",
    "              loss='binary_crossentropy',\n",
    "              metrics=['accuracy'])"
   ]
  },
  {
   "cell_type": "markdown",
   "id": "2b244617",
   "metadata": {},
   "source": [
    "- Deep learning models should never be evaluated on the training data\n",
    "- Use a validation set to evaluate performance while training\n"
   ]
  },
  {
   "cell_type": "code",
   "execution_count": 73,
   "id": "fcea3186",
   "metadata": {},
   "outputs": [],
   "source": [
    "# Create a validation set from the training set\n",
    "x_val = x_train[:10000]\n",
    "partial_x_train = x_train[10000:]\n",
    "y_val = y_train[:10000]\n",
    "partial_y_train = y_train[10000:]"
   ]
  },
  {
   "cell_type": "code",
   "execution_count": 74,
   "id": "743e3765",
   "metadata": {},
   "outputs": [
    {
     "name": "stdout",
     "output_type": "stream",
     "text": [
      "Epoch 1/20\n"
     ]
    },
    {
     "name": "stderr",
     "output_type": "stream",
     "text": [
      "2025-04-27 17:37:54.937538: W external/local_xla/xla/tsl/framework/cpu_allocator_impl.cc:83] Allocation of 600000000 exceeds 10% of free system memory.\n"
     ]
    },
    {
     "name": "stdout",
     "output_type": "stream",
     "text": [
      "\u001b[1m28/30\u001b[0m \u001b[32m━━━━━━━━━━━━━━━━━━\u001b[0m\u001b[37m━━\u001b[0m \u001b[1m0s\u001b[0m 20ms/step - accuracy: 0.6636 - loss: 0.6218"
     ]
    },
    {
     "name": "stderr",
     "output_type": "stream",
     "text": [
      "2025-04-27 17:37:58.444540: W external/local_xla/xla/tsl/framework/cpu_allocator_impl.cc:83] Allocation of 400000000 exceeds 10% of free system memory.\n"
     ]
    },
    {
     "name": "stdout",
     "output_type": "stream",
     "text": [
      "\u001b[1m30/30\u001b[0m \u001b[32m━━━━━━━━━━━━━━━━━━━━\u001b[0m\u001b[37m\u001b[0m \u001b[1m4s\u001b[0m 103ms/step - accuracy: 0.6733 - loss: 0.6142 - val_accuracy: 0.8330 - val_loss: 0.4285\n",
      "Epoch 2/20\n",
      "\u001b[1m30/30\u001b[0m \u001b[32m━━━━━━━━━━━━━━━━━━━━\u001b[0m\u001b[37m\u001b[0m \u001b[1m1s\u001b[0m 27ms/step - accuracy: 0.8879 - loss: 0.3602 - val_accuracy: 0.8714 - val_loss: 0.3431\n",
      "Epoch 3/20\n",
      "\u001b[1m30/30\u001b[0m \u001b[32m━━━━━━━━━━━━━━━━━━━━\u001b[0m\u001b[37m\u001b[0m \u001b[1m1s\u001b[0m 28ms/step - accuracy: 0.9168 - loss: 0.2599 - val_accuracy: 0.8862 - val_loss: 0.2921\n",
      "Epoch 4/20\n",
      "\u001b[1m30/30\u001b[0m \u001b[32m━━━━━━━━━━━━━━━━━━━━\u001b[0m\u001b[37m\u001b[0m \u001b[1m1s\u001b[0m 27ms/step - accuracy: 0.9334 - loss: 0.2061 - val_accuracy: 0.8750 - val_loss: 0.3052\n",
      "Epoch 5/20\n",
      "\u001b[1m30/30\u001b[0m \u001b[32m━━━━━━━━━━━━━━━━━━━━\u001b[0m\u001b[37m\u001b[0m \u001b[1m1s\u001b[0m 27ms/step - accuracy: 0.9451 - loss: 0.1723 - val_accuracy: 0.8884 - val_loss: 0.2782\n",
      "Epoch 6/20\n",
      "\u001b[1m30/30\u001b[0m \u001b[32m━━━━━━━━━━━━━━━━━━━━\u001b[0m\u001b[37m\u001b[0m \u001b[1m1s\u001b[0m 29ms/step - accuracy: 0.9573 - loss: 0.1407 - val_accuracy: 0.8838 - val_loss: 0.2853\n",
      "Epoch 7/20\n",
      "\u001b[1m30/30\u001b[0m \u001b[32m━━━━━━━━━━━━━━━━━━━━\u001b[0m\u001b[37m\u001b[0m \u001b[1m1s\u001b[0m 29ms/step - accuracy: 0.9632 - loss: 0.1220 - val_accuracy: 0.8713 - val_loss: 0.3281\n",
      "Epoch 8/20\n",
      "\u001b[1m30/30\u001b[0m \u001b[32m━━━━━━━━━━━━━━━━━━━━\u001b[0m\u001b[37m\u001b[0m \u001b[1m1s\u001b[0m 24ms/step - accuracy: 0.9711 - loss: 0.1076 - val_accuracy: 0.8848 - val_loss: 0.3013\n",
      "Epoch 9/20\n",
      "\u001b[1m30/30\u001b[0m \u001b[32m━━━━━━━━━━━━━━━━━━━━\u001b[0m\u001b[37m\u001b[0m \u001b[1m1s\u001b[0m 25ms/step - accuracy: 0.9726 - loss: 0.0944 - val_accuracy: 0.8816 - val_loss: 0.3146\n",
      "Epoch 10/20\n",
      "\u001b[1m30/30\u001b[0m \u001b[32m━━━━━━━━━━━━━━━━━━━━\u001b[0m\u001b[37m\u001b[0m \u001b[1m1s\u001b[0m 26ms/step - accuracy: 0.9830 - loss: 0.0755 - val_accuracy: 0.8800 - val_loss: 0.3302\n",
      "Epoch 11/20\n",
      "\u001b[1m30/30\u001b[0m \u001b[32m━━━━━━━━━━━━━━━━━━━━\u001b[0m\u001b[37m\u001b[0m \u001b[1m1s\u001b[0m 26ms/step - accuracy: 0.9852 - loss: 0.0674 - val_accuracy: 0.8783 - val_loss: 0.3492\n",
      "Epoch 12/20\n",
      "\u001b[1m30/30\u001b[0m \u001b[32m━━━━━━━━━━━━━━━━━━━━\u001b[0m\u001b[37m\u001b[0m \u001b[1m1s\u001b[0m 25ms/step - accuracy: 0.9884 - loss: 0.0563 - val_accuracy: 0.8749 - val_loss: 0.3705\n",
      "Epoch 13/20\n",
      "\u001b[1m30/30\u001b[0m \u001b[32m━━━━━━━━━━━━━━━━━━━━\u001b[0m\u001b[37m\u001b[0m \u001b[1m1s\u001b[0m 30ms/step - accuracy: 0.9904 - loss: 0.0509 - val_accuracy: 0.8790 - val_loss: 0.3853\n",
      "Epoch 14/20\n",
      "\u001b[1m26/30\u001b[0m \u001b[32m━━━━━━━━━━━━━━━━━\u001b[0m\u001b[37m━━━\u001b[0m \u001b[1m0s\u001b[0m 16ms/step - accuracy: 0.9926 - loss: 0.0418"
     ]
    },
    {
     "name": "stderr",
     "output_type": "stream",
     "text": [
      "2025-04-27 17:38:10.939142: W tensorflow/core/kernels/data/prefetch_autotuner.cc:52] Prefetch autotuner tried to allocate 20482048 bytes after encountering the first element of size 20482048 bytes.This already causes the autotune ram budget to be exceeded. To stay within the ram budget, either increase the ram budget or reduce element size\n"
     ]
    },
    {
     "name": "stdout",
     "output_type": "stream",
     "text": [
      "\u001b[1m30/30\u001b[0m \u001b[32m━━━━━━━━━━━━━━━━━━━━\u001b[0m\u001b[37m\u001b[0m \u001b[1m1s\u001b[0m 25ms/step - accuracy: 0.9925 - loss: 0.0420 - val_accuracy: 0.8775 - val_loss: 0.4176\n",
      "Epoch 15/20\n",
      "\u001b[1m30/30\u001b[0m \u001b[32m━━━━━━━━━━━━━━━━━━━━\u001b[0m\u001b[37m\u001b[0m \u001b[1m1s\u001b[0m 26ms/step - accuracy: 0.9937 - loss: 0.0382 - val_accuracy: 0.8770 - val_loss: 0.4340\n",
      "Epoch 16/20\n",
      "\u001b[1m30/30\u001b[0m \u001b[32m━━━━━━━━━━━━━━━━━━━━\u001b[0m\u001b[37m\u001b[0m \u001b[1m1s\u001b[0m 25ms/step - accuracy: 0.9945 - loss: 0.0317 - val_accuracy: 0.8688 - val_loss: 0.4566\n",
      "Epoch 17/20\n",
      "\u001b[1m30/30\u001b[0m \u001b[32m━━━━━━━━━━━━━━━━━━━━\u001b[0m\u001b[37m\u001b[0m \u001b[1m1s\u001b[0m 26ms/step - accuracy: 0.9963 - loss: 0.0269 - val_accuracy: 0.8695 - val_loss: 0.4705\n",
      "Epoch 18/20\n",
      "\u001b[1m30/30\u001b[0m \u001b[32m━━━━━━━━━━━━━━━━━━━━\u001b[0m\u001b[37m\u001b[0m \u001b[1m1s\u001b[0m 25ms/step - accuracy: 0.9988 - loss: 0.0190 - val_accuracy: 0.8653 - val_loss: 0.4979\n",
      "Epoch 19/20\n",
      "\u001b[1m30/30\u001b[0m \u001b[32m━━━━━━━━━━━━━━━━━━━━\u001b[0m\u001b[37m\u001b[0m \u001b[1m1s\u001b[0m 30ms/step - accuracy: 0.9975 - loss: 0.0185 - val_accuracy: 0.8732 - val_loss: 0.5077\n",
      "Epoch 20/20\n",
      "\u001b[1m30/30\u001b[0m \u001b[32m━━━━━━━━━━━━━━━━━━━━\u001b[0m\u001b[37m\u001b[0m \u001b[1m1s\u001b[0m 27ms/step - accuracy: 0.9996 - loss: 0.0130 - val_accuracy: 0.8604 - val_loss: 0.5504\n"
     ]
    }
   ],
   "source": [
    "# Train the model for 20 epoch\n",
    "history = model.fit(partial_x_train, partial_y_train,\n",
    "                    epochs=20,\n",
    "                    batch_size=512,\n",
    "                    validation_data=(x_val, y_val))"
   ]
  },
  {
   "cell_type": "markdown",
   "id": "3bfc610b",
   "metadata": {},
   "source": [
    "The `model.fit()` returns a History object. It has a `history` member that has all of the \n",
    "results from the training session."
   ]
  },
  {
   "cell_type": "code",
   "execution_count": 75,
   "id": "e543ede4",
   "metadata": {},
   "outputs": [
    {
     "data": {
      "text/plain": [
       "dict_keys(['accuracy', 'loss', 'val_accuracy', 'val_loss'])"
      ]
     },
     "execution_count": 75,
     "metadata": {},
     "output_type": "execute_result"
    }
   ],
   "source": [
    "history_dict = history.history\n",
    "history_dict.keys()"
   ]
  },
  {
   "cell_type": "code",
   "execution_count": 76,
   "id": "34ce6da9",
   "metadata": {},
   "outputs": [
    {
     "data": {
      "image/png": "[encoded data removed]",
      "text/plain": [
       "<Figure size 640x480 with 1 Axes>"
      ]
     },
     "metadata": {},
     "output_type": "display_data"
    }
   ],
   "source": [
    "# Plot the losses\n",
    "import matplotlib.pyplot as plt\n",
    "history_dict = history.history\n",
    "loss_values = history_dict['loss']\n",
    "val_loss_values = history_dict['val_loss']\n",
    "epochs = range(1, len(loss_values) + 1)\n",
    "plt.plot(epochs, loss_values, \"bo\", label=\"Training Loss\")\n",
    "plt.plot(epochs, val_loss_values, \"b\", label=\"Validation Loss\")\n",
    "plt.title(\"Trainin & Validation Loss\")\n",
    "plt.xlabel(\"Epochs\")\n",
    "plt.ylabel(\"Loss\")\n",
    "plt.legend()\n",
    "plt.show()"
   ]
  },
  {
   "cell_type": "code",
   "execution_count": 77,
   "id": "a48ddc16",
   "metadata": {},
   "outputs": [
    {
     "data": {
      "image/png": "[encoded data removed]",
      "text/plain": [
       "<Figure size 640x480 with 1 Axes>"
      ]
     },
     "metadata": {},
     "output_type": "display_data"
    }
   ],
   "source": [
    "# Plot the accuracy\n",
    "acc_values = history_dict['accuracy']\n",
    "val_acc_values = history_dict['val_accuracy']\n",
    "plt.plot(epochs, acc_values, \"bo\", label=\"Training Accuracy\")\n",
    "plt.plot(epochs, val_acc_values, \"b\", label=\"Validation Accuracy\")\n",
    "plt.title(\"Training & Validation Accuracy\")\n",
    "plt.xlabel(\"Epochs\")\n",
    "plt.ylabel(\"Accuracy\")\n",
    "plt.legend()\n",
    "plt.show()"
   ]
  },
  {
   "cell_type": "markdown",
   "id": "fd3f4b34",
   "metadata": {},
   "source": [
    "- You can see the model starts overfitting after 4 epochs\n",
    "\n",
    "Lets retrain to 4 epochs"
   ]
  },
  {
   "cell_type": "code",
   "execution_count": 78,
   "id": "cb42b64c",
   "metadata": {},
   "outputs": [
    {
     "name": "stdout",
     "output_type": "stream",
     "text": [
      "Epoch 1/4\n"
     ]
    },
    {
     "name": "stderr",
     "output_type": "stream",
     "text": [
      "2025-04-27 17:38:21.040060: W external/local_xla/xla/tsl/framework/cpu_allocator_impl.cc:83] Allocation of 1000000000 exceeds 10% of free system memory.\n"
     ]
    },
    {
     "name": "stdout",
     "output_type": "stream",
     "text": [
      "\u001b[1m49/49\u001b[0m \u001b[32m━━━━━━━━━━━━━━━━━━━━\u001b[0m\u001b[37m\u001b[0m \u001b[1m2s\u001b[0m 21ms/step - accuracy: 0.7008 - loss: 0.5836\n",
      "Epoch 2/4\n",
      "\u001b[1m49/49\u001b[0m \u001b[32m━━━━━━━━━━━━━━━━━━━━\u001b[0m\u001b[37m\u001b[0m \u001b[1m1s\u001b[0m 18ms/step - accuracy: 0.9022 - loss: 0.3120\n",
      "Epoch 3/4\n",
      "\u001b[1m49/49\u001b[0m \u001b[32m━━━━━━━━━━━━━━━━━━━━\u001b[0m\u001b[37m\u001b[0m \u001b[1m1s\u001b[0m 19ms/step - accuracy: 0.9209 - loss: 0.2313\n",
      "Epoch 4/4\n",
      "\u001b[1m49/49\u001b[0m \u001b[32m━━━━━━━━━━━━━━━━━━━━\u001b[0m\u001b[37m\u001b[0m \u001b[1m1s\u001b[0m 20ms/step - accuracy: 0.9313 - loss: 0.1934\n"
     ]
    },
    {
     "name": "stderr",
     "output_type": "stream",
     "text": [
      "2025-04-27 17:38:29.299274: W external/local_xla/xla/tsl/framework/cpu_allocator_impl.cc:83] Allocation of 1000000000 exceeds 10% of free system memory.\n"
     ]
    },
    {
     "name": "stdout",
     "output_type": "stream",
     "text": [
      "\u001b[1m782/782\u001b[0m \u001b[32m━━━━━━━━━━━━━━━━━━━━\u001b[0m\u001b[37m\u001b[0m \u001b[1m3s\u001b[0m 3ms/step - accuracy: 0.8858 - loss: 0.2825\n"
     ]
    }
   ],
   "source": [
    "# Retrain on 4 epochs\n",
    "model = keras.Sequential([\n",
    "    layers.Dense(16, activation='relu'),\n",
    "    layers.Dense(16, activation='relu'),\n",
    "    layers.Dense(1, activation='sigmoid')\n",
    "])\n",
    "\n",
    "model.compile(optimizer='rmsprop',\n",
    "              loss='binary_crossentropy',\n",
    "              metrics=['accuracy'])\n",
    "\n",
    "model.fit(x_train, y_train, epochs=4, batch_size=512)\n",
    "results = model.evaluate(x_test, y_test)"
   ]
  },
  {
   "cell_type": "code",
   "execution_count": 79,
   "id": "40734e05",
   "metadata": {},
   "outputs": [
    {
     "data": {
      "text/plain": [
       "[0.28225135803222656, 0.8876000046730042]"
      ]
     },
     "metadata": {},
     "output_type": "display_data"
    }
   ],
   "source": [
    "display(results)"
   ]
  },
  {
   "cell_type": "markdown",
   "id": "4abbb0a0",
   "metadata": {},
   "source": [
    "Note the first number is the test loss and the second number is the test accuracy, 88%. This is\n",
    "a fairly naive approach. With some state of the art approahes you can get this to near 95%.\n",
    "\n",
    "### Generate New Preditions"
   ]
  },
  {
   "cell_type": "code",
   "execution_count": 80,
   "id": "19275e91",
   "metadata": {},
   "outputs": [
    {
     "name": "stdout",
     "output_type": "stream",
     "text": [
      "\u001b[1m 20/782\u001b[0m \u001b[37m━━━━━━━━━━━━━━━━━━━━\u001b[0m \u001b[1m2s\u001b[0m 3ms/step   "
     ]
    },
    {
     "name": "stderr",
     "output_type": "stream",
     "text": [
      "2025-04-27 17:38:34.498184: W external/local_xla/xla/tsl/framework/cpu_allocator_impl.cc:83] Allocation of 1000000000 exceeds 10% of free system memory.\n"
     ]
    },
    {
     "name": "stdout",
     "output_type": "stream",
     "text": [
      "\u001b[1m782/782\u001b[0m \u001b[32m━━━━━━━━━━━━━━━━━━━━\u001b[0m\u001b[37m\u001b[0m \u001b[1m2s\u001b[0m 3ms/step\n"
     ]
    },
    {
     "data": {
      "text/plain": [
       "array([[0.22426407],\n",
       "       [0.9967682 ],\n",
       "       [0.5914344 ],\n",
       "       ...,\n",
       "       [0.08990446],\n",
       "       [0.07558497],\n",
       "       [0.50007194]], shape=(25000, 1), dtype=float32)"
      ]
     },
     "execution_count": 80,
     "metadata": {},
     "output_type": "execute_result"
    }
   ],
   "source": [
    "model.predict(x_test)"
   ]
  },
  {
   "cell_type": "markdown",
   "id": "5602d1b5",
   "metadata": {},
   "source": [
    "### Wrapping Up\n",
    "\n",
    "- There is usually a lot of preprocessing involved\n",
    "- Stacks of Dense layers with `relu` activation functions can solve many problems\n",
    "- A binary classification ends with an output layer of one node, and a sigmoid\n",
    "  activation function\n",
    "- You should use a `binary_crossentropy`\n",
    "- The `rmsprop` optimizer is typically a good choice"
   ]
  },
  {
   "cell_type": "markdown",
   "id": "c8d6b242",
   "metadata": {},
   "source": [
    "## Classifying Newswires"
   ]
  },
  {
   "cell_type": "code",
   "execution_count": 88,
   "id": "be86db18",
   "metadata": {},
   "outputs": [],
   "source": [
    "# Load the dataset\n",
    "from tensorflow.keras.datasets import reuters \n",
    "(train_data, train_labels), (test_data, test_labels) = reuters.load_data(num_words=10000)"
   ]
  },
  {
   "cell_type": "code",
   "execution_count": 89,
   "id": "4c2af2b8",
   "metadata": {},
   "outputs": [],
   "source": [
    "# Decode newswires\n",
    "word_index = reuters.get_word_index() \n",
    "reverse_word_index = dict([(value, key) for (key, value) in word_index.items()]) \n",
    "decoded_newswire = \" \".join([reverse_word_index.get(i - 3, \"?\") for i in train_data[0]])"
   ]
  },
  {
   "cell_type": "code",
   "execution_count": 90,
   "id": "a147be6a",
   "metadata": {},
   "outputs": [
    {
     "data": {
      "text/plain": [
       "array([[0., 0., 0., ..., 0., 0., 0.],\n",
       "       [0., 0., 0., ..., 0., 0., 0.],\n",
       "       [0., 0., 0., ..., 0., 0., 0.],\n",
       "       ...,\n",
       "       [0., 0., 0., ..., 0., 0., 0.],\n",
       "       [0., 0., 0., ..., 0., 0., 0.],\n",
       "       [0., 0., 0., ..., 0., 0., 0.]], shape=(8982, 10000))"
      ]
     },
     "metadata": {},
     "output_type": "display_data"
    },
    {
     "data": {
      "text/plain": [
       "array([[0., 0., 0., ..., 0., 0., 0.],\n",
       "       [0., 0., 0., ..., 0., 0., 0.],\n",
       "       [0., 0., 0., ..., 0., 0., 0.],\n",
       "       ...,\n",
       "       [0., 0., 0., ..., 0., 0., 0.],\n",
       "       [0., 0., 0., ..., 0., 0., 0.],\n",
       "       [0., 0., 0., ..., 0., 0., 0.]], shape=(2246, 10000))"
      ]
     },
     "metadata": {},
     "output_type": "display_data"
    }
   ],
   "source": [
    "# Prepare the Data\n",
    "x_train = vectorize_sequences(train_data)\n",
    "x_test = vectorize_sequences(test_data)"
   ]
  },
  {
   "cell_type": "code",
   "execution_count": 92,
   "id": "7964a59e",
   "metadata": {},
   "outputs": [],
   "source": [
    "# One Hot encoding (on your own)\n",
    "def to_one_hot(labels, dimension=46):\n",
    "    results = np.zeros((len(labels), dimension))\n",
    "    for i, label in enumerate(labels):\n",
    "        results[i, label] = 1.\n",
    "        return results \n",
    "    \n",
    "y_train = to_one_hot(train_labels)\n",
    "y_test = to_one_hot(test_labels)"
   ]
  },
  {
   "cell_type": "code",
   "execution_count": 93,
   "id": "a60f55f9",
   "metadata": {},
   "outputs": [],
   "source": [
    "# Building the Model\n",
    "model = keras.Sequential([\n",
    "    layers.Dense(64, activation='relu'),\n",
    "    layers.Dense(64, activation='relu'),\n",
    "    layers.Dense(46, activation='softmax')\n",
    "])"
   ]
  },
  {
   "cell_type": "markdown",
   "id": "15a2e796",
   "metadata": {},
   "source": [
    "- Note there are 46 outputs in the output layer\n",
    "- Note the use of softmax means that the output is a probability distribution\n",
    "  over the 46 output classes\n",
    "- The best loss is the `categorical_crossentropy`."
   ]
  },
  {
   "cell_type": "code",
   "execution_count": 94,
   "id": "f7bbedc3",
   "metadata": {},
   "outputs": [],
   "source": [
    "# Compile the model\n",
    "model.compile(optimizer='rmsprop',\n",
    "              loss='categorical_crossentropy',\n",
    "              metrics=['accuracy'])"
   ]
  },
  {
   "cell_type": "code",
   "execution_count": 95,
   "id": "a675c92e",
   "metadata": {},
   "outputs": [
    {
     "name": "stdout",
     "output_type": "stream",
     "text": [
      "Epoch 1/20\n",
      "\u001b[1m16/16\u001b[0m \u001b[32m━━━━━━━━━━━━━━━━━━━━\u001b[0m\u001b[37m\u001b[0m \u001b[1m3s\u001b[0m 67ms/step - accuracy: 0.0000e+00 - loss: 0.0000e+00 - val_accuracy: 0.0000e+00 - val_loss: 0.0039\n",
      "Epoch 2/20\n",
      "\u001b[1m16/16\u001b[0m \u001b[32m━━━━━━━━━━━━━━━━━━━━\u001b[0m\u001b[37m\u001b[0m \u001b[1m1s\u001b[0m 43ms/step - accuracy: 0.0000e+00 - loss: 0.0000e+00 - val_accuracy: 0.0000e+00 - val_loss: 0.0048\n",
      "Epoch 3/20\n",
      "\u001b[1m16/16\u001b[0m \u001b[32m━━━━━━━━━━━━━━━━━━━━\u001b[0m\u001b[37m\u001b[0m \u001b[1m1s\u001b[0m 39ms/step - accuracy: 0.0000e+00 - loss: 0.0000e+00 - val_accuracy: 0.0000e+00 - val_loss: 0.0056\n",
      "Epoch 4/20\n",
      "\u001b[1m16/16\u001b[0m \u001b[32m━━━━━━━━━━━━━━━━━━━━\u001b[0m\u001b[37m\u001b[0m \u001b[1m1s\u001b[0m 39ms/step - accuracy: 0.0000e+00 - loss: 0.0000e+00 - val_accuracy: 0.0000e+00 - val_loss: 0.0063\n",
      "Epoch 5/20\n",
      "\u001b[1m16/16\u001b[0m \u001b[32m━━━━━━━━━━━━━━━━━━━━\u001b[0m\u001b[37m\u001b[0m \u001b[1m1s\u001b[0m 43ms/step - accuracy: 0.0000e+00 - loss: 0.0000e+00 - val_accuracy: 0.0000e+00 - val_loss: 0.0070\n",
      "Epoch 6/20\n",
      "\u001b[1m16/16\u001b[0m \u001b[32m━━━━━━━━━━━━━━━━━━━━\u001b[0m\u001b[37m\u001b[0m \u001b[1m1s\u001b[0m 43ms/step - accuracy: 0.0000e+00 - loss: 0.0000e+00 - val_accuracy: 0.0000e+00 - val_loss: 0.0081\n",
      "Epoch 7/20\n",
      "\u001b[1m16/16\u001b[0m \u001b[32m━━━━━━━━━━━━━━━━━━━━\u001b[0m\u001b[37m\u001b[0m \u001b[1m1s\u001b[0m 54ms/step - accuracy: 0.0000e+00 - loss: 0.0000e+00 - val_accuracy: 0.0000e+00 - val_loss: 0.0094\n",
      "Epoch 8/20\n",
      "\u001b[1m16/16\u001b[0m \u001b[32m━━━━━━━━━━━━━━━━━━━━\u001b[0m\u001b[37m\u001b[0m \u001b[1m1s\u001b[0m 39ms/step - accuracy: 0.0000e+00 - loss: 0.0000e+00 - val_accuracy: 0.0000e+00 - val_loss: 0.0104\n",
      "Epoch 9/20\n",
      "\u001b[1m16/16\u001b[0m \u001b[32m━━━━━━━━━━━━━━━━━━━━\u001b[0m\u001b[37m\u001b[0m \u001b[1m1s\u001b[0m 40ms/step - accuracy: 0.0000e+00 - loss: 0.0000e+00 - val_accuracy: 0.0000e+00 - val_loss: 0.0125\n",
      "Epoch 10/20\n",
      "\u001b[1m16/16\u001b[0m \u001b[32m━━━━━━━━━━━━━━━━━━━━\u001b[0m\u001b[37m\u001b[0m \u001b[1m1s\u001b[0m 42ms/step - accuracy: 0.0000e+00 - loss: 0.0000e+00 - val_accuracy: 0.0000e+00 - val_loss: 0.0134\n",
      "Epoch 11/20\n",
      "\u001b[1m16/16\u001b[0m \u001b[32m━━━━━━━━━━━━━━━━━━━━\u001b[0m\u001b[37m\u001b[0m \u001b[1m1s\u001b[0m 47ms/step - accuracy: 0.0000e+00 - loss: 0.0000e+00 - val_accuracy: 0.0000e+00 - val_loss: 0.0171\n",
      "Epoch 12/20\n",
      "\u001b[1m16/16\u001b[0m \u001b[32m━━━━━━━━━━━━━━━━━━━━\u001b[0m\u001b[37m\u001b[0m \u001b[1m1s\u001b[0m 42ms/step - accuracy: 0.0000e+00 - loss: 0.0000e+00 - val_accuracy: 0.0000e+00 - val_loss: 0.0192\n",
      "Epoch 13/20\n",
      "\u001b[1m16/16\u001b[0m \u001b[32m━━━━━━━━━━━━━━━━━━━━\u001b[0m\u001b[37m\u001b[0m \u001b[1m1s\u001b[0m 43ms/step - accuracy: 0.0000e+00 - loss: 0.0000e+00 - val_accuracy: 0.0000e+00 - val_loss: 0.0216\n",
      "Epoch 14/20\n",
      "\u001b[1m16/16\u001b[0m \u001b[32m━━━━━━━━━━━━━━━━━━━━\u001b[0m\u001b[37m\u001b[0m \u001b[1m1s\u001b[0m 44ms/step - accuracy: 0.0000e+00 - loss: 0.0000e+00 - val_accuracy: 0.0000e+00 - val_loss: 0.0250\n",
      "Epoch 15/20\n",
      "\u001b[1m16/16\u001b[0m \u001b[32m━━━━━━━━━━━━━━━━━━━━\u001b[0m\u001b[37m\u001b[0m \u001b[1m1s\u001b[0m 44ms/step - accuracy: 0.0000e+00 - loss: 0.0000e+00 - val_accuracy: 0.0000e+00 - val_loss: 0.0257\n",
      "Epoch 16/20\n",
      "\u001b[1m16/16\u001b[0m \u001b[32m━━━━━━━━━━━━━━━━━━━━\u001b[0m\u001b[37m\u001b[0m \u001b[1m1s\u001b[0m 47ms/step - accuracy: 0.0000e+00 - loss: 0.0000e+00 - val_accuracy: 0.0000e+00 - val_loss: 0.0301\n",
      "Epoch 17/20\n",
      "\u001b[1m16/16\u001b[0m \u001b[32m━━━━━━━━━━━━━━━━━━━━\u001b[0m\u001b[37m\u001b[0m \u001b[1m1s\u001b[0m 47ms/step - accuracy: 0.0000e+00 - loss: 0.0000e+00 - val_accuracy: 0.0000e+00 - val_loss: 0.0298\n",
      "Epoch 18/20\n",
      "\u001b[1m16/16\u001b[0m \u001b[32m━━━━━━━━━━━━━━━━━━━━\u001b[0m\u001b[37m\u001b[0m \u001b[1m1s\u001b[0m 51ms/step - accuracy: 0.0000e+00 - loss: 0.0000e+00 - val_accuracy: 0.0000e+00 - val_loss: 0.0358\n",
      "Epoch 19/20\n",
      "\u001b[1m16/16\u001b[0m \u001b[32m━━━━━━━━━━━━━━━━━━━━\u001b[0m\u001b[37m\u001b[0m \u001b[1m1s\u001b[0m 42ms/step - accuracy: 0.0000e+00 - loss: 0.0000e+00 - val_accuracy: 0.0000e+00 - val_loss: 0.0351\n",
      "Epoch 20/20\n",
      "\u001b[1m16/16\u001b[0m \u001b[32m━━━━━━━━━━━━━━━━━━━━\u001b[0m\u001b[37m\u001b[0m \u001b[1m1s\u001b[0m 43ms/step - accuracy: 0.0000e+00 - loss: 0.0000e+00 - val_accuracy: 0.0000e+00 - val_loss: 0.0343\n"
     ]
    }
   ],
   "source": [
    "# Set aside a validation set\n",
    "x_val = x_train[:1000]\n",
    "partial_x_train = x_train[1000:] \n",
    "y_val = y_train[:1000] \n",
    "partial_y_train = y_train[1000:]\n",
    "\n",
    "# Train the model\n",
    "history = model.fit(partial_x_train,\n",
    "                    partial_y_train,\n",
    "                    epochs=20,\n",
    "                    batch_size=512,\n",
    "                    validation_data=(x_val, y_val))\n"
   ]
  },
  {
   "cell_type": "code",
   "execution_count": 96,
   "id": "42d6e845",
   "metadata": {},
   "outputs": [
    {
     "data": {
      "image/png": "[encoded data removed]",
      "text/plain": [
       "<Figure size 640x480 with 1 Axes>"
      ]
     },
     "metadata": {},
     "output_type": "display_data"
    }
   ],
   "source": [
    "loss = history.history[\"loss\"] \n",
    "val_loss = history.history[\"val_loss\"] \n",
    "epochs = range(1, len(loss) + 1) \n",
    "plt.plot(epochs, loss, \"bo\", label=\"Training loss\") \n",
    "plt.plot(epochs, val_loss, \"b\", label=\"Validation loss\") \n",
    "plt.title(\"Training and validation loss\") \n",
    "plt.xlabel(\"Epochs\") \n",
    "plt.ylabel(\"Loss\") \n",
    "plt.legend() \n",
    "plt.show()"
   ]
  },
  {
   "cell_type": "code",
   "execution_count": 98,
   "id": "7d4d4f80",
   "metadata": {},
   "outputs": [
    {
     "data": {
      "image/png": "[encoded data removed]",
      "text/plain": [
       "<Figure size 640x480 with 1 Axes>"
      ]
     },
     "metadata": {},
     "output_type": "display_data"
    }
   ],
   "source": [
    "plt.clf()\n",
    "acc = history.history[\"accuracy\"] \n",
    "val_acc = history.history[\"val_accuracy\"] \n",
    "plt.plot(epochs, acc, \"bo\", label=\"Training accuracy\") \n",
    "plt.plot(epochs, val_acc, \"b\", label=\"Validation accuracy\") \n",
    "plt.title(\"Training and validation accuracy\") \n",
    "plt.xlabel(\"Epochs\") \n",
    "plt.ylabel(\"Accuracy\") \n",
    "plt.legend() \n",
    "plt.show()"
   ]
  },
  {
   "cell_type": "markdown",
   "id": "f0ea2100",
   "metadata": {},
   "source": [
    "## Predicting Housing Prices   "
   ]
  },
  {
   "cell_type": "code",
   "execution_count": 105,
   "id": "38ac5335",
   "metadata": {},
   "outputs": [
    {
     "data": {
      "text/plain": [
       "(404, 13)"
      ]
     },
     "metadata": {},
     "output_type": "display_data"
    },
    {
     "data": {
      "text/plain": [
       "(102, 13)"
      ]
     },
     "metadata": {},
     "output_type": "display_data"
    },
    {
     "data": {
      "text/plain": [
       "array([15.2, 42.3, 50. , 21.1, 17.7, 18.5, 11.3, 15.6, 15.6, 14.4, 12.1,\n",
       "       17.9, 23.1, 19.9, 15.7,  8.8, 50. , 22.5, 24.1, 27.5, 10.9, 30.8,\n",
       "       32.9, 24. , 18.5, 13.3, 22.9, 34.7, 16.6, 17.5, 22.3, 16.1, 14.9,\n",
       "       23.1, 34.9, 25. , 13.9, 13.1, 20.4, 20. , 15.2, 24.7, 22.2, 16.7,\n",
       "       12.7, 15.6, 18.4, 21. , 30.1, 15.1, 18.7,  9.6, 31.5, 24.8, 19.1,\n",
       "       22. , 14.5, 11. , 32. , 29.4, 20.3, 24.4, 14.6, 19.5, 14.1, 14.3,\n",
       "       15.6, 10.5,  6.3, 19.3, 19.3, 13.4, 36.4, 17.8, 13.5, 16.5,  8.3,\n",
       "       14.3, 16. , 13.4, 28.6, 43.5, 20.2, 22. , 23. , 20.7, 12.5, 48.5,\n",
       "       14.6, 13.4, 23.7, 50. , 21.7, 39.8, 38.7, 22.2, 34.9, 22.5, 31.1,\n",
       "       28.7, 46. , 41.7, 21. , 26.6, 15. , 24.4, 13.3, 21.2, 11.7, 21.7,\n",
       "       19.4, 50. , 22.8, 19.7, 24.7, 36.2, 14.2, 18.9, 18.3, 20.6, 24.6,\n",
       "       18.2,  8.7, 44. , 10.4, 13.2, 21.2, 37. , 30.7, 22.9, 20. , 19.3,\n",
       "       31.7, 32. , 23.1, 18.8, 10.9, 50. , 19.6,  5. , 14.4, 19.8, 13.8,\n",
       "       19.6, 23.9, 24.5, 25. , 19.9, 17.2, 24.6, 13.5, 26.6, 21.4, 11.9,\n",
       "       22.6, 19.6,  8.5, 23.7, 23.1, 22.4, 20.5, 23.6, 18.4, 35.2, 23.1,\n",
       "       27.9, 20.6, 23.7, 28. , 13.6, 27.1, 23.6, 20.6, 18.2, 21.7, 17.1,\n",
       "        8.4, 25.3, 13.8, 22.2, 18.4, 20.7, 31.6, 30.5, 20.3,  8.8, 19.2,\n",
       "       19.4, 23.1, 23. , 14.8, 48.8, 22.6, 33.4, 21.1, 13.6, 32.2, 13.1,\n",
       "       23.4, 18.9, 23.9, 11.8, 23.3, 22.8, 19.6, 16.7, 13.4, 22.2, 20.4,\n",
       "       21.8, 26.4, 14.9, 24.1, 23.8, 12.3, 29.1, 21. , 19.5, 23.3, 23.8,\n",
       "       17.8, 11.5, 21.7, 19.9, 25. , 33.4, 28.5, 21.4, 24.3, 27.5, 33.1,\n",
       "       16.2, 23.3, 48.3, 22.9, 22.8, 13.1, 12.7, 22.6, 15. , 15.3, 10.5,\n",
       "       24. , 18.5, 21.7, 19.5, 33.2, 23.2,  5. , 19.1, 12.7, 22.3, 10.2,\n",
       "       13.9, 16.3, 17. , 20.1, 29.9, 17.2, 37.3, 45.4, 17.8, 23.2, 29. ,\n",
       "       22. , 18. , 17.4, 34.6, 20.1, 25. , 15.6, 24.8, 28.2, 21.2, 21.4,\n",
       "       23.8, 31. , 26.2, 17.4, 37.9, 17.5, 20. ,  8.3, 23.9,  8.4, 13.8,\n",
       "        7.2, 11.7, 17.1, 21.6, 50. , 16.1, 20.4, 20.6, 21.4, 20.6, 36.5,\n",
       "        8.5, 24.8, 10.8, 21.9, 17.3, 18.9, 36.2, 14.9, 18.2, 33.3, 21.8,\n",
       "       19.7, 31.6, 24.8, 19.4, 22.8,  7.5, 44.8, 16.8, 18.7, 50. , 50. ,\n",
       "       19.5, 20.1, 50. , 17.2, 20.8, 19.3, 41.3, 20.4, 20.5, 13.8, 16.5,\n",
       "       23.9, 20.6, 31.5, 23.3, 16.8, 14. , 33.8, 36.1, 12.8, 18.3, 18.7,\n",
       "       19.1, 29. , 30.1, 50. , 50. , 22. , 11.9, 37.6, 50. , 22.7, 20.8,\n",
       "       23.5, 27.9, 50. , 19.3, 23.9, 22.6, 15.2, 21.7, 19.2, 43.8, 20.3,\n",
       "       33.2, 19.9, 22.5, 32.7, 22. , 17.1, 19. , 15. , 16.1, 25.1, 23.7,\n",
       "       28.7, 37.2, 22.6, 16.4, 25. , 29.8, 22.1, 17.4, 18.1, 30.3, 17.5,\n",
       "       24.7, 12.6, 26.5, 28.7, 13.3, 10.4, 24.4, 23. , 20. , 17.8,  7. ,\n",
       "       11.8, 24.4, 13.8, 19.4, 25.2, 19.4, 19.4, 29.1])"
      ]
     },
     "metadata": {},
     "output_type": "display_data"
    }
   ],
   "source": [
    "from tensorflow.keras.datasets import boston_housing\n",
    "(train_data, train_targets), (test_data, test_targets) = (boston_housing.load_data())\n",
    "display(train_data.shape)\n",
    "display(test_data.shape)\n",
    "display(training_targets)"
   ]
  },
  {
   "cell_type": "markdown",
   "id": "654d3778",
   "metadata": {},
   "source": [
    "- It is problematic to feed data of all different ranges into a neural network.\n",
    "  the model could adapt but it would make learning much more difficult.\n",
    "- Best practice is to do featurewise normalization, ie for each feature subtract\n",
    "  the mean and divide by the standard deviation\n",
    "- This can be easily done with numpy"
   ]
  },
  {
   "cell_type": "code",
   "execution_count": 106,
   "id": "aacb0894",
   "metadata": {},
   "outputs": [],
   "source": [
    "# Preparing the data\n",
    "mean = train_data.mean(axis=0)\n",
    "train_data -= mean\n",
    "std = train_data.std(axis=0)\n",
    "train_data /= std\n",
    "test_data -= mean\n",
    "test_data /= std"
   ]
  },
  {
   "cell_type": "markdown",
   "id": "29c07b31",
   "metadata": {},
   "source": [
    "- This is a small dataset so it is easily overfit\n"
   ]
  },
  {
   "cell_type": "code",
   "execution_count": 107,
   "id": "56d3d28b",
   "metadata": {},
   "outputs": [],
   "source": [
    "def build_model():\n",
    "    model = keras.Sequential([\n",
    "        layers.Dense(64, activation=\"relu\"),\n",
    "        layers.Dense(64, activation='relu'),\n",
    "        layers.Dense(1)\n",
    "    ])\n",
    "    \n",
    "    model.compile(optimizer='rmsprop', loss='mse', metrics=['mae'])\n",
    "    return model\n"
   ]
  },
  {
   "cell_type": "markdown",
   "id": "73cc3922",
   "metadata": {},
   "source": [
    "- The model ends with no activation (it is a linear layer)\n",
    "- It ends with a single output\n",
    "- Applying an activation function can restrict the range\n",
    "- We use the mse as the loss\n",
    "\n",
    "### Validating the model\n",
    "- As we have very few observations we will use k-fold cross validation\n",
    "- We will use k = 4"
   ]
  },
  {
   "cell_type": "code",
   "execution_count": null,
   "id": "4eb35548",
   "metadata": {},
   "outputs": [
    {
     "name": "stdout",
     "output_type": "stream",
     "text": [
      "Processing fold #0\n",
      "Processing fold #1\n",
      "Processing fold #2\n",
      "Processing fold #3\n"
     ]
    }
   ],
   "source": [
    "# K-fold cross validation\n",
    "k = 4\n",
    "num_val_samples = len(train_data) // k\n",
    "num_epochs = 100\n",
    "all_scores = []\n",
    "for i in range(k):\n",
    "    print(f\"Processing fold #{i}\")\n",
    "    val_data = train_data[i * num_val_samples: (i + 1) * num_val_samples]\n",
    "    val_targets = train_targets[i * num_val_samples: (i + 1) * num_val_samples]\n",
    "    partial_train_data = np.concatenate(\n",
    "        [train_data[:i * num_val_samples],\n",
    "         train_data[(i + 1) * num_val_samples:]],\n",
    "        axis=0)\n",
    "    partial_train_targets = np.concatenate(\n",
    "        [train_targets[:i * num_val_samples],\n",
    "         train_targets[(i + 1) * num_val_samples:]],\n",
    "        axis=0)\n",
    "    model = build_model()\n",
    "    model.fit(partial_train_data, partial_train_targets,\n",
    "              epochs=num_epochs, batch_size=16, verbose=0)\n",
    "    val_mse, val_mae = model.evaluate(val_data, val_targets, verbose=0)\n",
    "    all_scores.append(val_mae)"
   ]
  },
  {
   "cell_type": "code",
   "execution_count": 110,
   "id": "f5606547",
   "metadata": {},
   "outputs": [
    {
     "data": {
      "text/plain": [
       "[2.007735252380371, 2.385222911834717, 2.4026458263397217, 2.370027542114258]"
      ]
     },
     "metadata": {},
     "output_type": "display_data"
    },
    {
     "data": {
      "text/plain": [
       "np.float64(2.291407883167267)"
      ]
     },
     "metadata": {},
     "output_type": "display_data"
    }
   ],
   "source": [
    "display(all_scores)\n",
    "display(np.mean(all_scores))"
   ]
  },
  {
   "cell_type": "markdown",
   "id": "2a389beb",
   "metadata": {},
   "source": [
    "### Saving the validation logs for a longer training session\n"
   ]
  },
  {
   "cell_type": "code",
   "execution_count": 111,
   "id": "46d1210e",
   "metadata": {},
   "outputs": [
    {
     "name": "stdout",
     "output_type": "stream",
     "text": [
      "Processing fold #0\n",
      "Processing fold #1\n",
      "Processing fold #2\n",
      "Processing fold #3\n"
     ]
    }
   ],
   "source": [
    "# A longer training\n",
    "\n",
    "num_epochs = 500\n",
    "all_mae_histories = []\n",
    "for i in range(k):\n",
    "    print(f\"Processing fold #{i}\")\n",
    "    val_data = train_data[i * num_val_samples: (i + 1) * num_val_samples]\n",
    "    val_targets = train_targets[i * num_val_samples: (i + 1) * num_val_samples]\n",
    "    partial_train_data = np.concatenate(\n",
    "        [train_data[:i * num_val_samples],\n",
    "         train_data[(i + 1) * num_val_samples:]],\n",
    "        axis=0)\n",
    "    partial_train_targets = np.concatenate(\n",
    "        [train_targets[:i * num_val_samples],\n",
    "         train_targets[(i + 1) * num_val_samples:]],\n",
    "        axis=0)\n",
    "    model = build_model()\n",
    "    history = model.fit(partial_train_data, partial_train_targets,\n",
    "                        validation_data=(val_data, val_targets),\n",
    "                        epochs=num_epochs, batch_size=16, verbose=0)\n",
    "    mae_history = history.history[\"val_mae\"]\n",
    "    all_mae_histories.append(mae_history)"
   ]
  },
  {
   "cell_type": "code",
   "execution_count": null,
   "id": "ecfe4d7e",
   "metadata": {},
   "outputs": [
    {
     "data": {
      "text/plain": [
       "[np.float64(19.311494827270508),\n",
       " np.float64(15.844168424606323),\n",
       " np.float64(11.628988981246948),\n",
       " np.float64(7.9424097537994385),\n",
       " np.float64(5.931888103485107),\n",
       " np.float64(4.882075548171997),\n",
       " np.float64(4.212992012500763),\n",
       " np.float64(3.809632122516632),\n",
       " np.float64(3.584531307220459),\n",
       " np.float64(3.5002715587615967),\n",
       " np.float64(3.344776213169098),\n",
       " np.float64(3.230851113796234),\n",
       " np.float64(3.107447624206543),\n",
       " np.float64(3.074825406074524),\n",
       " np.float64(2.9456400871276855),\n",
       " np.float64(2.8979820609092712),\n",
       " np.float64(2.885325610637665),\n",
       " np.float64(2.801896572113037),\n",
       " np.float64(2.8193575739860535),\n",
       " np.float64(2.7854479551315308),\n",
       " np.float64(2.7929418087005615),\n",
       " np.float64(2.731007695198059),\n",
       " np.float64(2.698152542114258),\n",
       " np.float64(2.677015244960785),\n",
       " np.float64(2.6283170580863953),\n",
       " np.float64(2.69575035572052),\n",
       " np.float64(2.687726616859436),\n",
       " np.float64(2.6543532609939575),\n",
       " np.float64(2.600235641002655),\n",
       " np.float64(2.620366096496582),\n",
       " np.float64(2.605993151664734),\n",
       " np.float64(2.555624008178711),\n",
       " np.float64(2.5943034887313843),\n",
       " np.float64(2.5586518049240112),\n",
       " np.float64(2.568728029727936),\n",
       " np.float64(2.5584142804145813),\n",
       " np.float64(2.54694664478302),\n",
       " np.float64(2.4986122846603394),\n",
       " np.float64(2.547134220600128),\n",
       " np.float64(2.593107283115387),\n",
       " np.float64(2.540944516658783),\n",
       " np.float64(2.5633761286735535),\n",
       " np.float64(2.5058191418647766),\n",
       " np.float64(2.4834412038326263),\n",
       " np.float64(2.4864214658737183),\n",
       " np.float64(2.4659367203712463),\n",
       " np.float64(2.54129296541214),\n",
       " np.float64(2.4581295251846313),\n",
       " np.float64(2.426656723022461),\n",
       " np.float64(2.446843147277832),\n",
       " np.float64(2.4419713020324707),\n",
       " np.float64(2.4394125938415527),\n",
       " np.float64(2.482403516769409),\n",
       " np.float64(2.4211589992046356),\n",
       " np.float64(2.4591599702835083),\n",
       " np.float64(2.419634997844696),\n",
       " np.float64(2.4779775738716125),\n",
       " np.float64(2.4924643337726593),\n",
       " np.float64(2.4293140172958374),\n",
       " np.float64(2.4568718671798706),\n",
       " np.float64(2.4436232447624207),\n",
       " np.float64(2.3972974717617035),\n",
       " np.float64(2.457495927810669),\n",
       " np.float64(2.4393626749515533),\n",
       " np.float64(2.406135320663452),\n",
       " np.float64(2.4408473074436188),\n",
       " np.float64(2.4396049976348877),\n",
       " np.float64(2.437351495027542),\n",
       " np.float64(2.4732919335365295),\n",
       " np.float64(2.463103711605072),\n",
       " np.float64(2.3866525292396545),\n",
       " np.float64(2.4412304759025574),\n",
       " np.float64(2.5000554025173187),\n",
       " np.float64(2.445284843444824),\n",
       " np.float64(2.4328134059906006),\n",
       " np.float64(2.4623345136642456),\n",
       " np.float64(2.3983275294303894),\n",
       " np.float64(2.367037773132324),\n",
       " np.float64(2.4182122945785522),\n",
       " np.float64(2.4159770607948303),\n",
       " np.float64(2.4132182598114014),\n",
       " np.float64(2.4132612347602844),\n",
       " np.float64(2.3876776099205017),\n",
       " np.float64(2.405539095401764),\n",
       " np.float64(2.421290874481201),\n",
       " np.float64(2.414991617202759),\n",
       " np.float64(2.3381103575229645),\n",
       " np.float64(2.4740107655525208),\n",
       " np.float64(2.372534990310669),\n",
       " np.float64(2.53614604473114),\n",
       " np.float64(2.3739831149578094),\n",
       " np.float64(2.422285735607147),\n",
       " np.float64(2.38636577129364),\n",
       " np.float64(2.3892169296741486),\n",
       " np.float64(2.4047176241874695),\n",
       " np.float64(2.365776240825653),\n",
       " np.float64(2.3653663098812103),\n",
       " np.float64(2.393222212791443),\n",
       " np.float64(2.3787546157836914),\n",
       " np.float64(2.393577992916107),\n",
       " np.float64(2.435290038585663),\n",
       " np.float64(2.402241587638855),\n",
       " np.float64(2.4102609753608704),\n",
       " np.float64(2.3335714638233185),\n",
       " np.float64(2.407284140586853),\n",
       " np.float64(2.3867392539978027),\n",
       " np.float64(2.3149964213371277),\n",
       " np.float64(2.356172025203705),\n",
       " np.float64(2.38498717546463),\n",
       " np.float64(2.3614282608032227),\n",
       " np.float64(2.364854633808136),\n",
       " np.float64(2.359954059123993),\n",
       " np.float64(2.4113162755966187),\n",
       " np.float64(2.386038839817047),\n",
       " np.float64(2.3703235387802124),\n",
       " np.float64(2.454030454158783),\n",
       " np.float64(2.4271064400672913),\n",
       " np.float64(2.439549446105957),\n",
       " np.float64(2.3181520104408264),\n",
       " np.float64(2.3541740775108337),\n",
       " np.float64(2.4404199719429016),\n",
       " np.float64(2.440766930580139),\n",
       " np.float64(2.362719774246216),\n",
       " np.float64(2.4565215706825256),\n",
       " np.float64(2.370699405670166),\n",
       " np.float64(2.418634533882141),\n",
       " np.float64(2.3925229907035828),\n",
       " np.float64(2.4546937942504883),\n",
       " np.float64(2.3752036094665527),\n",
       " np.float64(2.3920175433158875),\n",
       " np.float64(2.4348971843719482),\n",
       " np.float64(2.395984470844269),\n",
       " np.float64(2.373093545436859),\n",
       " np.float64(2.3556827902793884),\n",
       " np.float64(2.379188060760498),\n",
       " np.float64(2.425353467464447),\n",
       " np.float64(2.3581178784370422),\n",
       " np.float64(2.414815902709961),\n",
       " np.float64(2.3986650109291077),\n",
       " np.float64(2.353834807872772),\n",
       " np.float64(2.3942622542381287),\n",
       " np.float64(2.3857902884483337),\n",
       " np.float64(2.32638156414032),\n",
       " np.float64(2.3795926570892334),\n",
       " np.float64(2.4057576656341553),\n",
       " np.float64(2.39797043800354),\n",
       " np.float64(2.4112643599510193),\n",
       " np.float64(2.3923959136009216),\n",
       " np.float64(2.3713570833206177),\n",
       " np.float64(2.348079264163971),\n",
       " np.float64(2.379366874694824),\n",
       " np.float64(2.511789619922638),\n",
       " np.float64(2.410781502723694),\n",
       " np.float64(2.388607680797577),\n",
       " np.float64(2.3488821387290955),\n",
       " np.float64(2.433892846107483),\n",
       " np.float64(2.3577520847320557),\n",
       " np.float64(2.3445348143577576),\n",
       " np.float64(2.4302510023117065),\n",
       " np.float64(2.381786048412323),\n",
       " np.float64(2.433362603187561),\n",
       " np.float64(2.4482442140579224),\n",
       " np.float64(2.3944732546806335),\n",
       " np.float64(2.412214994430542),\n",
       " np.float64(2.3794714212417603),\n",
       " np.float64(2.467223823070526),\n",
       " np.float64(2.3698049187660217),\n",
       " np.float64(2.387435019016266),\n",
       " np.float64(2.375135838985443),\n",
       " np.float64(2.3856531381607056),\n",
       " np.float64(2.554596185684204),\n",
       " np.float64(2.3883596658706665),\n",
       " np.float64(2.3572357296943665),\n",
       " np.float64(2.3804984092712402),\n",
       " np.float64(2.3810612559318542),\n",
       " np.float64(2.4372846484184265),\n",
       " np.float64(2.4294354915618896),\n",
       " np.float64(2.403001129627228),\n",
       " np.float64(2.348283588886261),\n",
       " np.float64(2.3622965812683105),\n",
       " np.float64(2.421810507774353),\n",
       " np.float64(2.3517227172851562),\n",
       " np.float64(2.344000220298767),\n",
       " np.float64(2.404494285583496),\n",
       " np.float64(2.3899521827697754),\n",
       " np.float64(2.4765397906303406),\n",
       " np.float64(2.405276894569397),\n",
       " np.float64(2.430240750312805),\n",
       " np.float64(2.4545275568962097),\n",
       " np.float64(2.4155489206314087),\n",
       " np.float64(2.4160454869270325),\n",
       " np.float64(2.576395630836487),\n",
       " np.float64(2.392692446708679),\n",
       " np.float64(2.4206191301345825),\n",
       " np.float64(2.3939069509506226),\n",
       " np.float64(2.410443425178528),\n",
       " np.float64(2.454364061355591),\n",
       " np.float64(2.4235305786132812),\n",
       " np.float64(2.384703576564789),\n",
       " np.float64(2.3846494555473328),\n",
       " np.float64(2.362974762916565),\n",
       " np.float64(2.477933883666992),\n",
       " np.float64(2.408693015575409),\n",
       " np.float64(2.4470596313476562),\n",
       " np.float64(2.427249550819397),\n",
       " np.float64(2.4609837532043457),\n",
       " np.float64(2.388255536556244),\n",
       " np.float64(2.4442575573921204),\n",
       " np.float64(2.423114776611328),\n",
       " np.float64(2.398813247680664),\n",
       " np.float64(2.406571865081787),\n",
       " np.float64(2.415450870990753),\n",
       " np.float64(2.4588794708251953),\n",
       " np.float64(2.403406858444214),\n",
       " np.float64(2.460787832736969),\n",
       " np.float64(2.382663130760193),\n",
       " np.float64(2.4178268909454346),\n",
       " np.float64(2.4934115409851074),\n",
       " np.float64(2.4325955510139465),\n",
       " np.float64(2.427024722099304),\n",
       " np.float64(2.477163016796112),\n",
       " np.float64(2.4069071412086487),\n",
       " np.float64(2.440225660800934),\n",
       " np.float64(2.470407724380493),\n",
       " np.float64(2.4132790565490723),\n",
       " np.float64(2.4248321056365967),\n",
       " np.float64(2.537128448486328),\n",
       " np.float64(2.4635338187217712),\n",
       " np.float64(2.4513185024261475),\n",
       " np.float64(2.4134615063667297),\n",
       " np.float64(2.426608622074127),\n",
       " np.float64(2.3775119185447693),\n",
       " np.float64(2.482052445411682),\n",
       " np.float64(2.4545037150382996),\n",
       " np.float64(2.4433950185775757),\n",
       " np.float64(2.44604754447937),\n",
       " np.float64(2.5620813369750977),\n",
       " np.float64(2.4842873215675354),\n",
       " np.float64(2.448178231716156),\n",
       " np.float64(2.486725091934204),\n",
       " np.float64(2.4434314370155334),\n",
       " np.float64(2.4361833333969116),\n",
       " np.float64(2.418282985687256),\n",
       " np.float64(2.4758487939834595),\n",
       " np.float64(2.5207804441452026),\n",
       " np.float64(2.475906789302826),\n",
       " np.float64(2.5158033967018127),\n",
       " np.float64(2.442765235900879),\n",
       " np.float64(2.497185468673706),\n",
       " np.float64(2.4403613209724426),\n",
       " np.float64(2.4783695936203003),\n",
       " np.float64(2.4686367511749268),\n",
       " np.float64(2.4567203521728516),\n",
       " np.float64(2.4498512148857117),\n",
       " np.float64(2.457769215106964),\n",
       " np.float64(2.499550223350525),\n",
       " np.float64(2.477324903011322),\n",
       " np.float64(2.4922139644622803),\n",
       " np.float64(2.541620969772339),\n",
       " np.float64(2.4726073145866394),\n",
       " np.float64(2.454771041870117),\n",
       " np.float64(2.462120532989502),\n",
       " np.float64(2.441959500312805),\n",
       " np.float64(2.447355270385742),\n",
       " np.float64(2.511328637599945),\n",
       " np.float64(2.4749240279197693),\n",
       " np.float64(2.4540367126464844),\n",
       " np.float64(2.542941451072693),\n",
       " np.float64(2.5122061371803284),\n",
       " np.float64(2.478813588619232),\n",
       " np.float64(2.514301300048828),\n",
       " np.float64(2.486235022544861),\n",
       " np.float64(2.504305601119995),\n",
       " np.float64(2.460023820400238),\n",
       " np.float64(2.485858142375946),\n",
       " np.float64(2.516521990299225),\n",
       " np.float64(2.486851930618286),\n",
       " np.float64(2.4804158806800842),\n",
       " np.float64(2.505454123020172),\n",
       " np.float64(2.509007751941681),\n",
       " np.float64(2.449834883213043),\n",
       " np.float64(2.4622893929481506),\n",
       " np.float64(2.504663825035095),\n",
       " np.float64(2.4239498376846313),\n",
       " np.float64(2.483393967151642),\n",
       " np.float64(2.472036063671112),\n",
       " np.float64(2.528304636478424),\n",
       " np.float64(2.4815686345100403),\n",
       " np.float64(2.599028706550598),\n",
       " np.float64(2.5225539803504944),\n",
       " np.float64(2.465098202228546),\n",
       " np.float64(2.535239100456238),\n",
       " np.float64(2.5220987796783447),\n",
       " np.float64(2.5155356526374817),\n",
       " np.float64(2.451632797718048),\n",
       " np.float64(2.4701181054115295),\n",
       " np.float64(2.5344032049179077),\n",
       " np.float64(2.459340512752533),\n",
       " np.float64(2.5825352668762207),\n",
       " np.float64(2.54039990901947),\n",
       " np.float64(2.5499455332756042),\n",
       " np.float64(2.4776264429092407),\n",
       " np.float64(2.4697608947753906),\n",
       " np.float64(2.516478657722473),\n",
       " np.float64(2.5398388504981995),\n",
       " np.float64(2.5462093353271484),\n",
       " np.float64(2.5431647896766663),\n",
       " np.float64(2.5034005641937256),\n",
       " np.float64(2.5252367854118347),\n",
       " np.float64(2.535613477230072),\n",
       " np.float64(2.512822389602661),\n",
       " np.float64(2.4757080674171448),\n",
       " np.float64(2.5418835282325745),\n",
       " np.float64(2.518992841243744),\n",
       " np.float64(2.587671637535095),\n",
       " np.float64(2.5572182536125183),\n",
       " np.float64(2.498938739299774),\n",
       " np.float64(2.5199119448661804),\n",
       " np.float64(2.485077679157257),\n",
       " np.float64(2.4959776401519775),\n",
       " np.float64(2.5110079646110535),\n",
       " np.float64(2.5287586450576782),\n",
       " np.float64(2.497318983078003),\n",
       " np.float64(2.5050967931747437),\n",
       " np.float64(2.5044883489608765),\n",
       " np.float64(2.504585862159729),\n",
       " np.float64(2.5330148339271545),\n",
       " np.float64(2.522318184375763),\n",
       " np.float64(2.535411238670349),\n",
       " np.float64(2.5180848240852356),\n",
       " np.float64(2.5659902691841125),\n",
       " np.float64(2.4718637466430664),\n",
       " np.float64(2.5059491991996765),\n",
       " np.float64(2.5809468626976013),\n",
       " np.float64(2.570271074771881),\n",
       " np.float64(2.513777732849121),\n",
       " np.float64(2.5860628485679626),\n",
       " np.float64(2.532233238220215),\n",
       " np.float64(2.547407388687134),\n",
       " np.float64(2.592183291912079),\n",
       " np.float64(2.4854453802108765),\n",
       " np.float64(2.601209044456482),\n",
       " np.float64(2.510159730911255),\n",
       " np.float64(2.543459892272949),\n",
       " np.float64(2.5333993434906006),\n",
       " np.float64(2.5187012553215027),\n",
       " np.float64(2.5497586131095886),\n",
       " np.float64(2.5562945008277893),\n",
       " np.float64(2.5493242740631104),\n",
       " np.float64(2.5830893516540527),\n",
       " np.float64(2.565003216266632),\n",
       " np.float64(2.5748687386512756),\n",
       " np.float64(2.5234774351119995),\n",
       " np.float64(2.547880709171295),\n",
       " np.float64(2.5695443153381348),\n",
       " np.float64(2.5514822006225586),\n",
       " np.float64(2.5528127551078796),\n",
       " np.float64(2.5884851813316345),\n",
       " np.float64(2.568851053714752),\n",
       " np.float64(2.502664804458618),\n",
       " np.float64(2.597062826156616),\n",
       " np.float64(2.6209850907325745),\n",
       " np.float64(2.6164510846138),\n",
       " np.float64(2.5885074138641357),\n",
       " np.float64(2.6167351603507996),\n",
       " np.float64(2.59339702129364),\n",
       " np.float64(2.577946186065674),\n",
       " np.float64(2.6186928153038025),\n",
       " np.float64(2.5358846783638),\n",
       " np.float64(2.5342867970466614),\n",
       " np.float64(2.593319594860077),\n",
       " np.float64(2.6180522441864014),\n",
       " np.float64(2.5838438868522644),\n",
       " np.float64(2.621956467628479),\n",
       " np.float64(2.663926124572754),\n",
       " np.float64(2.631728231906891),\n",
       " np.float64(2.544855058193207),\n",
       " np.float64(2.6362130641937256),\n",
       " np.float64(2.611200273036957),\n",
       " np.float64(2.629785478115082),\n",
       " np.float64(2.630434215068817),\n",
       " np.float64(2.6099420189857483),\n",
       " np.float64(2.683121383190155),\n",
       " np.float64(2.6516078114509583),\n",
       " np.float64(2.608595311641693),\n",
       " np.float64(2.658690929412842),\n",
       " np.float64(2.6116658449172974),\n",
       " np.float64(2.6143341064453125),\n",
       " np.float64(2.5849923491477966),\n",
       " np.float64(2.6419414281845093),\n",
       " np.float64(2.5605496764183044),\n",
       " np.float64(2.6234704852104187),\n",
       " np.float64(2.6149105429649353),\n",
       " np.float64(2.6148282885551453),\n",
       " np.float64(2.6124472618103027),\n",
       " np.float64(2.628478169441223),\n",
       " np.float64(2.6387734413146973),\n",
       " np.float64(2.5756336450576782),\n",
       " np.float64(2.6435524821281433),\n",
       " np.float64(2.68337881565094),\n",
       " np.float64(2.611378788948059),\n",
       " np.float64(2.653490364551544),\n",
       " np.float64(2.592923879623413),\n",
       " np.float64(2.605802536010742),\n",
       " np.float64(2.6444291472434998),\n",
       " np.float64(2.5440624952316284),\n",
       " np.float64(2.652926027774811),\n",
       " np.float64(2.614294171333313),\n",
       " np.float64(2.5965165495872498),\n",
       " np.float64(2.649549126625061),\n",
       " np.float64(2.5901876091957092),\n",
       " np.float64(2.6517303586006165),\n",
       " np.float64(2.6787323355674744),\n",
       " np.float64(2.6959365010261536),\n",
       " np.float64(2.6272477507591248),\n",
       " np.float64(2.6031497716903687),\n",
       " np.float64(2.6578160524368286),\n",
       " np.float64(2.683322548866272),\n",
       " np.float64(2.645691394805908),\n",
       " np.float64(2.681020677089691),\n",
       " np.float64(2.651497483253479),\n",
       " np.float64(2.684107720851898),\n",
       " np.float64(2.6217671036720276),\n",
       " np.float64(2.655949652194977),\n",
       " np.float64(2.674496054649353),\n",
       " np.float64(2.7155365347862244),\n",
       " np.float64(2.6227691173553467),\n",
       " np.float64(2.645108163356781),\n",
       " np.float64(2.7046384811401367),\n",
       " np.float64(2.6161948442459106),\n",
       " np.float64(2.6563917994499207),\n",
       " np.float64(2.696259617805481),\n",
       " np.float64(2.607306659221649),\n",
       " np.float64(2.692810595035553),\n",
       " np.float64(2.686406672000885),\n",
       " np.float64(2.6599135994911194),\n",
       " np.float64(2.6408351063728333),\n",
       " np.float64(2.703784942626953),\n",
       " np.float64(2.6737974286079407),\n",
       " np.float64(2.6761043071746826),\n",
       " np.float64(2.724745750427246),\n",
       " np.float64(2.6807671785354614),\n",
       " np.float64(2.66821551322937),\n",
       " np.float64(2.673356294631958),\n",
       " np.float64(2.6404887437820435),\n",
       " np.float64(2.710386097431183),\n",
       " np.float64(2.6941823959350586),\n",
       " np.float64(2.6801677942276),\n",
       " np.float64(2.7924370765686035),\n",
       " np.float64(2.6677713990211487),\n",
       " np.float64(2.6704259514808655),\n",
       " np.float64(2.707376539707184),\n",
       " np.float64(2.629489779472351),\n",
       " np.float64(2.737770974636078),\n",
       " np.float64(2.678236663341522),\n",
       " np.float64(2.6652799248695374),\n",
       " np.float64(2.65524685382843),\n",
       " np.float64(2.7016366720199585),\n",
       " np.float64(2.7310574650764465),\n",
       " np.float64(2.710676431655884),\n",
       " np.float64(2.6200583577156067),\n",
       " np.float64(2.682347297668457),\n",
       " np.float64(2.701897084712982),\n",
       " np.float64(2.7055357694625854),\n",
       " np.float64(2.7071272134780884),\n",
       " np.float64(2.6373355388641357),\n",
       " np.float64(2.6994330883026123),\n",
       " np.float64(2.746499240398407),\n",
       " np.float64(2.6285480260849),\n",
       " np.float64(2.668207108974457),\n",
       " np.float64(2.675652801990509),\n",
       " np.float64(2.726257860660553),\n",
       " np.float64(2.6859124898910522),\n",
       " np.float64(2.6604174375534058),\n",
       " np.float64(2.7355566024780273),\n",
       " np.float64(2.677538752555847),\n",
       " np.float64(2.724229097366333),\n",
       " np.float64(2.6779189705848694),\n",
       " np.float64(2.742518365383148),\n",
       " np.float64(2.6635616421699524),\n",
       " np.float64(2.734268307685852),\n",
       " np.float64(2.605001986026764),\n",
       " np.float64(2.6969764828681946),\n",
       " np.float64(2.6811327934265137),\n",
       " np.float64(2.661372661590576),\n",
       " np.float64(2.7584891319274902),\n",
       " np.float64(2.725718677043915),\n",
       " np.float64(2.717861235141754),\n",
       " np.float64(2.642281711101532),\n",
       " np.float64(2.6992014050483704),\n",
       " np.float64(2.692616641521454),\n",
       " np.float64(2.6480554938316345),\n",
       " np.float64(2.7296109199523926),\n",
       " np.float64(2.6547507643699646),\n",
       " np.float64(2.706676483154297),\n",
       " np.float64(2.7414754033088684),\n",
       " np.float64(2.769797444343567),\n",
       " np.float64(2.7197137475013733),\n",
       " np.float64(2.695969879627228),\n",
       " np.float64(2.7333502769470215)]"
      ]
     },
     "execution_count": 113,
     "metadata": {},
     "output_type": "execute_result"
    }
   ],
   "source": [
    "average_mae_history = [\n",
    "    np.mean([x[i] for x in all_mae_histories]) for i in range(num_epochs)]"
   ]
  },
  {
   "cell_type": "code",
   "execution_count": 114,
   "id": "3d59187a",
   "metadata": {},
   "outputs": [
    {
     "data": {
      "image/png": "[encoded data removed]",
      "text/plain": [
       "<Figure size 640x480 with 1 Axes>"
      ]
     },
     "metadata": {},
     "output_type": "display_data"
    }
   ],
   "source": [
    "plt.plot(range(1, len(average_mae_history) + 1), average_mae_history)\n",
    "plt.xlabel(\"Epochs\")\n",
    "plt.ylabel(\"Validation MAE\")\n",
    "plt.show()"
   ]
  },
  {
   "cell_type": "code",
   "execution_count": 115,
   "id": "b9dbd0d7",
   "metadata": {},
   "outputs": [
    {
     "data": {
      "image/png": "[encoded data removed]",
      "text/plain": [
       "<Figure size 640x480 with 1 Axes>"
      ]
     },
     "metadata": {},
     "output_type": "display_data"
    }
   ],
   "source": [
    "truncated_mae_history = average_mae_history[10:]\n",
    "plt.plot(range(1, len(truncated_mae_history) + 1), truncated_mae_history)\n",
    "plt.xlabel(\"Epochs\")\n",
    "plt.ylabel(\"Validation MAE\")\n",
    "plt.show()"
   ]
  },
  {
   "cell_type": "code",
   "execution_count": 116,
   "id": "069f2aa9",
   "metadata": {},
   "outputs": [
    {
     "name": "stdout",
     "output_type": "stream",
     "text": [
      "\u001b[1m4/4\u001b[0m \u001b[32m━━━━━━━━━━━━━━━━━━━━\u001b[0m\u001b[37m\u001b[0m \u001b[1m0s\u001b[0m 13ms/step - loss: 12.2625 - mae: 2.4056\n"
     ]
    }
   ],
   "source": [
    "# Train the final model\n",
    "model = build_model()\n",
    "model.fit(train_data, train_targets,\n",
    "          epochs=130, batch_size=16, verbose=0)\n",
    "test_mse_score, test_mae_score = model.evaluate(test_data, test_targets)"
   ]
  },
  {
   "cell_type": "code",
   "execution_count": 117,
   "id": "37cd8085",
   "metadata": {},
   "outputs": [
    {
     "data": {
      "text/plain": [
       "2.6348133087158203"
      ]
     },
     "execution_count": 117,
     "metadata": {},
     "output_type": "execute_result"
    }
   ],
   "source": [
    "test_mae_score"
   ]
  },
  {
   "cell_type": "code",
   "execution_count": 118,
   "id": "e4db5f85",
   "metadata": {},
   "outputs": [
    {
     "name": "stdout",
     "output_type": "stream",
     "text": [
      "\u001b[1m4/4\u001b[0m \u001b[32m━━━━━━━━━━━━━━━━━━━━\u001b[0m\u001b[37m\u001b[0m \u001b[1m0s\u001b[0m 35ms/step\n"
     ]
    },
    {
     "data": {
      "text/plain": [
       "array([9.52115], dtype=float32)"
      ]
     },
     "execution_count": 118,
     "metadata": {},
     "output_type": "execute_result"
    }
   ],
   "source": [
    "# Generating predictions\n",
    "predictions = model.predict(test_data)\n",
    "predictions[0]"
   ]
  },
  {
   "cell_type": "markdown",
   "id": "ac967e3b",
   "metadata": {},
   "source": [
    "### Wrapping Up\n",
    "- Regression is don with different loss functions, mse is common for regression\n",
    "- Evaluation is different as well, often MAE is used for evaluation\n",
    "- When feature values have different ranges scaling is required\n",
    "- When there is little data, cross validation is a great way to evaluate the model\n",
    "- When there is little data, use smaller models with few intermediate layers\n",
    "  in order to avoid overfitting\n",
    "\n"
   ]
  },
  {
   "cell_type": "markdown",
   "id": "66c5070e",
   "metadata": {},
   "source": [
    "# Chapter 5 - Fundamentals of Machine Learning\n",
    "\n",
    "- Overfitting is likely when the input data is very noisy\n",
    "- or if there is a high degree of uncertainty\n",
    "- or if there are rare features\n",
    "\n",
    "## Noisy Training Data\n",
    "\n",
    "### Inaccuracies\n",
    "\n",
    "- When there are samples you can make no sense of\n",
    "- If a model goes out of its way to predict these, it will not generalize well\n",
    "\n",
    "### Ambiguous Features\n",
    "\n",
    "There are often areas of the input feature space that are associated with\n",
    "multiple classes at the same time. Fitting too closely in these regions drives\n",
    "uncertainty.\n",
    "\n",
    "### Rare Features and Spurious Correlations\n",
    "\n",
    "If you only see a few examples of a population and draw too many conclusions\n",
    "your model will not generalize well.\n",
    "\n"
   ]
  },
  {
   "cell_type": "code",
   "execution_count": 121,
   "id": "7fc8ca9d",
   "metadata": {},
   "outputs": [],
   "source": [
    "# Adding white noise channel to or all zeros channels to MNIST\n",
    "from tensorflow.keras.datasets import mnist\n",
    "import numpy as np\n",
    "\n",
    "(train_images, train_labels), _ = mnist.load_data()\n",
    "train_images = train_images.reshape((60000, 28 * 28))\n",
    "train_images = train_images.astype('float32') / 255\n",
    "\n",
    "train_images_with_noise_channels = np.concatenate(\n",
    "    [train_images, np.random.random((len(train_images), 784))], axis=1\n",
    ")\n",
    "\n",
    "train_images_with_zeros_channels = np.concatenate(\n",
    "    [train_images, np.zeros((len(train_images), 784))], axis=1\n",
    ")"
   ]
  },
  {
   "cell_type": "code",
   "execution_count": 122,
   "id": "6e259170",
   "metadata": {},
   "outputs": [
    {
     "name": "stdout",
     "output_type": "stream",
     "text": [
      "Epoch 1/10\n",
      "\u001b[1m375/375\u001b[0m \u001b[32m━━━━━━━━━━━━━━━━━━━━\u001b[0m\u001b[37m\u001b[0m \u001b[1m11s\u001b[0m 26ms/step - accuracy: 0.6962 - loss: 1.0854 - val_accuracy: 0.9070 - val_loss: 0.2989\n",
      "Epoch 2/10\n",
      "\u001b[1m375/375\u001b[0m \u001b[32m━━━━━━━━━━━━━━━━━━━━\u001b[0m\u001b[37m\u001b[0m \u001b[1m9s\u001b[0m 23ms/step - accuracy: 0.9161 - loss: 0.2721 - val_accuracy: 0.9239 - val_loss: 0.2436\n",
      "Epoch 3/10\n",
      "\u001b[1m375/375\u001b[0m \u001b[32m━━━━━━━━━━━━━━━━━━━━\u001b[0m\u001b[37m\u001b[0m \u001b[1m9s\u001b[0m 23ms/step - accuracy: 0.9477 - loss: 0.1723 - val_accuracy: 0.9542 - val_loss: 0.1532\n",
      "Epoch 4/10\n",
      "\u001b[1m375/375\u001b[0m \u001b[32m━━━━━━━━━━━━━━━━━━━━\u001b[0m\u001b[37m\u001b[0m \u001b[1m9s\u001b[0m 23ms/step - accuracy: 0.9624 - loss: 0.1206 - val_accuracy: 0.9512 - val_loss: 0.1621\n",
      "Epoch 5/10\n",
      "\u001b[1m375/375\u001b[0m \u001b[32m━━━━━━━━━━━━━━━━━━━━\u001b[0m\u001b[37m\u001b[0m \u001b[1m8s\u001b[0m 22ms/step - accuracy: 0.9713 - loss: 0.0909 - val_accuracy: 0.9489 - val_loss: 0.1699\n",
      "Epoch 6/10\n",
      "\u001b[1m375/375\u001b[0m \u001b[32m━━━━━━━━━━━━━━━━━━━━\u001b[0m\u001b[37m\u001b[0m \u001b[1m8s\u001b[0m 22ms/step - accuracy: 0.9795 - loss: 0.0630 - val_accuracy: 0.9647 - val_loss: 0.1242\n",
      "Epoch 7/10\n",
      "\u001b[1m375/375\u001b[0m \u001b[32m━━━━━━━━━━━━━━━━━━━━\u001b[0m\u001b[37m\u001b[0m \u001b[1m9s\u001b[0m 23ms/step - accuracy: 0.9848 - loss: 0.0474 - val_accuracy: 0.9626 - val_loss: 0.1420\n",
      "Epoch 8/10\n",
      "\u001b[1m375/375\u001b[0m \u001b[32m━━━━━━━━━━━━━━━━━━━━\u001b[0m\u001b[37m\u001b[0m \u001b[1m9s\u001b[0m 25ms/step - accuracy: 0.9892 - loss: 0.0341 - val_accuracy: 0.9658 - val_loss: 0.1275\n",
      "Epoch 9/10\n",
      "\u001b[1m375/375\u001b[0m \u001b[32m━━━━━━━━━━━━━━━━━━━━\u001b[0m\u001b[37m\u001b[0m \u001b[1m9s\u001b[0m 25ms/step - accuracy: 0.9931 - loss: 0.0235 - val_accuracy: 0.9687 - val_loss: 0.1184\n",
      "Epoch 10/10\n",
      "\u001b[1m375/375\u001b[0m \u001b[32m━━━━━━━━━━━━━━━━━━━━\u001b[0m\u001b[37m\u001b[0m \u001b[1m10s\u001b[0m 26ms/step - accuracy: 0.9951 - loss: 0.0173 - val_accuracy: 0.9663 - val_loss: 0.1341\n",
      "Epoch 1/10\n",
      "\u001b[1m375/375\u001b[0m \u001b[32m━━━━━━━━━━━━━━━━━━━━\u001b[0m\u001b[37m\u001b[0m \u001b[1m13s\u001b[0m 32ms/step - accuracy: 0.8584 - loss: 0.4877 - val_accuracy: 0.9563 - val_loss: 0.1485\n",
      "Epoch 2/10\n",
      "\u001b[1m375/375\u001b[0m \u001b[32m━━━━━━━━━━━━━━━━━━━━\u001b[0m\u001b[37m\u001b[0m \u001b[1m10s\u001b[0m 25ms/step - accuracy: 0.9610 - loss: 0.1317 - val_accuracy: 0.9705 - val_loss: 0.1017\n",
      "Epoch 3/10\n",
      "\u001b[1m375/375\u001b[0m \u001b[32m━━━━━━━━━━━━━━━━━━━━\u001b[0m\u001b[37m\u001b[0m \u001b[1m10s\u001b[0m 25ms/step - accuracy: 0.9774 - loss: 0.0796 - val_accuracy: 0.9722 - val_loss: 0.0914\n",
      "Epoch 4/10\n",
      "\u001b[1m375/375\u001b[0m \u001b[32m━━━━━━━━━━━━━━━━━━━━\u001b[0m\u001b[37m\u001b[0m \u001b[1m9s\u001b[0m 24ms/step - accuracy: 0.9834 - loss: 0.0582 - val_accuracy: 0.9716 - val_loss: 0.0962\n",
      "Epoch 5/10\n",
      "\u001b[1m375/375\u001b[0m \u001b[32m━━━━━━━━━━━━━━━━━━━━\u001b[0m\u001b[37m\u001b[0m \u001b[1m9s\u001b[0m 25ms/step - accuracy: 0.9872 - loss: 0.0423 - val_accuracy: 0.9763 - val_loss: 0.0798\n",
      "Epoch 6/10\n",
      "\u001b[1m375/375\u001b[0m \u001b[32m━━━━━━━━━━━━━━━━━━━━\u001b[0m\u001b[37m\u001b[0m \u001b[1m10s\u001b[0m 27ms/step - accuracy: 0.9908 - loss: 0.0327 - val_accuracy: 0.9780 - val_loss: 0.0825\n",
      "Epoch 7/10\n",
      "\u001b[1m375/375\u001b[0m \u001b[32m━━━━━━━━━━━━━━━━━━━━\u001b[0m\u001b[37m\u001b[0m \u001b[1m10s\u001b[0m 28ms/step - accuracy: 0.9939 - loss: 0.0232 - val_accuracy: 0.9793 - val_loss: 0.0714\n",
      "Epoch 8/10\n",
      "\u001b[1m375/375\u001b[0m \u001b[32m━━━━━━━━━━━━━━━━━━━━\u001b[0m\u001b[37m\u001b[0m \u001b[1m10s\u001b[0m 27ms/step - accuracy: 0.9956 - loss: 0.0171 - val_accuracy: 0.9772 - val_loss: 0.0780\n",
      "Epoch 9/10\n",
      "\u001b[1m375/375\u001b[0m \u001b[32m━━━━━━━━━━━━━━━━━━━━\u001b[0m\u001b[37m\u001b[0m \u001b[1m10s\u001b[0m 27ms/step - accuracy: 0.9966 - loss: 0.0126 - val_accuracy: 0.9783 - val_loss: 0.0778\n",
      "Epoch 10/10\n",
      "\u001b[1m375/375\u001b[0m \u001b[32m━━━━━━━━━━━━━━━━━━━━\u001b[0m\u001b[37m\u001b[0m \u001b[1m10s\u001b[0m 27ms/step - accuracy: 0.9978 - loss: 0.0092 - val_accuracy: 0.9804 - val_loss: 0.0778\n"
     ]
    }
   ],
   "source": [
    "from tensorflow import keras\n",
    "from tensorflow.keras import layers\n",
    "\n",
    "def get_model():\n",
    "    model = keras.Sequential([\n",
    "        layers.Dense(512, activation=\"relu\"),\n",
    "        layers.Dense(10, activation=\"softmax\")\n",
    "    ])\n",
    "    model.compile(optimizer=\"rmsprop\",\n",
    "                  loss=\"sparse_categorical_crossentropy\",\n",
    "                  metrics=[\"accuracy\"])\n",
    "    return model\n",
    "\n",
    "model = get_model()\n",
    "history_noise = model.fit(\n",
    "    train_images_with_noise_channels, train_labels,\n",
    "    epochs=10,\n",
    "    batch_size=128,\n",
    "    validation_split=0.2)\n",
    "\n",
    "model = get_model()\n",
    "history_zeros = model.fit(\n",
    "    train_images_with_zeros_channels, train_labels,\n",
    "    epochs=10,\n",
    "    batch_size=128,\n",
    "    validation_split=0.2)"
   ]
  },
  {
   "cell_type": "code",
   "execution_count": 123,
   "id": "eee591ae",
   "metadata": {},
   "outputs": [
    {
     "data": {
      "text/plain": [
       "<matplotlib.legend.Legend at 0x791cda7f45e0>"
      ]
     },
     "execution_count": 123,
     "metadata": {},
     "output_type": "execute_result"
    },
    {
     "data": {
      "image/png": "[encoded data removed]",
      "text/plain": [
       "<Figure size 640x480 with 1 Axes>"
      ]
     },
     "metadata": {},
     "output_type": "display_data"
    }
   ],
   "source": [
    "# Plotting a validation accuracy comparison\n",
    "import matplotlib.pyplot as plt\n",
    "val_acc_noise = history_noise.history[\"val_accuracy\"]\n",
    "val_acc_zeros = history_zeros.history[\"val_accuracy\"]\n",
    "epochs = range(1, 11)\n",
    "plt.plot(epochs, val_acc_noise, \"b-\",\n",
    "         label=\"Validation accuracy with noise channels\")\n",
    "plt.plot(epochs, val_acc_zeros, \"b--\",\n",
    "         label=\"Validation accuracy with zeros channels\")\n",
    "plt.title(\"Effect of noise channels on validation accuracy\")\n",
    "plt.xlabel(\"Epochs\")\n",
    "plt.ylabel(\"Accuracy\")\n",
    "plt.legend()\n"
   ]
  },
  {
   "cell_type": "markdown",
   "id": "8e01f9b5",
   "metadata": {},
   "source": [
    "## Effects of Noise and Feature Selection\n",
    "\n",
    "Noisy features lead to overfitting. Feature selection helps mitigate this. Often\n",
    "this involves calculating a usefulness score. "
   ]
  },
  {
   "cell_type": "code",
   "execution_count": 125,
   "id": "ae996126",
   "metadata": {},
   "outputs": [
    {
     "name": "stdout",
     "output_type": "stream",
     "text": [
      "Epoch 1/100\n",
      "\u001b[1m375/375\u001b[0m \u001b[32m━━━━━━━━━━━━━━━━━━━━\u001b[0m\u001b[37m\u001b[0m \u001b[1m8s\u001b[0m 18ms/step - accuracy: 0.1014 - loss: 2.3334 - val_accuracy: 0.1051 - val_loss: 2.3055\n",
      "Epoch 2/100\n",
      "\u001b[1m375/375\u001b[0m \u001b[32m━━━━━━━━━━━━━━━━━━━━\u001b[0m\u001b[37m\u001b[0m \u001b[1m6s\u001b[0m 16ms/step - accuracy: 0.1213 - loss: 2.2970 - val_accuracy: 0.1007 - val_loss: 2.3090\n",
      "Epoch 3/100\n",
      "\u001b[1m375/375\u001b[0m \u001b[32m━━━━━━━━━━━━━━━━━━━━\u001b[0m\u001b[37m\u001b[0m \u001b[1m6s\u001b[0m 16ms/step - accuracy: 0.1276 - loss: 2.2891 - val_accuracy: 0.0993 - val_loss: 2.3176\n",
      "Epoch 4/100\n",
      "\u001b[1m375/375\u001b[0m \u001b[32m━━━━━━━━━━━━━━━━━━━━\u001b[0m\u001b[37m\u001b[0m \u001b[1m6s\u001b[0m 16ms/step - accuracy: 0.1393 - loss: 2.2773 - val_accuracy: 0.0977 - val_loss: 2.3283\n",
      "Epoch 5/100\n",
      "\u001b[1m375/375\u001b[0m \u001b[32m━━━━━━━━━━━━━━━━━━━━\u001b[0m\u001b[37m\u001b[0m \u001b[1m6s\u001b[0m 16ms/step - accuracy: 0.1522 - loss: 2.2611 - val_accuracy: 0.0967 - val_loss: 2.3331\n",
      "Epoch 6/100\n",
      "\u001b[1m375/375\u001b[0m \u001b[32m━━━━━━━━━━━━━━━━━━━━\u001b[0m\u001b[37m\u001b[0m \u001b[1m6s\u001b[0m 16ms/step - accuracy: 0.1697 - loss: 2.2424 - val_accuracy: 0.0989 - val_loss: 2.3502\n",
      "Epoch 7/100\n",
      "\u001b[1m375/375\u001b[0m \u001b[32m━━━━━━━━━━━━━━━━━━━━\u001b[0m\u001b[37m\u001b[0m \u001b[1m6s\u001b[0m 16ms/step - accuracy: 0.1837 - loss: 2.2157 - val_accuracy: 0.0954 - val_loss: 2.3716\n",
      "Epoch 8/100\n",
      "\u001b[1m375/375\u001b[0m \u001b[32m━━━━━━━━━━━━━━━━━━━━\u001b[0m\u001b[37m\u001b[0m \u001b[1m6s\u001b[0m 16ms/step - accuracy: 0.2011 - loss: 2.1897 - val_accuracy: 0.0918 - val_loss: 2.3800\n",
      "Epoch 9/100\n",
      "\u001b[1m375/375\u001b[0m \u001b[32m━━━━━━━━━━━━━━━━━━━━\u001b[0m\u001b[37m\u001b[0m \u001b[1m6s\u001b[0m 16ms/step - accuracy: 0.2176 - loss: 2.1610 - val_accuracy: 0.1015 - val_loss: 2.3987\n",
      "Epoch 10/100\n",
      "\u001b[1m375/375\u001b[0m \u001b[32m━━━━━━━━━━━━━━━━━━━━\u001b[0m\u001b[37m\u001b[0m \u001b[1m6s\u001b[0m 17ms/step - accuracy: 0.2381 - loss: 2.1218 - val_accuracy: 0.0964 - val_loss: 2.4232\n",
      "Epoch 11/100\n",
      "\u001b[1m375/375\u001b[0m \u001b[32m━━━━━━━━━━━━━━━━━━━━\u001b[0m\u001b[37m\u001b[0m \u001b[1m6s\u001b[0m 16ms/step - accuracy: 0.2569 - loss: 2.0875 - val_accuracy: 0.0990 - val_loss: 2.4459\n",
      "Epoch 12/100\n",
      "\u001b[1m375/375\u001b[0m \u001b[32m━━━━━━━━━━━━━━━━━━━━\u001b[0m\u001b[37m\u001b[0m \u001b[1m6s\u001b[0m 16ms/step - accuracy: 0.2696 - loss: 2.0486 - val_accuracy: 0.0970 - val_loss: 2.4709\n",
      "Epoch 13/100\n",
      "\u001b[1m375/375\u001b[0m \u001b[32m━━━━━━━━━━━━━━━━━━━━\u001b[0m\u001b[37m\u001b[0m \u001b[1m6s\u001b[0m 16ms/step - accuracy: 0.2881 - loss: 2.0139 - val_accuracy: 0.0974 - val_loss: 2.5080\n",
      "Epoch 14/100\n",
      "\u001b[1m375/375\u001b[0m \u001b[32m━━━━━━━━━━━━━━━━━━━━\u001b[0m\u001b[37m\u001b[0m \u001b[1m6s\u001b[0m 16ms/step - accuracy: 0.3043 - loss: 1.9669 - val_accuracy: 0.0985 - val_loss: 2.5441\n",
      "Epoch 15/100\n",
      "\u001b[1m375/375\u001b[0m \u001b[32m━━━━━━━━━━━━━━━━━━━━\u001b[0m\u001b[37m\u001b[0m \u001b[1m6s\u001b[0m 15ms/step - accuracy: 0.3208 - loss: 1.9358 - val_accuracy: 0.1008 - val_loss: 2.5740\n",
      "Epoch 16/100\n",
      "\u001b[1m375/375\u001b[0m \u001b[32m━━━━━━━━━━━━━━━━━━━━\u001b[0m\u001b[37m\u001b[0m \u001b[1m6s\u001b[0m 16ms/step - accuracy: 0.3410 - loss: 1.8837 - val_accuracy: 0.0994 - val_loss: 2.6143\n",
      "Epoch 17/100\n",
      "\u001b[1m375/375\u001b[0m \u001b[32m━━━━━━━━━━━━━━━━━━━━\u001b[0m\u001b[37m\u001b[0m \u001b[1m6s\u001b[0m 17ms/step - accuracy: 0.3615 - loss: 1.8449 - val_accuracy: 0.0949 - val_loss: 2.6503\n",
      "Epoch 18/100\n",
      "\u001b[1m375/375\u001b[0m \u001b[32m━━━━━━━━━━━━━━━━━━━━\u001b[0m\u001b[37m\u001b[0m \u001b[1m6s\u001b[0m 17ms/step - accuracy: 0.3747 - loss: 1.8058 - val_accuracy: 0.0994 - val_loss: 2.6724\n",
      "Epoch 19/100\n",
      "\u001b[1m375/375\u001b[0m \u001b[32m━━━━━━━━━━━━━━━━━━━━\u001b[0m\u001b[37m\u001b[0m \u001b[1m6s\u001b[0m 17ms/step - accuracy: 0.3871 - loss: 1.7651 - val_accuracy: 0.0950 - val_loss: 2.7116\n",
      "Epoch 20/100\n",
      "\u001b[1m375/375\u001b[0m \u001b[32m━━━━━━━━━━━━━━━━━━━━\u001b[0m\u001b[37m\u001b[0m \u001b[1m7s\u001b[0m 18ms/step - accuracy: 0.4074 - loss: 1.7223 - val_accuracy: 0.0951 - val_loss: 2.7556\n",
      "Epoch 21/100\n",
      "\u001b[1m375/375\u001b[0m \u001b[32m━━━━━━━━━━━━━━━━━━━━\u001b[0m\u001b[37m\u001b[0m \u001b[1m6s\u001b[0m 17ms/step - accuracy: 0.4216 - loss: 1.6829 - val_accuracy: 0.0932 - val_loss: 2.8140\n",
      "Epoch 22/100\n",
      "\u001b[1m375/375\u001b[0m \u001b[32m━━━━━━━━━━━━━━━━━━━━\u001b[0m\u001b[37m\u001b[0m \u001b[1m6s\u001b[0m 17ms/step - accuracy: 0.4359 - loss: 1.6442 - val_accuracy: 0.0991 - val_loss: 2.8461\n",
      "Epoch 23/100\n",
      "\u001b[1m375/375\u001b[0m \u001b[32m━━━━━━━━━━━━━━━━━━━━\u001b[0m\u001b[37m\u001b[0m \u001b[1m6s\u001b[0m 17ms/step - accuracy: 0.4490 - loss: 1.6132 - val_accuracy: 0.0997 - val_loss: 2.8803\n",
      "Epoch 24/100\n",
      "\u001b[1m375/375\u001b[0m \u001b[32m━━━━━━━━━━━━━━━━━━━━\u001b[0m\u001b[37m\u001b[0m \u001b[1m6s\u001b[0m 16ms/step - accuracy: 0.4591 - loss: 1.5761 - val_accuracy: 0.0972 - val_loss: 2.9306\n",
      "Epoch 25/100\n",
      "\u001b[1m375/375\u001b[0m \u001b[32m━━━━━━━━━━━━━━━━━━━━\u001b[0m\u001b[37m\u001b[0m \u001b[1m6s\u001b[0m 17ms/step - accuracy: 0.4800 - loss: 1.5372 - val_accuracy: 0.0943 - val_loss: 2.9970\n",
      "Epoch 26/100\n",
      "\u001b[1m375/375\u001b[0m \u001b[32m━━━━━━━━━━━━━━━━━━━━\u001b[0m\u001b[37m\u001b[0m \u001b[1m6s\u001b[0m 17ms/step - accuracy: 0.4889 - loss: 1.5042 - val_accuracy: 0.0980 - val_loss: 3.0336\n",
      "Epoch 27/100\n",
      "\u001b[1m375/375\u001b[0m \u001b[32m━━━━━━━━━━━━━━━━━━━━\u001b[0m\u001b[37m\u001b[0m \u001b[1m6s\u001b[0m 16ms/step - accuracy: 0.5005 - loss: 1.4726 - val_accuracy: 0.0954 - val_loss: 3.0701\n",
      "Epoch 28/100\n",
      "\u001b[1m375/375\u001b[0m \u001b[32m━━━━━━━━━━━━━━━━━━━━\u001b[0m\u001b[37m\u001b[0m \u001b[1m7s\u001b[0m 19ms/step - accuracy: 0.5158 - loss: 1.4376 - val_accuracy: 0.0958 - val_loss: 3.1299\n",
      "Epoch 29/100\n",
      "\u001b[1m375/375\u001b[0m \u001b[32m━━━━━━━━━━━━━━━━━━━━\u001b[0m\u001b[37m\u001b[0m \u001b[1m6s\u001b[0m 17ms/step - accuracy: 0.5242 - loss: 1.4060 - val_accuracy: 0.0972 - val_loss: 3.1706\n",
      "Epoch 30/100\n",
      "\u001b[1m375/375\u001b[0m \u001b[32m━━━━━━━━━━━━━━━━━━━━\u001b[0m\u001b[37m\u001b[0m \u001b[1m7s\u001b[0m 18ms/step - accuracy: 0.5359 - loss: 1.3735 - val_accuracy: 0.0992 - val_loss: 3.2196\n",
      "Epoch 31/100\n",
      "\u001b[1m375/375\u001b[0m \u001b[32m━━━━━━━━━━━━━━━━━━━━\u001b[0m\u001b[37m\u001b[0m \u001b[1m7s\u001b[0m 17ms/step - accuracy: 0.5430 - loss: 1.3483 - val_accuracy: 0.0988 - val_loss: 3.2576\n",
      "Epoch 32/100\n",
      "\u001b[1m375/375\u001b[0m \u001b[32m━━━━━━━━━━━━━━━━━━━━\u001b[0m\u001b[37m\u001b[0m \u001b[1m7s\u001b[0m 18ms/step - accuracy: 0.5632 - loss: 1.3103 - val_accuracy: 0.0948 - val_loss: 3.3317\n",
      "Epoch 33/100\n",
      "\u001b[1m375/375\u001b[0m \u001b[32m━━━━━━━━━━━━━━━━━━━━\u001b[0m\u001b[37m\u001b[0m \u001b[1m7s\u001b[0m 18ms/step - accuracy: 0.5732 - loss: 1.2829 - val_accuracy: 0.0987 - val_loss: 3.3789\n",
      "Epoch 34/100\n",
      "\u001b[1m375/375\u001b[0m \u001b[32m━━━━━━━━━━━━━━━━━━━━\u001b[0m\u001b[37m\u001b[0m \u001b[1m6s\u001b[0m 16ms/step - accuracy: 0.5789 - loss: 1.2558 - val_accuracy: 0.0980 - val_loss: 3.4399\n",
      "Epoch 35/100\n",
      "\u001b[1m375/375\u001b[0m \u001b[32m━━━━━━━━━━━━━━━━━━━━\u001b[0m\u001b[37m\u001b[0m \u001b[1m7s\u001b[0m 17ms/step - accuracy: 0.5919 - loss: 1.2281 - val_accuracy: 0.0974 - val_loss: 3.4738\n",
      "Epoch 36/100\n",
      "\u001b[1m375/375\u001b[0m \u001b[32m━━━━━━━━━━━━━━━━━━━━\u001b[0m\u001b[37m\u001b[0m \u001b[1m7s\u001b[0m 17ms/step - accuracy: 0.6038 - loss: 1.1994 - val_accuracy: 0.1002 - val_loss: 3.5274\n",
      "Epoch 37/100\n",
      "\u001b[1m375/375\u001b[0m \u001b[32m━━━━━━━━━━━━━━━━━━━━\u001b[0m\u001b[37m\u001b[0m \u001b[1m7s\u001b[0m 17ms/step - accuracy: 0.6128 - loss: 1.1697 - val_accuracy: 0.0975 - val_loss: 3.6081\n",
      "Epoch 38/100\n",
      "\u001b[1m375/375\u001b[0m \u001b[32m━━━━━━━━━━━━━━━━━━━━\u001b[0m\u001b[37m\u001b[0m \u001b[1m7s\u001b[0m 19ms/step - accuracy: 0.6146 - loss: 1.1624 - val_accuracy: 0.1016 - val_loss: 3.6714\n",
      "Epoch 39/100\n",
      "\u001b[1m375/375\u001b[0m \u001b[32m━━━━━━━━━━━━━━━━━━━━\u001b[0m\u001b[37m\u001b[0m \u001b[1m7s\u001b[0m 17ms/step - accuracy: 0.6335 - loss: 1.1157 - val_accuracy: 0.0948 - val_loss: 3.7095\n",
      "Epoch 40/100\n",
      "\u001b[1m375/375\u001b[0m \u001b[32m━━━━━━━━━━━━━━━━━━━━\u001b[0m\u001b[37m\u001b[0m \u001b[1m6s\u001b[0m 16ms/step - accuracy: 0.6369 - loss: 1.0969 - val_accuracy: 0.1010 - val_loss: 3.7871\n",
      "Epoch 41/100\n",
      "\u001b[1m375/375\u001b[0m \u001b[32m━━━━━━━━━━━━━━━━━━━━\u001b[0m\u001b[37m\u001b[0m \u001b[1m6s\u001b[0m 17ms/step - accuracy: 0.6428 - loss: 1.0788 - val_accuracy: 0.0969 - val_loss: 3.8277\n",
      "Epoch 42/100\n",
      "\u001b[1m375/375\u001b[0m \u001b[32m━━━━━━━━━━━━━━━━━━━━\u001b[0m\u001b[37m\u001b[0m \u001b[1m6s\u001b[0m 16ms/step - accuracy: 0.6564 - loss: 1.0527 - val_accuracy: 0.0963 - val_loss: 3.9161\n",
      "Epoch 43/100\n",
      "\u001b[1m375/375\u001b[0m \u001b[32m━━━━━━━━━━━━━━━━━━━━\u001b[0m\u001b[37m\u001b[0m \u001b[1m6s\u001b[0m 16ms/step - accuracy: 0.6573 - loss: 1.0363 - val_accuracy: 0.0973 - val_loss: 3.9505\n",
      "Epoch 44/100\n",
      "\u001b[1m375/375\u001b[0m \u001b[32m━━━━━━━━━━━━━━━━━━━━\u001b[0m\u001b[37m\u001b[0m \u001b[1m6s\u001b[0m 17ms/step - accuracy: 0.6673 - loss: 1.0113 - val_accuracy: 0.0974 - val_loss: 4.0200\n",
      "Epoch 45/100\n",
      "\u001b[1m375/375\u001b[0m \u001b[32m━━━━━━━━━━━━━━━━━━━━\u001b[0m\u001b[37m\u001b[0m \u001b[1m6s\u001b[0m 17ms/step - accuracy: 0.6769 - loss: 0.9847 - val_accuracy: 0.0985 - val_loss: 4.0636\n",
      "Epoch 46/100\n",
      "\u001b[1m375/375\u001b[0m \u001b[32m━━━━━━━━━━━━━━━━━━━━\u001b[0m\u001b[37m\u001b[0m \u001b[1m7s\u001b[0m 18ms/step - accuracy: 0.6893 - loss: 0.9595 - val_accuracy: 0.0973 - val_loss: 4.1622\n",
      "Epoch 47/100\n",
      "\u001b[1m375/375\u001b[0m \u001b[32m━━━━━━━━━━━━━━━━━━━━\u001b[0m\u001b[37m\u001b[0m \u001b[1m7s\u001b[0m 19ms/step - accuracy: 0.6923 - loss: 0.9425 - val_accuracy: 0.0956 - val_loss: 4.2193\n",
      "Epoch 48/100\n",
      "\u001b[1m375/375\u001b[0m \u001b[32m━━━━━━━━━━━━━━━━━━━━\u001b[0m\u001b[37m\u001b[0m \u001b[1m7s\u001b[0m 17ms/step - accuracy: 0.7015 - loss: 0.9274 - val_accuracy: 0.0977 - val_loss: 4.2953\n",
      "Epoch 49/100\n",
      "\u001b[1m375/375\u001b[0m \u001b[32m━━━━━━━━━━━━━━━━━━━━\u001b[0m\u001b[37m\u001b[0m \u001b[1m6s\u001b[0m 17ms/step - accuracy: 0.7059 - loss: 0.9046 - val_accuracy: 0.0950 - val_loss: 4.3531\n",
      "Epoch 50/100\n",
      "\u001b[1m375/375\u001b[0m \u001b[32m━━━━━━━━━━━━━━━━━━━━\u001b[0m\u001b[37m\u001b[0m \u001b[1m6s\u001b[0m 17ms/step - accuracy: 0.7157 - loss: 0.8760 - val_accuracy: 0.0959 - val_loss: 4.3827\n",
      "Epoch 51/100\n",
      "\u001b[1m375/375\u001b[0m \u001b[32m━━━━━━━━━━━━━━━━━━━━\u001b[0m\u001b[37m\u001b[0m \u001b[1m6s\u001b[0m 16ms/step - accuracy: 0.7223 - loss: 0.8651 - val_accuracy: 0.0972 - val_loss: 4.4463\n",
      "Epoch 52/100\n",
      "\u001b[1m375/375\u001b[0m \u001b[32m━━━━━━━━━━━━━━━━━━━━\u001b[0m\u001b[37m\u001b[0m \u001b[1m6s\u001b[0m 16ms/step - accuracy: 0.7257 - loss: 0.8491 - val_accuracy: 0.0969 - val_loss: 4.5398\n",
      "Epoch 53/100\n",
      "\u001b[1m375/375\u001b[0m \u001b[32m━━━━━━━━━━━━━━━━━━━━\u001b[0m\u001b[37m\u001b[0m \u001b[1m6s\u001b[0m 17ms/step - accuracy: 0.7312 - loss: 0.8295 - val_accuracy: 0.0957 - val_loss: 4.6378\n",
      "Epoch 54/100\n",
      "\u001b[1m375/375\u001b[0m \u001b[32m━━━━━━━━━━━━━━━━━━━━\u001b[0m\u001b[37m\u001b[0m \u001b[1m6s\u001b[0m 17ms/step - accuracy: 0.7379 - loss: 0.8114 - val_accuracy: 0.0988 - val_loss: 4.7196\n",
      "Epoch 55/100\n",
      "\u001b[1m375/375\u001b[0m \u001b[32m━━━━━━━━━━━━━━━━━━━━\u001b[0m\u001b[37m\u001b[0m \u001b[1m6s\u001b[0m 17ms/step - accuracy: 0.7490 - loss: 0.7922 - val_accuracy: 0.0930 - val_loss: 4.7244\n",
      "Epoch 56/100\n",
      "\u001b[1m375/375\u001b[0m \u001b[32m━━━━━━━━━━━━━━━━━━━━\u001b[0m\u001b[37m\u001b[0m \u001b[1m7s\u001b[0m 19ms/step - accuracy: 0.7494 - loss: 0.7823 - val_accuracy: 0.0936 - val_loss: 4.8056\n",
      "Epoch 57/100\n",
      "\u001b[1m375/375\u001b[0m \u001b[32m━━━━━━━━━━━━━━━━━━━━\u001b[0m\u001b[37m\u001b[0m \u001b[1m7s\u001b[0m 17ms/step - accuracy: 0.7557 - loss: 0.7636 - val_accuracy: 0.0945 - val_loss: 4.8839\n",
      "Epoch 58/100\n",
      "\u001b[1m375/375\u001b[0m \u001b[32m━━━━━━━━━━━━━━━━━━━━\u001b[0m\u001b[37m\u001b[0m \u001b[1m7s\u001b[0m 19ms/step - accuracy: 0.7614 - loss: 0.7471 - val_accuracy: 0.0961 - val_loss: 4.9394\n",
      "Epoch 59/100\n",
      "\u001b[1m375/375\u001b[0m \u001b[32m━━━━━━━━━━━━━━━━━━━━\u001b[0m\u001b[37m\u001b[0m \u001b[1m7s\u001b[0m 18ms/step - accuracy: 0.7662 - loss: 0.7281 - val_accuracy: 0.0935 - val_loss: 5.0127\n",
      "Epoch 60/100\n",
      "\u001b[1m375/375\u001b[0m \u001b[32m━━━━━━━━━━━━━━━━━━━━\u001b[0m\u001b[37m\u001b[0m \u001b[1m7s\u001b[0m 18ms/step - accuracy: 0.7703 - loss: 0.7166 - val_accuracy: 0.0950 - val_loss: 5.0753\n",
      "Epoch 61/100\n",
      "\u001b[1m375/375\u001b[0m \u001b[32m━━━━━━━━━━━━━━━━━━━━\u001b[0m\u001b[37m\u001b[0m \u001b[1m6s\u001b[0m 17ms/step - accuracy: 0.7784 - loss: 0.6928 - val_accuracy: 0.0960 - val_loss: 5.1407\n",
      "Epoch 62/100\n",
      "\u001b[1m375/375\u001b[0m \u001b[32m━━━━━━━━━━━━━━━━━━━━\u001b[0m\u001b[37m\u001b[0m \u001b[1m6s\u001b[0m 17ms/step - accuracy: 0.7826 - loss: 0.6827 - val_accuracy: 0.0957 - val_loss: 5.2236\n",
      "Epoch 63/100\n",
      "\u001b[1m375/375\u001b[0m \u001b[32m━━━━━━━━━━━━━━━━━━━━\u001b[0m\u001b[37m\u001b[0m \u001b[1m7s\u001b[0m 18ms/step - accuracy: 0.7875 - loss: 0.6692 - val_accuracy: 0.0989 - val_loss: 5.2927\n",
      "Epoch 64/100\n",
      "\u001b[1m375/375\u001b[0m \u001b[32m━━━━━━━━━━━━━━━━━━━━\u001b[0m\u001b[37m\u001b[0m \u001b[1m7s\u001b[0m 18ms/step - accuracy: 0.7876 - loss: 0.6651 - val_accuracy: 0.0953 - val_loss: 5.3932\n",
      "Epoch 65/100\n",
      "\u001b[1m375/375\u001b[0m \u001b[32m━━━━━━━━━━━━━━━━━━━━\u001b[0m\u001b[37m\u001b[0m \u001b[1m7s\u001b[0m 18ms/step - accuracy: 0.7985 - loss: 0.6446 - val_accuracy: 0.0978 - val_loss: 5.4255\n",
      "Epoch 66/100\n",
      "\u001b[1m375/375\u001b[0m \u001b[32m━━━━━━━━━━━━━━━━━━━━\u001b[0m\u001b[37m\u001b[0m \u001b[1m6s\u001b[0m 17ms/step - accuracy: 0.7994 - loss: 0.6282 - val_accuracy: 0.0973 - val_loss: 5.5333\n",
      "Epoch 67/100\n",
      "\u001b[1m375/375\u001b[0m \u001b[32m━━━━━━━━━━━━━━━━━━━━\u001b[0m\u001b[37m\u001b[0m \u001b[1m6s\u001b[0m 17ms/step - accuracy: 0.8060 - loss: 0.6171 - val_accuracy: 0.0933 - val_loss: 5.5830\n",
      "Epoch 68/100\n",
      "\u001b[1m375/375\u001b[0m \u001b[32m━━━━━━━━━━━━━━━━━━━━\u001b[0m\u001b[37m\u001b[0m \u001b[1m7s\u001b[0m 17ms/step - accuracy: 0.8079 - loss: 0.6076 - val_accuracy: 0.0988 - val_loss: 5.6291\n",
      "Epoch 69/100\n",
      "\u001b[1m375/375\u001b[0m \u001b[32m━━━━━━━━━━━━━━━━━━━━\u001b[0m\u001b[37m\u001b[0m \u001b[1m8s\u001b[0m 21ms/step - accuracy: 0.8123 - loss: 0.5959 - val_accuracy: 0.1015 - val_loss: 5.7396\n",
      "Epoch 70/100\n",
      "\u001b[1m375/375\u001b[0m \u001b[32m━━━━━━━━━━━━━━━━━━━━\u001b[0m\u001b[37m\u001b[0m \u001b[1m7s\u001b[0m 18ms/step - accuracy: 0.8168 - loss: 0.5872 - val_accuracy: 0.0957 - val_loss: 5.8118\n",
      "Epoch 71/100\n",
      "\u001b[1m375/375\u001b[0m \u001b[32m━━━━━━━━━━━━━━━━━━━━\u001b[0m\u001b[37m\u001b[0m \u001b[1m7s\u001b[0m 18ms/step - accuracy: 0.8167 - loss: 0.5829 - val_accuracy: 0.0960 - val_loss: 5.8422\n",
      "Epoch 72/100\n",
      "\u001b[1m375/375\u001b[0m \u001b[32m━━━━━━━━━━━━━━━━━━━━\u001b[0m\u001b[37m\u001b[0m \u001b[1m7s\u001b[0m 17ms/step - accuracy: 0.8216 - loss: 0.5637 - val_accuracy: 0.0970 - val_loss: 5.9507\n",
      "Epoch 73/100\n",
      "\u001b[1m375/375\u001b[0m \u001b[32m━━━━━━━━━━━━━━━━━━━━\u001b[0m\u001b[37m\u001b[0m \u001b[1m7s\u001b[0m 18ms/step - accuracy: 0.8258 - loss: 0.5555 - val_accuracy: 0.0993 - val_loss: 6.0129\n",
      "Epoch 74/100\n",
      "\u001b[1m375/375\u001b[0m \u001b[32m━━━━━━━━━━━━━━━━━━━━\u001b[0m\u001b[37m\u001b[0m \u001b[1m7s\u001b[0m 17ms/step - accuracy: 0.8295 - loss: 0.5388 - val_accuracy: 0.0965 - val_loss: 6.0765\n",
      "Epoch 75/100\n",
      "\u001b[1m375/375\u001b[0m \u001b[32m━━━━━━━━━━━━━━━━━━━━\u001b[0m\u001b[37m\u001b[0m \u001b[1m6s\u001b[0m 17ms/step - accuracy: 0.8370 - loss: 0.5216 - val_accuracy: 0.0976 - val_loss: 6.2071\n",
      "Epoch 76/100\n",
      "\u001b[1m375/375\u001b[0m \u001b[32m━━━━━━━━━━━━━━━━━━━━\u001b[0m\u001b[37m\u001b[0m \u001b[1m7s\u001b[0m 18ms/step - accuracy: 0.8365 - loss: 0.5171 - val_accuracy: 0.0981 - val_loss: 6.2190\n",
      "Epoch 77/100\n",
      "\u001b[1m375/375\u001b[0m \u001b[32m━━━━━━━━━━━━━━━━━━━━\u001b[0m\u001b[37m\u001b[0m \u001b[1m7s\u001b[0m 17ms/step - accuracy: 0.8424 - loss: 0.5099 - val_accuracy: 0.0960 - val_loss: 6.3315\n",
      "Epoch 78/100\n",
      "\u001b[1m375/375\u001b[0m \u001b[32m━━━━━━━━━━━━━━━━━━━━\u001b[0m\u001b[37m\u001b[0m \u001b[1m6s\u001b[0m 16ms/step - accuracy: 0.8439 - loss: 0.5004 - val_accuracy: 0.0988 - val_loss: 6.3874\n",
      "Epoch 79/100\n",
      "\u001b[1m375/375\u001b[0m \u001b[32m━━━━━━━━━━━━━━━━━━━━\u001b[0m\u001b[37m\u001b[0m \u001b[1m6s\u001b[0m 17ms/step - accuracy: 0.8486 - loss: 0.4901 - val_accuracy: 0.1004 - val_loss: 6.4882\n",
      "Epoch 80/100\n",
      "\u001b[1m375/375\u001b[0m \u001b[32m━━━━━━━━━━━━━━━━━━━━\u001b[0m\u001b[37m\u001b[0m \u001b[1m6s\u001b[0m 16ms/step - accuracy: 0.8515 - loss: 0.4786 - val_accuracy: 0.0992 - val_loss: 6.5417\n",
      "Epoch 81/100\n",
      "\u001b[1m375/375\u001b[0m \u001b[32m━━━━━━━━━━━━━━━━━━━━\u001b[0m\u001b[37m\u001b[0m \u001b[1m6s\u001b[0m 16ms/step - accuracy: 0.8547 - loss: 0.4677 - val_accuracy: 0.0968 - val_loss: 6.6188\n",
      "Epoch 82/100\n",
      "\u001b[1m375/375\u001b[0m \u001b[32m━━━━━━━━━━━━━━━━━━━━\u001b[0m\u001b[37m\u001b[0m \u001b[1m8s\u001b[0m 20ms/step - accuracy: 0.8550 - loss: 0.4655 - val_accuracy: 0.0980 - val_loss: 6.6734\n",
      "Epoch 83/100\n",
      "\u001b[1m375/375\u001b[0m \u001b[32m━━━━━━━━━━━━━━━━━━━━\u001b[0m\u001b[37m\u001b[0m \u001b[1m7s\u001b[0m 18ms/step - accuracy: 0.8588 - loss: 0.4560 - val_accuracy: 0.0975 - val_loss: 6.7603\n",
      "Epoch 84/100\n",
      "\u001b[1m375/375\u001b[0m \u001b[32m━━━━━━━━━━━━━━━━━━━━\u001b[0m\u001b[37m\u001b[0m \u001b[1m7s\u001b[0m 18ms/step - accuracy: 0.8647 - loss: 0.4434 - val_accuracy: 0.0969 - val_loss: 6.8087\n",
      "Epoch 85/100\n",
      "\u001b[1m375/375\u001b[0m \u001b[32m━━━━━━━━━━━━━━━━━━━━\u001b[0m\u001b[37m\u001b[0m \u001b[1m7s\u001b[0m 18ms/step - accuracy: 0.8659 - loss: 0.4350 - val_accuracy: 0.0969 - val_loss: 6.8485\n",
      "Epoch 86/100\n",
      "\u001b[1m375/375\u001b[0m \u001b[32m━━━━━━━━━━━━━━━━━━━━\u001b[0m\u001b[37m\u001b[0m \u001b[1m7s\u001b[0m 18ms/step - accuracy: 0.8689 - loss: 0.4253 - val_accuracy: 0.0975 - val_loss: 6.9777\n",
      "Epoch 87/100\n",
      "\u001b[1m375/375\u001b[0m \u001b[32m━━━━━━━━━━━━━━━━━━━━\u001b[0m\u001b[37m\u001b[0m \u001b[1m7s\u001b[0m 18ms/step - accuracy: 0.8683 - loss: 0.4233 - val_accuracy: 0.0993 - val_loss: 7.0775\n",
      "Epoch 88/100\n",
      "\u001b[1m375/375\u001b[0m \u001b[32m━━━━━━━━━━━━━━━━━━━━\u001b[0m\u001b[37m\u001b[0m \u001b[1m6s\u001b[0m 17ms/step - accuracy: 0.8742 - loss: 0.4094 - val_accuracy: 0.0973 - val_loss: 7.1205\n",
      "Epoch 89/100\n",
      "\u001b[1m375/375\u001b[0m \u001b[32m━━━━━━━━━━━━━━━━━━━━\u001b[0m\u001b[37m\u001b[0m \u001b[1m7s\u001b[0m 18ms/step - accuracy: 0.8765 - loss: 0.4038 - val_accuracy: 0.0951 - val_loss: 7.1895\n",
      "Epoch 90/100\n",
      "\u001b[1m375/375\u001b[0m \u001b[32m━━━━━━━━━━━━━━━━━━━━\u001b[0m\u001b[37m\u001b[0m \u001b[1m7s\u001b[0m 17ms/step - accuracy: 0.8781 - loss: 0.3990 - val_accuracy: 0.0997 - val_loss: 7.3352\n",
      "Epoch 91/100\n",
      "\u001b[1m375/375\u001b[0m \u001b[32m━━━━━━━━━━━━━━━━━━━━\u001b[0m\u001b[37m\u001b[0m \u001b[1m7s\u001b[0m 17ms/step - accuracy: 0.8809 - loss: 0.3873 - val_accuracy: 0.0951 - val_loss: 7.3342\n",
      "Epoch 92/100\n",
      "\u001b[1m375/375\u001b[0m \u001b[32m━━━━━━━━━━━━━━━━━━━━\u001b[0m\u001b[37m\u001b[0m \u001b[1m7s\u001b[0m 18ms/step - accuracy: 0.8842 - loss: 0.3789 - val_accuracy: 0.0949 - val_loss: 7.4470\n",
      "Epoch 93/100\n",
      "\u001b[1m375/375\u001b[0m \u001b[32m━━━━━━━━━━━━━━━━━━━━\u001b[0m\u001b[37m\u001b[0m \u001b[1m7s\u001b[0m 17ms/step - accuracy: 0.8874 - loss: 0.3699 - val_accuracy: 0.0978 - val_loss: 7.4960\n",
      "Epoch 94/100\n",
      "\u001b[1m375/375\u001b[0m \u001b[32m━━━━━━━━━━━━━━━━━━━━\u001b[0m\u001b[37m\u001b[0m \u001b[1m7s\u001b[0m 18ms/step - accuracy: 0.8898 - loss: 0.3653 - val_accuracy: 0.0987 - val_loss: 7.6410\n",
      "Epoch 95/100\n",
      "\u001b[1m375/375\u001b[0m \u001b[32m━━━━━━━━━━━━━━━━━━━━\u001b[0m\u001b[37m\u001b[0m \u001b[1m6s\u001b[0m 17ms/step - accuracy: 0.8900 - loss: 0.3617 - val_accuracy: 0.0984 - val_loss: 7.6740\n",
      "Epoch 96/100\n",
      "\u001b[1m375/375\u001b[0m \u001b[32m━━━━━━━━━━━━━━━━━━━━\u001b[0m\u001b[37m\u001b[0m \u001b[1m7s\u001b[0m 18ms/step - accuracy: 0.8899 - loss: 0.3567 - val_accuracy: 0.0978 - val_loss: 7.7533\n",
      "Epoch 97/100\n",
      "\u001b[1m375/375\u001b[0m \u001b[32m━━━━━━━━━━━━━━━━━━━━\u001b[0m\u001b[37m\u001b[0m \u001b[1m7s\u001b[0m 19ms/step - accuracy: 0.8948 - loss: 0.3462 - val_accuracy: 0.0969 - val_loss: 7.7752\n",
      "Epoch 98/100\n",
      "\u001b[1m375/375\u001b[0m \u001b[32m━━━━━━━━━━━━━━━━━━━━\u001b[0m\u001b[37m\u001b[0m \u001b[1m7s\u001b[0m 18ms/step - accuracy: 0.8971 - loss: 0.3427 - val_accuracy: 0.0960 - val_loss: 7.9107\n",
      "Epoch 99/100\n",
      "\u001b[1m375/375\u001b[0m \u001b[32m━━━━━━━━━━━━━━━━━━━━\u001b[0m\u001b[37m\u001b[0m \u001b[1m7s\u001b[0m 17ms/step - accuracy: 0.8953 - loss: 0.3403 - val_accuracy: 0.0981 - val_loss: 8.0095\n",
      "Epoch 100/100\n",
      "\u001b[1m375/375\u001b[0m \u001b[32m━━━━━━━━━━━━━━━━━━━━\u001b[0m\u001b[37m\u001b[0m \u001b[1m6s\u001b[0m 17ms/step - accuracy: 0.8982 - loss: 0.3354 - val_accuracy: 0.0996 - val_loss: 8.0365\n"
     ]
    },
    {
     "data": {
      "text/plain": [
       "<keras.src.callbacks.history.History at 0x791cd01e7fd0>"
      ]
     },
     "execution_count": 125,
     "metadata": {},
     "output_type": "execute_result"
    }
   ],
   "source": [
    "# Fitting MNIST on randomly shuffled labels\n",
    "\n",
    "(train_images, train_labels), _ = mnist.load_data()\n",
    "train_images = train_images.reshape((60000, 28 * 28))\n",
    "train_images = train_images.astype(\"float32\") / 255\n",
    "\n",
    "random_train_labels = train_labels[:]\n",
    "np.random.shuffle(random_train_labels)\n",
    "\n",
    "model = keras.Sequential([\n",
    "    layers.Dense(512, activation=\"relu\"),\n",
    "    layers.Dense(10, activation=\"softmax\")\n",
    "])\n",
    "model.compile(optimizer=\"rmsprop\",\n",
    "              loss=\"sparse_categorical_crossentropy\",\n",
    "              metrics=[\"accuracy\"])\n",
    "model.fit(train_images, random_train_labels,\n",
    "          epochs=100,\n",
    "          batch_size=128,\n",
    "          validation_split=0.2)"
   ]
  },
  {
   "cell_type": "code",
   "execution_count": null,
   "id": "8e9fd0f2",
   "metadata": {},
   "outputs": [],
   "source": []
  }
 ],
 "metadata": {
  "kernelspec": {
   "display_name": ".venv",
   "language": "python",
   "name": "python3"
  },
  "language_info": {
   "codemirror_mode": {
    "name": "ipython",
    "version": 3
   },
   "file_extension": ".py",
   "mimetype": "text/x-python",
   "name": "python",
   "nbconvert_exporter": "python",
   "pygments_lexer": "ipython3",
   "version": "3.10.13"
  }
 },
 "nbformat": 4,
 "nbformat_minor": 5
}
