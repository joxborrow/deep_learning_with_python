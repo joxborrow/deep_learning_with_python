{
 "cells": [
  {
   "cell_type": "markdown",
   "id": "4c4dc871",
   "metadata": {},
   "source": [
    "# Chapter 2 - A First Example"
   ]
  },
  {
   "cell_type": "code",
   "execution_count": 1,
   "id": "77d20132",
   "metadata": {},
   "outputs": [
    {
     "name": "stderr",
     "output_type": "stream",
     "text": [
      "2025-04-19 17:44:16.444967: I external/local_xla/xla/tsl/cuda/cudart_stub.cc:32] Could not find cuda drivers on your machine, GPU will not be used.\n",
      "2025-04-19 17:44:16.528527: I external/local_xla/xla/tsl/cuda/cudart_stub.cc:32] Could not find cuda drivers on your machine, GPU will not be used.\n",
      "2025-04-19 17:44:16.610813: E external/local_xla/xla/stream_executor/cuda/cuda_fft.cc:467] Unable to register cuFFT factory: Attempting to register factory for plugin cuFFT when one has already been registered\n",
      "WARNING: All log messages before absl::InitializeLog() is called are written to STDERR\n",
      "E0000 00:00:1745102656.691111  282626 cuda_dnn.cc:8579] Unable to register cuDNN factory: Attempting to register factory for plugin cuDNN when one has already been registered\n",
      "E0000 00:00:1745102656.711253  282626 cuda_blas.cc:1407] Unable to register cuBLAS factory: Attempting to register factory for plugin cuBLAS when one has already been registered\n",
      "W0000 00:00:1745102656.856252  282626 computation_placer.cc:177] computation placer already registered. Please check linkage and avoid linking the same target more than once.\n",
      "W0000 00:00:1745102656.856287  282626 computation_placer.cc:177] computation placer already registered. Please check linkage and avoid linking the same target more than once.\n",
      "W0000 00:00:1745102656.856294  282626 computation_placer.cc:177] computation placer already registered. Please check linkage and avoid linking the same target more than once.\n",
      "W0000 00:00:1745102656.856299  282626 computation_placer.cc:177] computation placer already registered. Please check linkage and avoid linking the same target more than once.\n",
      "2025-04-19 17:44:16.876639: I tensorflow/core/platform/cpu_feature_guard.cc:210] This TensorFlow binary is optimized to use available CPU instructions in performance-critical operations.\n",
      "To enable the following instructions: AVX2 FMA, in other operations, rebuild TensorFlow with the appropriate compiler flags.\n"
     ]
    }
   ],
   "source": [
    "# Imports\n",
    "from tensorflow.keras.datasets import mnist\n",
    "from tensorflow import keras\n",
    "from tensorflow.keras import layers\n",
    "\n",
    "# Load data\n",
    "(train_images, train_labels), (test_images, test_labels) = mnist.load_data()"
   ]
  },
  {
   "cell_type": "code",
   "execution_count": 2,
   "id": "328b89a0",
   "metadata": {},
   "outputs": [
    {
     "data": {
      "text/plain": [
       "(60000, 28, 28)"
      ]
     },
     "metadata": {},
     "output_type": "display_data"
    },
    {
     "data": {
      "text/plain": [
       "60000"
      ]
     },
     "metadata": {},
     "output_type": "display_data"
    },
    {
     "data": {
      "text/plain": [
       "array([5, 0, 4, ..., 5, 6, 8], shape=(60000,), dtype=uint8)"
      ]
     },
     "metadata": {},
     "output_type": "display_data"
    }
   ],
   "source": [
    "# Look at training data\n",
    "display(train_images.shape)\n",
    "\n",
    "display(len(train_labels))\n",
    "\n",
    "display(train_labels)"
   ]
  },
  {
   "cell_type": "code",
   "execution_count": 3,
   "id": "a1caa148",
   "metadata": {},
   "outputs": [
    {
     "data": {
      "text/plain": [
       "(10000, 28, 28)"
      ]
     },
     "metadata": {},
     "output_type": "display_data"
    },
    {
     "data": {
      "text/plain": [
       "10000"
      ]
     },
     "metadata": {},
     "output_type": "display_data"
    },
    {
     "data": {
      "text/plain": [
       "array([7, 2, 1, ..., 4, 5, 6], shape=(10000,), dtype=uint8)"
      ]
     },
     "metadata": {},
     "output_type": "display_data"
    }
   ],
   "source": [
    "# Look at test data\n",
    "display(test_images.shape)\n",
    "\n",
    "display(len(test_labels))\n",
    "\n",
    "display(test_labels)"
   ]
  },
  {
   "cell_type": "code",
   "execution_count": 4,
   "id": "1676292b",
   "metadata": {},
   "outputs": [
    {
     "name": "stderr",
     "output_type": "stream",
     "text": [
      "/home/jonathan/Projects/deep_learning_with_python/.venv/lib/python3.10/site-packages/keras/src/layers/core/dense.py:87: UserWarning: Do not pass an `input_shape`/`input_dim` argument to a layer. When using Sequential models, prefer using an `Input(shape)` object as the first layer in the model instead.\n",
      "  super().__init__(activity_regularizer=activity_regularizer, **kwargs)\n",
      "2025-04-19 17:44:24.334448: E external/local_xla/xla/stream_executor/cuda/cuda_platform.cc:51] failed call to cuInit: INTERNAL: CUDA error: Failed call to cuInit: UNKNOWN ERROR (303)\n"
     ]
    },
    {
     "data": {
      "text/plain": [
       "<Sequential name=sequential, built=True>"
      ]
     },
     "metadata": {},
     "output_type": "display_data"
    }
   ],
   "source": [
    "# Create a model\n",
    "model = keras.Sequential([\n",
    "    layers.Dense(512, activation='relu', input_shape=(28*28,)),\n",
    "    layers.Dense(10, activation='softmax')\n",
    "])\n",
    "\n",
    "display(model)"
   ]
  },
  {
   "cell_type": "code",
   "execution_count": 5,
   "id": "15dabb72",
   "metadata": {},
   "outputs": [
    {
     "data": {
      "text/plain": [
       "<Sequential name=sequential, built=True>"
      ]
     },
     "metadata": {},
     "output_type": "display_data"
    }
   ],
   "source": [
    "# Compile the model\n",
    "model.compile(optimizer='rmsprop',\n",
    "              loss='sparse_categorical_crossentropy',\n",
    "              metrics=['accuracy'])\n",
    "\n",
    "display(model)"
   ]
  },
  {
   "cell_type": "code",
   "execution_count": 6,
   "id": "ce61501c",
   "metadata": {},
   "outputs": [
    {
     "data": {
      "text/plain": [
       "(60000, 784)"
      ]
     },
     "metadata": {},
     "output_type": "display_data"
    },
    {
     "data": {
      "text/plain": [
       "(10000, 784)"
      ]
     },
     "metadata": {},
     "output_type": "display_data"
    }
   ],
   "source": [
    "# Reshape the image data for modeling\n",
    "train_images = train_images.reshape((60_000, 28*28))\n",
    "train_images = train_images.astype(\"float32\")/255\n",
    "test_images = test_images.reshape((10_000, 28*28))\n",
    "test_images = test_images.astype(\"float32\")/255\n",
    "\n",
    "display(train_images.shape)\n",
    "display(test_images.shape)\n"
   ]
  },
  {
   "cell_type": "code",
   "execution_count": 7,
   "id": "be20e73a",
   "metadata": {},
   "outputs": [
    {
     "name": "stdout",
     "output_type": "stream",
     "text": [
      "Epoch 1/5\n",
      "\u001b[1m469/469\u001b[0m \u001b[32m━━━━━━━━━━━━━━━━━━━━\u001b[0m\u001b[37m\u001b[0m \u001b[1m7s\u001b[0m 13ms/step - accuracy: 0.8773 - loss: 0.4290\n",
      "Epoch 2/5\n",
      "\u001b[1m469/469\u001b[0m \u001b[32m━━━━━━━━━━━━━━━━━━━━\u001b[0m\u001b[37m\u001b[0m \u001b[1m5s\u001b[0m 11ms/step - accuracy: 0.9660 - loss: 0.1163\n",
      "Epoch 3/5\n",
      "\u001b[1m469/469\u001b[0m \u001b[32m━━━━━━━━━━━━━━━━━━━━\u001b[0m\u001b[37m\u001b[0m \u001b[1m6s\u001b[0m 12ms/step - accuracy: 0.9775 - loss: 0.0746\n",
      "Epoch 4/5\n",
      "\u001b[1m469/469\u001b[0m \u001b[32m━━━━━━━━━━━━━━━━━━━━\u001b[0m\u001b[37m\u001b[0m \u001b[1m6s\u001b[0m 12ms/step - accuracy: 0.9851 - loss: 0.0492\n",
      "Epoch 5/5\n",
      "\u001b[1m469/469\u001b[0m \u001b[32m━━━━━━━━━━━━━━━━━━━━\u001b[0m\u001b[37m\u001b[0m \u001b[1m6s\u001b[0m 13ms/step - accuracy: 0.9894 - loss: 0.0368\n"
     ]
    },
    {
     "data": {
      "text/plain": [
       "<keras.src.callbacks.history.History at 0x7ac82a2af250>"
      ]
     },
     "execution_count": 7,
     "metadata": {},
     "output_type": "execute_result"
    }
   ],
   "source": [
    "# Fit the model\n",
    "\n",
    "model.fit(train_images, train_labels, epochs=5, batch_size=128)"
   ]
  },
  {
   "cell_type": "code",
   "execution_count": 8,
   "id": "3c6d00be",
   "metadata": {},
   "outputs": [
    {
     "name": "stdout",
     "output_type": "stream",
     "text": [
      "\u001b[1m1/1\u001b[0m \u001b[32m━━━━━━━━━━━━━━━━━━━━\u001b[0m\u001b[37m\u001b[0m \u001b[1m0s\u001b[0m 221ms/step\n"
     ]
    },
    {
     "data": {
      "text/plain": [
       "array([2.1238240e-08, 4.3303019e-09, 3.0952663e-06, 4.3898352e-04,\n",
       "       1.8909994e-10, 2.2607654e-07, 5.6093867e-13, 9.9955267e-01,\n",
       "       6.3913973e-07, 4.3973096e-06], dtype=float32)"
      ]
     },
     "metadata": {},
     "output_type": "display_data"
    },
    {
     "data": {
      "text/plain": [
       "np.int64(7)"
      ]
     },
     "metadata": {},
     "output_type": "display_data"
    },
    {
     "data": {
      "text/plain": [
       "np.float32(4.330302e-09)"
      ]
     },
     "metadata": {},
     "output_type": "display_data"
    },
    {
     "data": {
      "text/plain": [
       "np.uint8(7)"
      ]
     },
     "execution_count": 8,
     "metadata": {},
     "output_type": "execute_result"
    }
   ],
   "source": [
    "# Make predictions\n",
    "test_digits = test_images[0:10]\n",
    "predictions = model.predict(test_digits)\n",
    "display(predictions[0])\n",
    "display(predictions[0].argmax())\n",
    "display(predictions[0][1])\n",
    "test_labels[0]"
   ]
  },
  {
   "cell_type": "code",
   "execution_count": 9,
   "id": "7e7f5a82",
   "metadata": {},
   "outputs": [
    {
     "name": "stdout",
     "output_type": "stream",
     "text": [
      "\u001b[1m313/313\u001b[0m \u001b[32m━━━━━━━━━━━━━━━━━━━━\u001b[0m\u001b[37m\u001b[0m \u001b[1m2s\u001b[0m 5ms/step - accuracy: 0.9753 - loss: 0.0780\n",
      "test_acc: 0.9783999919891357\n"
     ]
    }
   ],
   "source": [
    "# Evaluate the Model\n",
    "test_loss, test_acc = model.evaluate(test_images, test_labels)\n",
    "print(f\"test_acc: {test_acc}\")"
   ]
  },
  {
   "cell_type": "markdown",
   "id": "8d2181db",
   "metadata": {},
   "source": [
    "## Data representations with Tensors"
   ]
  },
  {
   "cell_type": "code",
   "execution_count": 10,
   "id": "a850cae7",
   "metadata": {},
   "outputs": [
    {
     "data": {
      "text/plain": [
       "array(12)"
      ]
     },
     "metadata": {},
     "output_type": "display_data"
    },
    {
     "data": {
      "text/plain": [
       "0"
      ]
     },
     "metadata": {},
     "output_type": "display_data"
    }
   ],
   "source": [
    "# Rank 0 tensor\n",
    "import numpy as np \n",
    "x = np.array(12)\n",
    "display(x)\n",
    "display(x.ndim)"
   ]
  },
  {
   "cell_type": "code",
   "execution_count": 11,
   "id": "51a0e98e",
   "metadata": {},
   "outputs": [
    {
     "data": {
      "text/plain": [
       "array([12,  3,  6, 14,  7])"
      ]
     },
     "metadata": {},
     "output_type": "display_data"
    },
    {
     "data": {
      "text/plain": [
       "1"
      ]
     },
     "metadata": {},
     "output_type": "display_data"
    }
   ],
   "source": [
    "# Rank 1 Tensor\n",
    "x = np.array([12,3,6,14,7])\n",
    "display(x)\n",
    "display(x.ndim)"
   ]
  },
  {
   "cell_type": "code",
   "execution_count": 12,
   "id": "2666f2e4",
   "metadata": {},
   "outputs": [
    {
     "data": {
      "text/plain": [
       "array([[ 5, 78,  2, 34,  0],\n",
       "       [ 6, 79,  3, 35,  1]])"
      ]
     },
     "metadata": {},
     "output_type": "display_data"
    },
    {
     "data": {
      "text/plain": [
       "2"
      ]
     },
     "metadata": {},
     "output_type": "display_data"
    }
   ],
   "source": [
    "# Rank 2 Tensor\n",
    "x = np.array([[5,78,2,34,0],\n",
    "              [6,79,3,35,1]])\n",
    "display(x)\n",
    "display(x.ndim)"
   ]
  },
  {
   "cell_type": "markdown",
   "id": "9df54dd2",
   "metadata": {},
   "source": [
    "In deep learning you will typically manipulate tensors with dimension 0 to 4, but you may\n",
    "on occasion go to 5 if you are working with video data.\n",
    "\n",
    "Tensors are defined by:\n",
    "\n",
    "- Number of axes (ie rank)\n",
    "- Shape (describes the dimensions)\n",
    "- Data type (float16, float32)\n",
    "\n"
   ]
  },
  {
   "cell_type": "code",
   "execution_count": 13,
   "id": "32b76bea",
   "metadata": {},
   "outputs": [],
   "source": [
    "from tensorflow.keras.datasets import mnist\n",
    "(train_images, train_labels), (test_images, test_labels) = mnist.load_data()"
   ]
  },
  {
   "cell_type": "code",
   "execution_count": 14,
   "id": "12d26c70",
   "metadata": {},
   "outputs": [
    {
     "data": {
      "text/plain": [
       "3"
      ]
     },
     "execution_count": 14,
     "metadata": {},
     "output_type": "execute_result"
    }
   ],
   "source": [
    "train_images.ndim"
   ]
  },
  {
   "cell_type": "code",
   "execution_count": 15,
   "id": "b511bd7e",
   "metadata": {},
   "outputs": [
    {
     "data": {
      "text/plain": [
       "(60000, 28, 28)"
      ]
     },
     "execution_count": 15,
     "metadata": {},
     "output_type": "execute_result"
    }
   ],
   "source": [
    "train_images.shape"
   ]
  },
  {
   "cell_type": "code",
   "execution_count": 16,
   "id": "0ad13ade",
   "metadata": {},
   "outputs": [
    {
     "data": {
      "text/plain": [
       "dtype('uint8')"
      ]
     },
     "execution_count": 16,
     "metadata": {},
     "output_type": "execute_result"
    }
   ],
   "source": [
    "train_images.dtype"
   ]
  },
  {
   "cell_type": "code",
   "execution_count": 17,
   "id": "7b2836bb",
   "metadata": {},
   "outputs": [
    {
     "data": {
      "image/png": "[encoded data removed]",
      "text/plain": [
       "<Figure size 640x480 with 1 Axes>"
      ]
     },
     "metadata": {},
     "output_type": "display_data"
    },
    {
     "data": {
      "text/plain": [
       "np.uint8(9)"
      ]
     },
     "metadata": {},
     "output_type": "display_data"
    }
   ],
   "source": [
    "import matplotlib.pyplot as plt \n",
    "digit = train_images[4]\n",
    "plt.imshow(digit, cmap=plt.cm.binary)\n",
    "plt.show()\n",
    "\n",
    "display(train_labels[4])"
   ]
  },
  {
   "cell_type": "markdown",
   "id": "31412f97",
   "metadata": {},
   "source": [
    "### Manipulating Tensors in Numpy"
   ]
  },
  {
   "cell_type": "code",
   "execution_count": 18,
   "id": "58e9634f",
   "metadata": {},
   "outputs": [
    {
     "data": {
      "text/plain": [
       "(90, 28, 28)"
      ]
     },
     "execution_count": 18,
     "metadata": {},
     "output_type": "execute_result"
    }
   ],
   "source": [
    "my_slice = train_images[10:100]\n",
    "my_slice.shape"
   ]
  },
  {
   "cell_type": "code",
   "execution_count": 19,
   "id": "4acb8061",
   "metadata": {},
   "outputs": [
    {
     "data": {
      "text/plain": [
       "(90, 28, 28)"
      ]
     },
     "metadata": {},
     "output_type": "display_data"
    },
    {
     "data": {
      "text/plain": [
       "(90, 28, 28)"
      ]
     },
     "metadata": {},
     "output_type": "display_data"
    }
   ],
   "source": [
    "my_slice = train_images[10:100, :, :]\n",
    "display(my_slice.shape)\n",
    "my_slice = train_images[10:100, 0:28, 0:28]\n",
    "display(my_slice.shape)"
   ]
  },
  {
   "cell_type": "code",
   "execution_count": 20,
   "id": "e078c0b4",
   "metadata": {},
   "outputs": [
    {
     "data": {
      "text/plain": [
       "<matplotlib.image.AxesImage at 0x7ac826f97700>"
      ]
     },
     "execution_count": 20,
     "metadata": {},
     "output_type": "execute_result"
    },
    {
     "data": {
      "image/png": "[encoded data removed]",
      "text/plain": [
       "<Figure size 640x480 with 1 Axes>"
      ]
     },
     "metadata": {},
     "output_type": "display_data"
    }
   ],
   "source": [
    "my_slice = train_images[:, 14:, 14:]\n",
    "plt.imshow(my_slice[4], cmap=plt.cm.binary)\n",
    "my_slice = train_images[:, 7:-7, 7:-7]\n",
    "plt.imshow(my_slice[4], cmap=plt.cm.binary)"
   ]
  },
  {
   "cell_type": "markdown",
   "id": "214f02bd",
   "metadata": {},
   "source": [
    " You can see that you can use these operations to essentially crop the in images\n",
    " etc.\n",
    "\n",
    " ### Notion of data batches\n",
    "\n",
    " - The first axis will generally be the samples axis\n",
    " - In the example above the samples are images\n",
    " - The dataset is rarely processsed all at once\n",
    " - It is typically processed in batches\n",
    " - In our case the batch size is 128"
   ]
  },
  {
   "cell_type": "code",
   "execution_count": 21,
   "id": "f0dbaf67",
   "metadata": {},
   "outputs": [],
   "source": [
    "batch0 = train_images[:128]\n",
    "batch1 = train_images[128:256]\n",
    "\n",
    "n = 3\n",
    "batchn = train_images[128*n:128*(n+1)]"
   ]
  },
  {
   "cell_type": "markdown",
   "id": "0c846c04",
   "metadata": {},
   "source": [
    "## Real world examples of tensors\n",
    "\n",
    "- Vector (tabular) Data: Rank 2, (samples, features), where each sample is a vector\n",
    "  of numerical attributes\n",
    "- Time Series: Rank 3, (samples, timesteps, features)\n",
    "- Images: Rank 4, (samples, height, width, channels), each pixes is representated by a vector\n",
    "  of values\n",
    "- Video: Rank 5, (samples, frames, heights, width, channels), where each sample is a sequence of frames\n",
    "\n",
    "## The gears of neural networks: Tensor operations"
   ]
  },
  {
   "cell_type": "code",
   "execution_count": 22,
   "id": "f2235696",
   "metadata": {},
   "outputs": [],
   "source": [
    "import keras"
   ]
  },
  {
   "cell_type": "markdown",
   "id": "b13b0488",
   "metadata": {},
   "source": [
    "### A Dense layer\n",
    "\n",
    "```python\n",
    "keras.layers.Dense(512, activation='relu')\n",
    "```\n",
    "\n",
    "- This is a function that takes an input matrix and returns another matrix\n",
    "\n",
    "```python\n",
    "output = relu(dot(input, W) + b)\n",
    "```\n",
    "There are three tensor operations here\n",
    "\n",
    "- a dot product\n",
    "- tensor addition\n",
    "- a relu operation, $max(x, 0)$.\n",
    "\n",
    "#### Elementwise Operations\n",
    "\n",
    "Note the $relu$ and $+$ are elementwise operations, while the dot is a matrix operation\n",
    "\n",
    "- There is elementwise addition, subtraction, multiplication, ...\n",
    "\n",
    "#### Dot Products\n",
    "\n",
    "Same as in matrix algebra\n",
    "\n",
    "#### Tensor reshaping\n",
    "\n",
    "The operation of reshaping a matrix/tensor"
   ]
  },
  {
   "cell_type": "code",
   "execution_count": 23,
   "id": "aa0936a6",
   "metadata": {},
   "outputs": [
    {
     "data": {
      "text/plain": [
       "(3, 2)"
      ]
     },
     "metadata": {},
     "output_type": "display_data"
    },
    {
     "data": {
      "text/plain": [
       "array([[0.],\n",
       "       [1.],\n",
       "       [2.],\n",
       "       [3.],\n",
       "       [4.],\n",
       "       [5.]])"
      ]
     },
     "metadata": {},
     "output_type": "display_data"
    },
    {
     "data": {
      "text/plain": [
       "(6, 1)"
      ]
     },
     "metadata": {},
     "output_type": "display_data"
    },
    {
     "data": {
      "text/plain": [
       "array([[0., 1., 2.],\n",
       "       [3., 4., 5.]])"
      ]
     },
     "metadata": {},
     "output_type": "display_data"
    },
    {
     "data": {
      "text/plain": [
       "(2, 3)"
      ]
     },
     "metadata": {},
     "output_type": "display_data"
    }
   ],
   "source": [
    "train_images = train_images.reshape((60_000, 28*28))\n",
    "x = np.array([[0., 1.],\n",
    "              [2., 3.],\n",
    "              [4., 5.]])\n",
    "display(x.shape)\n",
    "\n",
    "x = x.reshape((6,1))\n",
    "display(x)\n",
    "display(x.shape)\n",
    "\n",
    "x = x.reshape((2,3))\n",
    "display(x)\n",
    "display(x.shape)"
   ]
  },
  {
   "cell_type": "markdown",
   "id": "cebd5b15",
   "metadata": {},
   "source": [
    "#### Transposition\n",
    "\n",
    "This just transposes the matrix/tensor"
   ]
  },
  {
   "cell_type": "code",
   "execution_count": 24,
   "id": "619f9037",
   "metadata": {},
   "outputs": [
    {
     "data": {
      "text/plain": [
       "(20, 300)"
      ]
     },
     "execution_count": 24,
     "metadata": {},
     "output_type": "execute_result"
    }
   ],
   "source": [
    "x = np.zeros((300, 20))\n",
    "x = np.transpose(x)\n",
    "x.shape"
   ]
  },
  {
   "cell_type": "markdown",
   "id": "93925985",
   "metadata": {},
   "source": [
    "### Geometric Interpretations of tensor operations\n",
    "\n",
    "- Tensor addition acts like a translation of an object to a new position, without\n",
    "  distoring the object\n",
    "\n",
    "$$\n",
    "\\begin{bmatrix}HorizontalFactor \\\\\n",
    "               VerticalFactor\n",
    "\\end{bmatrix} + \n",
    "\\begin{bmatrix}x \\\\\n",
    "               y\n",
    "\\end{bmatrix}\n",
    "$$\n",
    "\n",
    "- Rotation (counterclockwise): a dot product with \n",
    "$$R = \\begin{bmatrix}cos(\\theta) & -sin(\\theta) \\\\\n",
    "                     sin(\\theta) & cos(\\theta)\n",
    "      \\end{bmatrix} \\cdot \n",
    "      \\begin{bmatrix}x \\\\\n",
    "                     y\n",
    "      \\end{bmatrix}\n",
    "$$\n",
    "\n",
    "- Scaling: Vertical and horizontal scaling can be achieve with a diagonal matrix\n",
    "\n",
    "$$\n",
    "S = \\begin{bmatrix}\n",
    "    HorizontalFactor & 0 \\\\\n",
    "    0 & VerticalFactor\n",
    "    \\end{bmatrix} \\cdot \n",
    "    \\begin{bmatrix}\n",
    "    x \\\\\n",
    "    y\n",
    "    \\end{bmatrix}\n",
    "$$\n",
    "\n",
    "- Linear Transform: A dot product with an arbitrary matrix. This encompasses scaling\n",
    "  and rotation\n",
    "- Affine transform: The combination of a linear transform and a translation. Note\n",
    "  $y = W \\cdot x + b$ is affine. Note that an affine transform of an affine transform\n",
    "  is an affine transform. This means that neural networks w/o activation functions\n",
    "  would just be linear models in disguise.\n",
    "  "
   ]
  },
  {
   "cell_type": "markdown",
   "id": "6fcaad60",
   "metadata": {},
   "source": [
    "## Stochastic Gradient Descent - Front Pass\n",
    "\n",
    "- SGD is the method of minimizing the loss function\n",
    "- It essentially evaluates the partial derivative for all dimensions (weights)\n",
    "  and then moves in the opposite direction related to the learning rate to minimize the\n",
    "  loss function\n",
    "- There are many different version of SGD, or optimizers\n",
    "- A common enhancement to vanilla SGD is to add the concept of momentum.\n",
    "  Adagrad, RMSprop, and others\n",
    "- Momentum aids in convergence speed and helps avoid local minima.\n",
    "\n",
    "## Backpropagation and the Chain Rule\n",
    "\n",
    "- Tensor operations have simple derivatives, allowing them to be chained together\n",
    "- Computation graphs can be used to program extensive chained operations\n",
    "- Computation graphs let you encode commputable expressions as a machine readable data\n",
    "  structure\n",
    "- Reversing computation graphs and using gradients allow for the creation of the\n",
    "  back pass."
   ]
  },
  {
   "cell_type": "markdown",
   "id": "be8a0a9f",
   "metadata": {},
   "source": [
    "## The Gradient Tape\n",
    "\n",
    "GradientTape is a python scope that will \"record\" the tensor operations that\n",
    "run inside as a computation graph, or \"tape\"."
   ]
  },
  {
   "cell_type": "code",
   "execution_count": 25,
   "id": "72b3a227",
   "metadata": {},
   "outputs": [
    {
     "data": {
      "text/plain": [
       "<tf.Variable 'Variable:0' shape=() dtype=float32, numpy=0.0>"
      ]
     },
     "metadata": {},
     "output_type": "display_data"
    },
    {
     "data": {
      "text/plain": [
       "<tf.Tensor: shape=(), dtype=float32, numpy=2.0>"
      ]
     },
     "metadata": {},
     "output_type": "display_data"
    }
   ],
   "source": [
    "import tensorflow as tf \n",
    "x = tf.Variable(0.)\n",
    "\n",
    "display(x)\n",
    "\n",
    "with tf.GradientTape() as tape:\n",
    "    y = 2 * x + 3\n",
    "    \n",
    "grad_of_y_wrt = tape.gradient(y, x)\n",
    "display(grad_of_y_wrt)"
   ]
  },
  {
   "cell_type": "code",
   "execution_count": 26,
   "id": "05fd9e96",
   "metadata": {},
   "outputs": [
    {
     "data": {
      "text/plain": [
       "<tf.Variable 'Variable:0' shape=(2, 2) dtype=float32, numpy=\n",
       "array([[0.1892302 , 0.98726344],\n",
       "       [0.6525172 , 0.6061373 ]], dtype=float32)>"
      ]
     },
     "metadata": {},
     "output_type": "display_data"
    },
    {
     "data": {
      "text/plain": [
       "<tf.Tensor: shape=(2, 2), dtype=float32, numpy=\n",
       "array([[2., 2.],\n",
       "       [2., 2.]], dtype=float32)>"
      ]
     },
     "metadata": {},
     "output_type": "display_data"
    }
   ],
   "source": [
    "x = tf.Variable(tf.random.uniform((2,2)))\n",
    "\n",
    "display(x)\n",
    "\n",
    "with tf.GradientTape() as tape:\n",
    "    y = 2 * x + 3\n",
    "\n",
    "grad_of_y_wrt_x = tape.gradient(y, x)\n",
    "display(grad_of_y_wrt_x)"
   ]
  },
  {
   "cell_type": "code",
   "execution_count": 27,
   "id": "ed94e56a",
   "metadata": {},
   "outputs": [
    {
     "data": {
      "text/plain": [
       "[<tf.Tensor: shape=(2, 2), dtype=float32, numpy=\n",
       " array([[1.0895679, 1.0895679],\n",
       "        [1.283264 , 1.283264 ]], dtype=float32)>,\n",
       " <tf.Tensor: shape=(2,), dtype=float32, numpy=array([2., 2.], dtype=float32)>]"
      ]
     },
     "metadata": {},
     "output_type": "display_data"
    }
   ],
   "source": [
    "# It works on lists of variables\n",
    "\n",
    "W = tf.Variable(tf.random.uniform((2,2)))\n",
    "b = tf.Variable(tf.zeros(2,))\n",
    "x = tf.random.uniform((2,2))\n",
    "\n",
    "with tf.GradientTape() as tape:\n",
    "    y = tf.matmul(x, W) + b\n",
    "    \n",
    "grad_of_y_wrt_W_and_b = tape.gradient(y, [W, b])\n",
    "\n",
    "display(grad_of_y_wrt_W_and_b)"
   ]
  },
  {
   "cell_type": "markdown",
   "id": "fb02f26b",
   "metadata": {},
   "source": [
    "## A short review of the first example"
   ]
  },
  {
   "cell_type": "code",
   "execution_count": 28,
   "id": "dd152433",
   "metadata": {},
   "outputs": [],
   "source": [
    "(train_images, train_labels), (test_images, test_labels) = mnist.load_data()\n",
    "train_images = train_images.reshape((60000, 28*28))\n",
    "train_images = train_images.astype(\"float32\")/255\n",
    "test_images = test_images.reshape((10000, 28*28))\n",
    "test_images = test_images.astype(\"float32\")/255"
   ]
  },
  {
   "cell_type": "markdown",
   "id": "d49c2ab4",
   "metadata": {},
   "source": [
    "- Here you transform data into several tensors\n",
    "- Each pixel in the image represents an input feature and there are 512 of them"
   ]
  },
  {
   "cell_type": "code",
   "execution_count": 29,
   "id": "ef6ff6ef",
   "metadata": {},
   "outputs": [],
   "source": [
    "model = keras.Sequential([\n",
    "    layers.Dense(512, activation='relu'),\n",
    "    layers.Dense(10, activation='softmax')\n",
    "])"
   ]
  },
  {
   "cell_type": "markdown",
   "id": "ef8034e6",
   "metadata": {},
   "source": [
    "- Above you see you have a layer with the activation function relu\n",
    "- Each layer is applying tensor functions\n",
    "- The weights that are calibrated hold the knowledge"
   ]
  },
  {
   "cell_type": "code",
   "execution_count": 30,
   "id": "b5621827",
   "metadata": {},
   "outputs": [],
   "source": [
    "model.compile(optimizer='rmsprop',\n",
    "              loss='sparse_categorical_crossentropy',\n",
    "              metrics=['accuracy'])"
   ]
  },
  {
   "cell_type": "markdown",
   "id": "b660f164",
   "metadata": {},
   "source": [
    "- We have specified the loss function and the optimizer that will be used\n",
    "  for the optimizer\n",
    "- We have also specified metrics to track"
   ]
  },
  {
   "cell_type": "code",
   "execution_count": 31,
   "id": "39a57409",
   "metadata": {},
   "outputs": [
    {
     "name": "stdout",
     "output_type": "stream",
     "text": [
      "Epoch 1/5\n",
      "\u001b[1m469/469\u001b[0m \u001b[32m━━━━━━━━━━━━━━━━━━━━\u001b[0m\u001b[37m\u001b[0m \u001b[1m7s\u001b[0m 13ms/step - accuracy: 0.8726 - loss: 0.4388\n",
      "Epoch 2/5\n",
      "\u001b[1m469/469\u001b[0m \u001b[32m━━━━━━━━━━━━━━━━━━━━\u001b[0m\u001b[37m\u001b[0m \u001b[1m7s\u001b[0m 15ms/step - accuracy: 0.9661 - loss: 0.1190\n",
      "Epoch 3/5\n",
      "\u001b[1m469/469\u001b[0m \u001b[32m━━━━━━━━━━━━━━━━━━━━\u001b[0m\u001b[37m\u001b[0m \u001b[1m7s\u001b[0m 14ms/step - accuracy: 0.9792 - loss: 0.0721\n",
      "Epoch 4/5\n",
      "\u001b[1m469/469\u001b[0m \u001b[32m━━━━━━━━━━━━━━━━━━━━\u001b[0m\u001b[37m\u001b[0m \u001b[1m7s\u001b[0m 15ms/step - accuracy: 0.9841 - loss: 0.0518\n",
      "Epoch 5/5\n",
      "\u001b[1m469/469\u001b[0m \u001b[32m━━━━━━━━━━━━━━━━━━━━\u001b[0m\u001b[37m\u001b[0m \u001b[1m8s\u001b[0m 16ms/step - accuracy: 0.9892 - loss: 0.0384\n"
     ]
    },
    {
     "data": {
      "text/plain": [
       "<keras.src.callbacks.history.History at 0x7ac827059480>"
      ]
     },
     "execution_count": 31,
     "metadata": {},
     "output_type": "execute_result"
    }
   ],
   "source": [
    "model.fit(train_images, train_labels, epochs=5, batch_size=128)"
   ]
  },
  {
   "cell_type": "markdown",
   "id": "1be605d7",
   "metadata": {},
   "source": [
    "- the model iterates on batches of 128 images\n",
    "- It does 5 passes or epochs\n",
    "- Ir performs 2,345 gradient updates"
   ]
  },
  {
   "cell_type": "markdown",
   "id": "5a57a7a4",
   "metadata": {},
   "source": [
    "## Reimplementing the first example from scratch with Tensorflow\n",
    "\n",
    "- Here we will barely using any keras functions"
   ]
  },
  {
   "cell_type": "code",
   "execution_count": 32,
   "id": "4914e1d4",
   "metadata": {},
   "outputs": [],
   "source": [
    "# The dense layer\n",
    "import tensorflow as tf \n",
    "\n",
    "class NaiveDense:\n",
    "    def __init__(self, input_size, output_size, activation):\n",
    "        self.activation = activation\n",
    "        \n",
    "        w_shape = (input_size, output_size)\n",
    "        w_initial_value = tf.random.uniform(w_shape, minval=0, maxval=1e-1)\n",
    "        self.W = tf.Variable(w_initial_value)\n",
    "        \n",
    "        b_shape = (output_size,)\n",
    "        b_initial_value = tf.zeros(b_shape)\n",
    "        self.b = tf.Variable(b_initial_value)\n",
    "        \n",
    "    def __call__(self, inputs):\n",
    "        return self.activation(tf.matmul(inputs, self.W) + self.b)\n",
    "    \n",
    "    @property\n",
    "    def weights(self):\n",
    "        return [self.W, self.b]\n",
    "        \n",
    "    "
   ]
  },
  {
   "cell_type": "code",
   "execution_count": 33,
   "id": "925703c6",
   "metadata": {},
   "outputs": [],
   "source": [
    "class NaiveSequential:\n",
    "    def __init__(self, layers):\n",
    "        self.layers = layers\n",
    "        \n",
    "    def __call__(self, inputs):\n",
    "        x = inputs\n",
    "        for layer in self.layers:\n",
    "            x = layer(x)\n",
    "        return x\n",
    "    \n",
    "    @property\n",
    "    def weights(self):\n",
    "        weights = []\n",
    "        for layer in self.layers:\n",
    "            weights += layer.weights\n",
    "        return weights"
   ]
  },
  {
   "cell_type": "code",
   "execution_count": 34,
   "id": "632feb0d",
   "metadata": {},
   "outputs": [],
   "source": [
    "model = NaiveSequential([\n",
    "    NaiveDense(input_size=28*28, output_size=512, activation=tf.nn.relu),\n",
    "    NaiveDense(input_size=512, output_size=10, activation=tf.nn.relu),\n",
    "    \n",
    "])\n",
    "\n",
    "assert len(model.weights) == 4"
   ]
  },
  {
   "cell_type": "code",
   "execution_count": 35,
   "id": "3e444fc3",
   "metadata": {},
   "outputs": [],
   "source": [
    "import math\n",
    "\n",
    "class BatchGenerator:\n",
    "    def __init__(self, images, labels, batch_size=128):\n",
    "        assert len(images) == len(labels)\n",
    "        self.index = 0\n",
    "        self.images =images\n",
    "        self.labels = labels\n",
    "        self.batch_size = batch_size\n",
    "        self.num_batches = math.ceil(len(images)/batch_size)\n",
    "        \n",
    "    def next(self):\n",
    "        images = self.images[self.index : self.index + self.batch_size]\n",
    "        labels = self.labels[self.index : self.index + self.batch_size]\n",
    "        self.index += self.batch_size\n",
    "        return images, labels\n",
    "    \n",
    "    "
   ]
  },
  {
   "cell_type": "code",
   "execution_count": 36,
   "id": "498fe47f",
   "metadata": {},
   "outputs": [],
   "source": [
    "learning_rate = 1e-3\n",
    "\n",
    "def update_weights(gradients, weights):\n",
    "    for g, w in zip(gradients, weights):\n",
    "        w.assign_sub(g * learning_rate)"
   ]
  },
  {
   "cell_type": "code",
   "execution_count": 37,
   "id": "f0ab2358",
   "metadata": {},
   "outputs": [],
   "source": [
    "def one_training_step(model, images_batch, labels_batch):\n",
    "    with tf.GradientTape() as tape:\n",
    "        predictions = model(images_batch)\n",
    "        per_sample_losses = tf.keras.losses.sparse_categorical_crossentropy(labels_batch, predictions)\n",
    "        average_loss = tf.reduce_mean(per_sample_losses)\n",
    "    \n",
    "    gradients = tape.gradient(average_loss, model.weights)\n",
    "    update_weights(gradients, model.weights)\n",
    "    return average_loss"
   ]
  },
  {
   "cell_type": "code",
   "execution_count": 38,
   "id": "c820a5e9",
   "metadata": {},
   "outputs": [],
   "source": [
    "def fit(model, images, labels, epochs, batch_size=128):\n",
    "    for epoch_counter in range(epochs):\n",
    "        print(f\"Epoch {epoch_counter}\")\n",
    "        batch_generator = BatchGenerator(images, labels)\n",
    "        for batch_counter in range(batch_generator.num_batches):\n",
    "            images_batch, labels_batch = batch_generator.next()\n",
    "            loss = one_training_step(model, images_batch, labels_batch)\n",
    "            if batch_counter % 100 == 0:\n",
    "                print(f\"loss at batch {batch_counter}: {loss:.2f}\")"
   ]
  },
  {
   "cell_type": "code",
   "execution_count": 39,
   "id": "36d6b604",
   "metadata": {},
   "outputs": [
    {
     "name": "stdout",
     "output_type": "stream",
     "text": [
      "Epoch 0\n",
      "loss at batch 0: 2.30\n",
      "loss at batch 100: 2.30\n",
      "loss at batch 200: 2.30\n",
      "loss at batch 300: 2.30\n",
      "loss at batch 400: 2.30\n",
      "Epoch 1\n",
      "loss at batch 0: 2.30\n",
      "loss at batch 100: 2.30\n",
      "loss at batch 200: 2.30\n",
      "loss at batch 300: 2.30\n",
      "loss at batch 400: 2.30\n",
      "Epoch 2\n",
      "loss at batch 0: 2.30\n",
      "loss at batch 100: 2.30\n",
      "loss at batch 200: 2.30\n",
      "loss at batch 300: 2.30\n",
      "loss at batch 400: 2.30\n",
      "Epoch 3\n",
      "loss at batch 0: 2.30\n",
      "loss at batch 100: 2.30\n",
      "loss at batch 200: 2.30\n",
      "loss at batch 300: 2.30\n",
      "loss at batch 400: 2.30\n",
      "Epoch 4\n",
      "loss at batch 0: 2.30\n",
      "loss at batch 100: 2.30\n",
      "loss at batch 200: 2.30\n",
      "loss at batch 300: 2.30\n",
      "loss at batch 400: 2.30\n",
      "Epoch 5\n",
      "loss at batch 0: 2.30\n",
      "loss at batch 100: 2.30\n",
      "loss at batch 200: 2.30\n",
      "loss at batch 300: 2.30\n",
      "loss at batch 400: 2.30\n",
      "Epoch 6\n",
      "loss at batch 0: 2.30\n",
      "loss at batch 100: 2.30\n",
      "loss at batch 200: 2.30\n",
      "loss at batch 300: 2.30\n",
      "loss at batch 400: 2.30\n",
      "Epoch 7\n",
      "loss at batch 0: 2.30\n",
      "loss at batch 100: 2.30\n",
      "loss at batch 200: 2.30\n",
      "loss at batch 300: 2.30\n",
      "loss at batch 400: 2.30\n",
      "Epoch 8\n",
      "loss at batch 0: 2.30\n",
      "loss at batch 100: 2.30\n",
      "loss at batch 200: 2.30\n",
      "loss at batch 300: 2.30\n",
      "loss at batch 400: 2.30\n",
      "Epoch 9\n",
      "loss at batch 0: 2.30\n",
      "loss at batch 100: 2.30\n",
      "loss at batch 200: 2.30\n",
      "loss at batch 300: 2.30\n",
      "loss at batch 400: 2.30\n"
     ]
    }
   ],
   "source": [
    "from tensorflow.keras.datasets import mnist\n",
    "(train_images, train_labels), (test_images, test_labels) = mnist.load_data()\n",
    "\n",
    "train_images = train_images.reshape((60_000, 28*28))\n",
    "train_images = train_images.astype(\"float32\") / 255\n",
    "test_images = test_images.reshape((10_000, 28*28))\n",
    "test_images = test_images.astype(\"float32\") / 255\n",
    "\n",
    "fit(model, train_images, train_labels, epochs=10, batch_size=128)"
   ]
  },
  {
   "cell_type": "code",
   "execution_count": 40,
   "id": "0b3dbd59",
   "metadata": {},
   "outputs": [
    {
     "name": "stdout",
     "output_type": "stream",
     "text": [
      "accuracy: 0.05\n"
     ]
    }
   ],
   "source": [
    "# Evaluating the Model\n",
    "predictions = model(test_images)\n",
    "predictions = predictions.numpy()\n",
    "predicted_labels = np.argmax(predictions, axis=1)\n",
    "matches = predicted_labels == test_labels\n",
    "print(f\"accuracy: {matches.mean():.2f}\")"
   ]
  },
  {
   "cell_type": "markdown",
   "id": "81ac977e",
   "metadata": {},
   "source": [
    "# Chapter 3 - Intro to Keras and Tensorflow"
   ]
  },
  {
   "cell_type": "markdown",
   "id": "1c9d2988",
   "metadata": {},
   "source": [
    "## First steps with Tensorflow"
   ]
  },
  {
   "cell_type": "code",
   "execution_count": 41,
   "id": "71ebe8cd",
   "metadata": {},
   "outputs": [
    {
     "data": {
      "text/plain": [
       "<tf.Tensor: shape=(2, 1), dtype=float32, numpy=\n",
       "array([[1.],\n",
       "       [1.]], dtype=float32)>"
      ]
     },
     "metadata": {},
     "output_type": "display_data"
    },
    {
     "data": {
      "text/plain": [
       "<tf.Tensor: shape=(2, 1), dtype=float32, numpy=\n",
       "array([[0.],\n",
       "       [0.]], dtype=float32)>"
      ]
     },
     "metadata": {},
     "output_type": "display_data"
    }
   ],
   "source": [
    "# All ones or zeroes\n",
    "import tensorflow as tf\n",
    "x = tf.ones(shape=(2,1))\n",
    "display(x)\n",
    "\n",
    "x = tf.zeros(shape=(2,1))\n",
    "display(x)"
   ]
  },
  {
   "cell_type": "code",
   "execution_count": 42,
   "id": "c699c195",
   "metadata": {},
   "outputs": [
    {
     "data": {
      "text/plain": [
       "<tf.Tensor: shape=(3, 1), dtype=float32, numpy=\n",
       "array([[ 0.23249063],\n",
       "       [-0.46068972],\n",
       "       [ 0.35462847]], dtype=float32)>"
      ]
     },
     "metadata": {},
     "output_type": "display_data"
    },
    {
     "data": {
      "text/plain": [
       "<tf.Tensor: shape=(3, 1), dtype=float32, numpy=\n",
       "array([[0.62486434],\n",
       "       [0.31014478],\n",
       "       [0.6934891 ]], dtype=float32)>"
      ]
     },
     "metadata": {},
     "output_type": "display_data"
    }
   ],
   "source": [
    "# Random Tensors\n",
    "x = tf.random.normal(shape=(3,1), mean=0, stddev=1.)\n",
    "display(x)\n",
    "\n",
    "x = tf.random.uniform(shape=(3,1), minval=0, maxval=1.)\n",
    "display(x)"
   ]
  },
  {
   "cell_type": "markdown",
   "id": "2d60c4ed",
   "metadata": {},
   "source": [
    "- Numpy arrays are assignable\n",
    "- Tensors are not"
   ]
  },
  {
   "cell_type": "code",
   "execution_count": 43,
   "id": "70e302d4",
   "metadata": {},
   "outputs": [
    {
     "data": {
      "text/plain": [
       "<tf.Variable 'Variable:0' shape=(3, 1) dtype=float32, numpy=\n",
       "array([[-0.23910986],\n",
       "       [-0.34940153],\n",
       "       [-1.0893018 ]], dtype=float32)>"
      ]
     },
     "metadata": {},
     "output_type": "display_data"
    }
   ],
   "source": [
    "# Tensor variables\n",
    "v = tf.Variable(initial_value=tf.random.normal(shape=(3,1)))\n",
    "display(v)"
   ]
  },
  {
   "cell_type": "code",
   "execution_count": 44,
   "id": "3ba89bab",
   "metadata": {},
   "outputs": [
    {
     "data": {
      "text/plain": [
       "<tf.Variable 'UnreadVariable' shape=(3, 1) dtype=float32, numpy=\n",
       "array([[1.],\n",
       "       [1.],\n",
       "       [1.]], dtype=float32)>"
      ]
     },
     "execution_count": 44,
     "metadata": {},
     "output_type": "execute_result"
    }
   ],
   "source": [
    "# Assigning values to a Tensorflow Variable\n",
    "v.assign(tf.ones((3,1)))\n"
   ]
  },
  {
   "cell_type": "code",
   "execution_count": 45,
   "id": "6c8bf96e",
   "metadata": {},
   "outputs": [
    {
     "data": {
      "text/plain": [
       "<tf.Variable 'UnreadVariable' shape=(3, 1) dtype=float32, numpy=\n",
       "array([[3.],\n",
       "       [1.],\n",
       "       [1.]], dtype=float32)>"
      ]
     },
     "execution_count": 45,
     "metadata": {},
     "output_type": "execute_result"
    }
   ],
   "source": [
    "# You can assign to a subset\n",
    "v[0,0].assign(3.)"
   ]
  },
  {
   "cell_type": "code",
   "execution_count": 46,
   "id": "9086dc11",
   "metadata": {},
   "outputs": [
    {
     "data": {
      "text/plain": [
       "<tf.Variable 'UnreadVariable' shape=(3, 1) dtype=float32, numpy=\n",
       "array([[4.],\n",
       "       [2.],\n",
       "       [2.]], dtype=float32)>"
      ]
     },
     "execution_count": 46,
     "metadata": {},
     "output_type": "execute_result"
    }
   ],
   "source": [
    "# Assign Add\n",
    "v.assign_add(tf.ones((3,1)))"
   ]
  },
  {
   "cell_type": "code",
   "execution_count": 47,
   "id": "035a73f3",
   "metadata": {},
   "outputs": [
    {
     "data": {
      "text/plain": [
       "<tf.Variable 'UnreadVariable' shape=(3, 1) dtype=float32, numpy=\n",
       "array([[3.],\n",
       "       [1.],\n",
       "       [1.]], dtype=float32)>"
      ]
     },
     "execution_count": 47,
     "metadata": {},
     "output_type": "execute_result"
    }
   ],
   "source": [
    "# Assign subtract\n",
    "v.assign_sub(tf.ones((3,1)))"
   ]
  },
  {
   "cell_type": "code",
   "execution_count": 48,
   "id": "cb6b4d42",
   "metadata": {},
   "outputs": [
    {
     "data": {
      "text/plain": [
       "<tf.Tensor: shape=(2, 2), dtype=float32, numpy=\n",
       "array([[1., 1.],\n",
       "       [1., 1.]], dtype=float32)>"
      ]
     },
     "metadata": {},
     "output_type": "display_data"
    },
    {
     "data": {
      "text/plain": [
       "<tf.Tensor: shape=(2, 2), dtype=float32, numpy=\n",
       "array([[1., 1.],\n",
       "       [1., 1.]], dtype=float32)>"
      ]
     },
     "metadata": {},
     "output_type": "display_data"
    },
    {
     "data": {
      "text/plain": [
       "<tf.Tensor: shape=(2, 2), dtype=float32, numpy=\n",
       "array([[1., 1.],\n",
       "       [1., 1.]], dtype=float32)>"
      ]
     },
     "metadata": {},
     "output_type": "display_data"
    },
    {
     "data": {
      "text/plain": [
       "<tf.Tensor: shape=(2, 2), dtype=float32, numpy=\n",
       "array([[2., 2.],\n",
       "       [2., 2.]], dtype=float32)>"
      ]
     },
     "metadata": {},
     "output_type": "display_data"
    },
    {
     "data": {
      "text/plain": [
       "<tf.Tensor: shape=(2, 2), dtype=float32, numpy=\n",
       "array([[4., 4.],\n",
       "       [4., 4.]], dtype=float32)>"
      ]
     },
     "metadata": {},
     "output_type": "display_data"
    }
   ],
   "source": [
    "# Tensor Math\n",
    "a = tf.ones((2,2))\n",
    "b = tf.square(a)\n",
    "c = tf.sqrt(a)\n",
    "d = b + c \n",
    "e = tf.matmul(a, b)\n",
    "e *= d\n",
    "\n",
    "display(a)\n",
    "display(b)\n",
    "display(c)\n",
    "display(d)\n",
    "display(e)"
   ]
  },
  {
   "cell_type": "markdown",
   "id": "dcfc1372",
   "metadata": {},
   "source": [
    "## Gradient Tape API"
   ]
  },
  {
   "cell_type": "code",
   "execution_count": 49,
   "id": "6e214f39",
   "metadata": {},
   "outputs": [],
   "source": [
    "# Gradient with a Variable\n",
    "input_var = tf.Variable(initial_value=3.)\n",
    "with tf.GradientTape() as tape:\n",
    "    result = tf.square(input_var)\n",
    "\n",
    "gradient = tape.gradient(result, input_var)"
   ]
  },
  {
   "cell_type": "code",
   "execution_count": 50,
   "id": "6411b301",
   "metadata": {},
   "outputs": [
    {
     "data": {
      "text/plain": [
       "<tf.Tensor: shape=(), dtype=float32, numpy=6.0>"
      ]
     },
     "execution_count": 50,
     "metadata": {},
     "output_type": "execute_result"
    }
   ],
   "source": [
    "gradient"
   ]
  },
  {
   "cell_type": "code",
   "execution_count": 51,
   "id": "7985d373",
   "metadata": {},
   "outputs": [],
   "source": [
    "# Gradient with a Constant\n",
    "input_const = tf.constant(3.)\n",
    "with tf.GradientTape() as tape:\n",
    "    tape.watch(input_const)\n",
    "    result = tf.square(result, input_const)\n",
    "    \n",
    "gradient = tape.gradient(result, input_const)"
   ]
  },
  {
   "cell_type": "code",
   "execution_count": 52,
   "id": "e148bed5",
   "metadata": {},
   "outputs": [],
   "source": [
    "# Second order gradient\n",
    "time = tf.Variable(0.)\n",
    "with tf.GradientTape() as outer_tape:\n",
    "    with tf.GradientTape() as inner_tape:\n",
    "        position = 4.9 * time**2\n",
    "    speed = inner_tape.gradient(position, time)\n",
    "acceleration = outer_tape.gradient(speed, time)"
   ]
  },
  {
   "cell_type": "markdown",
   "id": "90c287c6",
   "metadata": {},
   "source": [
    "## An End to End Example: A Linear Classifier"
   ]
  },
  {
   "cell_type": "code",
   "execution_count": 53,
   "id": "cc5a30d8",
   "metadata": {},
   "outputs": [
    {
     "data": {
      "image/png": "[encoded data removed]",
      "text/plain": [
       "<Figure size 640x480 with 1 Axes>"
      ]
     },
     "metadata": {},
     "output_type": "display_data"
    }
   ],
   "source": [
    "# Create the data\n",
    "num_samples_per_class = 1000\n",
    "negative_samples = np.random.multivariate_normal(mean=[0,3], \n",
    "                                                 cov=[[1, 0.5],[0.5, 1]],\n",
    "                                                 size=num_samples_per_class)\n",
    "positive_samples = np.random.multivariate_normal(mean=[3,0], \n",
    "                                                 cov=[[1, 0.5],[0.5, 1]],\n",
    "                                                 size=num_samples_per_class)\n",
    "\n",
    "# Stack the data\n",
    "inputs = np.vstack((negative_samples, positive_samples)).astype(np.float32)\n",
    "\n",
    "# Generate the targets\n",
    "targets = np.vstack((np.zeros((num_samples_per_class, 1), dtype=\"float32\"),\n",
    "                     np.ones((num_samples_per_class, 1), dtype=\"float32\")))\n",
    "\n",
    "# Plot the data\n",
    "import matplotlib.pyplot as plt \n",
    "plt.scatter(inputs[:, 0], inputs[:, 1], c=targets[:,0])\n",
    "plt.show()"
   ]
  },
  {
   "cell_type": "code",
   "execution_count": 54,
   "id": "9b8a6fe7",
   "metadata": {},
   "outputs": [],
   "source": [
    "# Create the linear classifier\n",
    "input_dim = 2               # 2d input points\n",
    "output_dim = 1              # One score per sample (0 or 1)\n",
    "\n",
    "# Create W, b\n",
    "W = tf.Variable(initial_value=tf.random.uniform(shape=(input_dim, output_dim)))\n",
    "b = tf.Variable(initial_value=tf.zeros(shape=(output_dim, )))\n",
    "\n",
    "# Create the forward pass function\n",
    "def model(inputs):\n",
    "    return tf.matmul(inputs, W) + b\n",
    "\n",
    "# Define the loss function\n",
    "def square_loss(targets, predictions):\n",
    "    per_sample_losses = tf.square(targets - predictions)\n",
    "    return tf.reduce_mean(per_sample_losses)\n",
    "\n",
    "learning_rate = 0.1\n",
    "\n",
    "# Define the training step\n",
    "def training_step(inputs, targets):\n",
    "    \n",
    "    with tf.GradientTape() as tape:\n",
    "        predictions = model(inputs)\n",
    "        loss = square_loss(targets, predictions)\n",
    "    \n",
    "    grad_loss_wrt_W, grad_loss_wrt_b = tape.gradient(loss, [W, b])\n",
    "    W.assign_sub(grad_loss_wrt_W * learning_rate)\n",
    "    b.assign_sub(grad_loss_wrt_b * learning_rate)\n",
    "    \n",
    "    return loss"
   ]
  },
  {
   "cell_type": "markdown",
   "id": "0563ba40",
   "metadata": {},
   "source": [
    "Here we do just batch trainoing instead of mini batch"
   ]
  },
  {
   "cell_type": "code",
   "execution_count": 55,
   "id": "51b8b917",
   "metadata": {},
   "outputs": [
    {
     "name": "stdout",
     "output_type": "stream",
     "text": [
      "Loss at step 0: 3.5315\n",
      "Loss at step 1: 0.6324\n",
      "Loss at step 2: 0.2069\n",
      "Loss at step 3: 0.1351\n",
      "Loss at step 4: 0.1173\n",
      "Loss at step 5: 0.1082\n",
      "Loss at step 6: 0.1009\n",
      "Loss at step 7: 0.0945\n",
      "Loss at step 8: 0.0886\n",
      "Loss at step 9: 0.0832\n",
      "Loss at step 10: 0.0783\n",
      "Loss at step 11: 0.0738\n",
      "Loss at step 12: 0.0697\n",
      "Loss at step 13: 0.0659\n",
      "Loss at step 14: 0.0625\n",
      "Loss at step 15: 0.0593\n",
      "Loss at step 16: 0.0565\n",
      "Loss at step 17: 0.0538\n",
      "Loss at step 18: 0.0514\n",
      "Loss at step 19: 0.0492\n",
      "Loss at step 20: 0.0472\n",
      "Loss at step 21: 0.0454\n",
      "Loss at step 22: 0.0437\n",
      "Loss at step 23: 0.0422\n",
      "Loss at step 24: 0.0408\n",
      "Loss at step 25: 0.0395\n",
      "Loss at step 26: 0.0383\n",
      "Loss at step 27: 0.0372\n",
      "Loss at step 28: 0.0363\n",
      "Loss at step 29: 0.0354\n",
      "Loss at step 30: 0.0345\n",
      "Loss at step 31: 0.0338\n",
      "Loss at step 32: 0.0331\n",
      "Loss at step 33: 0.0325\n",
      "Loss at step 34: 0.0319\n",
      "Loss at step 35: 0.0314\n",
      "Loss at step 36: 0.0309\n",
      "Loss at step 37: 0.0305\n",
      "Loss at step 38: 0.0301\n",
      "Loss at step 39: 0.0297\n",
      "Loss at step 40: 0.0294\n",
      "Loss at step 41: 0.0291\n",
      "Loss at step 42: 0.0288\n",
      "Loss at step 43: 0.0285\n",
      "Loss at step 44: 0.0283\n",
      "Loss at step 45: 0.0281\n",
      "Loss at step 46: 0.0279\n",
      "Loss at step 47: 0.0277\n",
      "Loss at step 48: 0.0275\n",
      "Loss at step 49: 0.0274\n",
      "Loss at step 50: 0.0273\n",
      "Loss at step 51: 0.0271\n",
      "Loss at step 52: 0.0270\n",
      "Loss at step 53: 0.0269\n",
      "Loss at step 54: 0.0268\n",
      "Loss at step 55: 0.0267\n",
      "Loss at step 56: 0.0266\n",
      "Loss at step 57: 0.0266\n",
      "Loss at step 58: 0.0265\n",
      "Loss at step 59: 0.0264\n",
      "Loss at step 60: 0.0264\n",
      "Loss at step 61: 0.0263\n",
      "Loss at step 62: 0.0263\n",
      "Loss at step 63: 0.0262\n",
      "Loss at step 64: 0.0262\n",
      "Loss at step 65: 0.0262\n",
      "Loss at step 66: 0.0261\n",
      "Loss at step 67: 0.0261\n",
      "Loss at step 68: 0.0261\n",
      "Loss at step 69: 0.0261\n",
      "Loss at step 70: 0.0260\n",
      "Loss at step 71: 0.0260\n",
      "Loss at step 72: 0.0260\n",
      "Loss at step 73: 0.0260\n",
      "Loss at step 74: 0.0260\n",
      "Loss at step 75: 0.0259\n",
      "Loss at step 76: 0.0259\n",
      "Loss at step 77: 0.0259\n",
      "Loss at step 78: 0.0259\n",
      "Loss at step 79: 0.0259\n",
      "Loss at step 80: 0.0259\n",
      "Loss at step 81: 0.0259\n",
      "Loss at step 82: 0.0259\n",
      "Loss at step 83: 0.0259\n",
      "Loss at step 84: 0.0259\n",
      "Loss at step 85: 0.0259\n",
      "Loss at step 86: 0.0259\n",
      "Loss at step 87: 0.0258\n",
      "Loss at step 88: 0.0258\n",
      "Loss at step 89: 0.0258\n",
      "Loss at step 90: 0.0258\n",
      "Loss at step 91: 0.0258\n",
      "Loss at step 92: 0.0258\n",
      "Loss at step 93: 0.0258\n",
      "Loss at step 94: 0.0258\n",
      "Loss at step 95: 0.0258\n",
      "Loss at step 96: 0.0258\n",
      "Loss at step 97: 0.0258\n",
      "Loss at step 98: 0.0258\n",
      "Loss at step 99: 0.0258\n"
     ]
    }
   ],
   "source": [
    "# The batch training loop\n",
    "for step in range(100):\n",
    "    loss = training_step(inputs, targets)\n",
    "    print(f\"Loss at step {step}: {loss:.4f}\")"
   ]
  },
  {
   "cell_type": "code",
   "execution_count": 56,
   "id": "b621889a",
   "metadata": {},
   "outputs": [
    {
     "data": {
      "image/png": "[encoded data removed]",
      "text/plain": [
       "<Figure size 640x480 with 1 Axes>"
      ]
     },
     "metadata": {},
     "output_type": "display_data"
    }
   ],
   "source": [
    "# Plot the results\n",
    "predictions = model(inputs)\n",
    "plt.scatter(inputs[:, 0], inputs[:, 1], c=predictions[:, 0] > 0.5)\n",
    "plt.show()"
   ]
  },
  {
   "cell_type": "code",
   "execution_count": 57,
   "id": "157239a2",
   "metadata": {},
   "outputs": [
    {
     "data": {
      "text/plain": [
       "<matplotlib.collections.PathCollection at 0x7ac81c340cd0>"
      ]
     },
     "execution_count": 57,
     "metadata": {},
     "output_type": "execute_result"
    },
    {
     "data": {
      "image/png": "[encoded data removed]",
      "text/plain": [
       "<Figure size 640x480 with 1 Axes>"
      ]
     },
     "metadata": {},
     "output_type": "display_data"
    }
   ],
   "source": [
    "x = np.linspace(-1, 4, 100)\n",
    "y = - W[0] / W[1] * x + (0.5 - b) / W[1]\n",
    "plt.plot(x, y, \"-r\")\n",
    "plt.scatter(inputs[:, 0], inputs[:, 1], c=predictions[:, 0] > 0.5)"
   ]
  },
  {
   "cell_type": "markdown",
   "id": "4a0205e0",
   "metadata": {},
   "source": [
    "## Anatomy of a Neural Network"
   ]
  },
  {
   "cell_type": "markdown",
   "id": "50d47a82",
   "metadata": {},
   "source": [
    "### Layers\n",
    "\n",
    "Layers are data processing modules that take as input one or more tensors and that\n",
    "output one or more tensors. Some layers are stateless, but more frequently layers\n",
    "have a state, the weights.\n",
    "\n",
    "There are different types of layers\n",
    "\n",
    "- Dense: often used for (sample, features), rank 2, ie tabular data\n",
    "- Recurrent layers: Time series, (samples, timesteps, features),\n",
    "  LSTM layers, or 1D convolution (Conv1D)). Image data, rank 4 tensors are\n",
    "  processed by Conv2D.\n",
    "\n",
    "Layers are the building blocks of deep learning\n",
    "\n",
    "#### The Base Layer\n",
    "\n",
    "The `Layer` class is what other layers inherit from. It captures a state and \n",
    "some computation. The weights are defined in a `build()` constructor. The computation\n",
    "is in the `call()` method.\n",
    "\n",
    "##### Implementing a custom layer"
   ]
  },
  {
   "cell_type": "code",
   "execution_count": 58,
   "id": "921ae0ba",
   "metadata": {},
   "outputs": [],
   "source": [
    "from tensorflow import keras\n",
    "\n",
    "class SimpleDense(keras.layers.Layer):                                          # 1\n",
    "    def __init__(self, units, activation=None):\n",
    "        super().__init__()\n",
    "        self.units = units\n",
    "        self.activation = activation\n",
    "        \n",
    "    def build(self, input_shape):                                               # 2\n",
    "        input_dim = input_shape[-1]\n",
    "        self.W = self.add_weight(shape=(input_dim, self.units),                 # 3\n",
    "                                 initializer='random_normal')\n",
    "        self.b = self.add_weight(shape=(self.units,),\n",
    "                                 initializer=\"zeros\")\n",
    "        \n",
    "    def call(self, inputs):                                                     # 4\n",
    "        y = tf.matmul(inputs, self.W) + self.b\n",
    "        if self.activation is not None:\n",
    "            y = self.activation(y)\n",
    "        return(y)"
   ]
  },
  {
   "cell_type": "markdown",
   "id": "9bc798b1",
   "metadata": {},
   "source": [
    "1. All Keras Layers inherit from `Layer`\n",
    "2. Weight (stateful variables) creation happens in `build()`\n",
    "3. add_weight() is a shortcut method for creating weights. It can also be done by\n",
    "   creating standalone variables and assign them as layer attributes, like\n",
    "   `self.W = tf.Variable(tf.random.uniform(w_shape))\n",
    "4. We define the forward pass computation in the `call()`\n",
    "\n",
    "Layer compatibility refers to the fact that every layer will only accept input tensors\n",
    "of a certain shape and return tensors of a certain shape.\n",
    "\n",
    "Most Keras layers require you to worry about size compatibility. They are dynamically\n",
    "built to recognize the inputs."
   ]
  },
  {
   "cell_type": "code",
   "execution_count": 60,
   "id": "44e8741b",
   "metadata": {},
   "outputs": [
    {
     "name": "stdout",
     "output_type": "stream",
     "text": [
      "(2, 32)\n"
     ]
    }
   ],
   "source": [
    "my_dense = SimpleDense(units=32, activation=tf.nn.relu)\n",
    "input_tensor = tf.ones(shape=(2, 784))\n",
    "output_tensor = my_dense(input_tensor)\n",
    "print(output_tensor.shape)"
   ]
  },
  {
   "cell_type": "markdown",
   "id": "74ef7410",
   "metadata": {},
   "source": [
    "Note that the `__call__()` method handles shape inference and other things like\n",
    "the routing between eager and graph execution. Just remember, when implementing\n",
    "your own layers put your foreword pass logic in your `call()` method.\n",
    "\n",
    "To learn from data, you tend to make assumptions. These assumptions define what\n",
    "can be learned, ie the structure of your hypothesis space. The architecture of your\n",
    "model is very important. It encodes the assumptions about the problem in your\n",
    "model. For example, if you are working on a two class classification problem with\n",
    "a single dense layer with no activation (a pure affine transformation), you are assuming\n",
    "your two classes are linearly separable.\n",
    "\n",
    "Picking the right network is more art than science, though there are some best practices.\n",
    "\n",
    "In addition to specifying your architecture you have to choose the following:\n",
    "\n",
    "- Loss Function\n",
    "- Optimizer\n",
    "- Metrics for evaluation"
   ]
  },
  {
   "cell_type": "code",
   "execution_count": 61,
   "id": "6708f209",
   "metadata": {},
   "outputs": [],
   "source": [
    "model = keras.Sequential([keras.layers.Dense(1)])\n",
    "model.compile(optimizer='rmsprop',\n",
    "              loss='mean_squared_error',\n",
    "              metrics=['accuracy'])"
   ]
  },
  {
   "cell_type": "markdown",
   "id": "c0c16985",
   "metadata": {},
   "source": [
    "Note the strings above are actual shortcuts for the related objects. These objects\n",
    "can have parameters of their own. See below"
   ]
  },
  {
   "cell_type": "code",
   "execution_count": 62,
   "id": "d009ee6d",
   "metadata": {},
   "outputs": [],
   "source": [
    "model.compile(optimizer=keras.optimizers.RMSprop(learning_rate=1e-4),\n",
    "              loss=keras.losses.MeanSquaredError(),\n",
    "              metrics=[keras.metrics.BinaryAccuracy()])"
   ]
  },
  {
   "cell_type": "markdown",
   "id": "6379c002",
   "metadata": {},
   "source": [
    "### Picking a Loss Function\n",
    "\n",
    "This is very important. The optimization will take any shortcut to minimize the\n",
    "loss function. There are some simple guidelines to choosing the correct loss\n",
    "function for most common problems.\n",
    "\n",
    "- Two Class Classification: Binary Crossentropy\n",
    "- Many Class Classification: Categorical Crossentropy\n",
    "- ...More to come\n",
    "\n",
    "### The Fit Method\n",
    "\n",
    "Arguments\n",
    "\n",
    "- Inputs (numpy array or TF dataset): the training set\n",
    "- Targets: The target values for the data set\n",
    "- Epochs: number of times the training loop executes\n",
    "- Batch Size: size of the mini batch gradient descent training examples\n"
   ]
  },
  {
   "cell_type": "code",
   "execution_count": 64,
   "id": "a46d09ce",
   "metadata": {},
   "outputs": [
    {
     "name": "stdout",
     "output_type": "stream",
     "text": [
      "Epoch 1/5\n",
      "\u001b[1m16/16\u001b[0m \u001b[32m━━━━━━━━━━━━━━━━━━━━\u001b[0m\u001b[37m\u001b[0m \u001b[1m0s\u001b[0m 5ms/step - binary_accuracy: 0.8752 - loss: 2.1129 \n",
      "Epoch 2/5\n",
      "\u001b[1m16/16\u001b[0m \u001b[32m━━━━━━━━━━━━━━━━━━━━\u001b[0m\u001b[37m\u001b[0m \u001b[1m0s\u001b[0m 4ms/step - binary_accuracy: 0.8756 - loss: 2.1222 \n",
      "Epoch 3/5\n",
      "\u001b[1m16/16\u001b[0m \u001b[32m━━━━━━━━━━━━━━━━━━━━\u001b[0m\u001b[37m\u001b[0m \u001b[1m0s\u001b[0m 5ms/step - binary_accuracy: 0.8722 - loss: 2.1850 \n",
      "Epoch 4/5\n",
      "\u001b[1m16/16\u001b[0m \u001b[32m━━━━━━━━━━━━━━━━━━━━\u001b[0m\u001b[37m\u001b[0m \u001b[1m0s\u001b[0m 7ms/step - binary_accuracy: 0.8819 - loss: 2.1068\n",
      "Epoch 5/5\n",
      "\u001b[1m16/16\u001b[0m \u001b[32m━━━━━━━━━━━━━━━━━━━━\u001b[0m\u001b[37m\u001b[0m \u001b[1m0s\u001b[0m 7ms/step - binary_accuracy: 0.8867 - loss: 2.1290\n"
     ]
    }
   ],
   "source": [
    "# Calling .fit()\n",
    "history = model.fit(\n",
    "    inputs,\n",
    "    targets,\n",
    "    epochs=5,\n",
    "    batch_size=128\n",
    ")"
   ]
  },
  {
   "cell_type": "markdown",
   "id": "8633bf30",
   "metadata": {},
   "source": [
    "### The History Object\n",
    "\n",
    "This object contains the results of the epochs. Note that these are the in sample\n",
    "values"
   ]
  },
  {
   "cell_type": "code",
   "execution_count": 65,
   "id": "bbab72d5",
   "metadata": {},
   "outputs": [
    {
     "data": {
      "text/plain": [
       "{'binary_accuracy': [0.8759999871253967,\n",
       "  0.8790000081062317,\n",
       "  0.8805000185966492,\n",
       "  0.8824999928474426,\n",
       "  0.8840000033378601],\n",
       " 'loss': [2.1875741481781006,\n",
       "  2.173413038253784,\n",
       "  2.159393548965454,\n",
       "  2.1455655097961426,\n",
       "  2.131706476211548]}"
      ]
     },
     "execution_count": 65,
     "metadata": {},
     "output_type": "execute_result"
    }
   ],
   "source": [
    "history.history"
   ]
  },
  {
   "cell_type": "markdown",
   "id": "4a84c80e",
   "metadata": {},
   "source": [
    "### Monitoring Loss and Metrics on the Validation Set\n",
    "\n",
    "You can use the `validation_data` argument on the `fit()` method."
   ]
  },
  {
   "cell_type": "code",
   "execution_count": 66,
   "id": "b483d5a0",
   "metadata": {},
   "outputs": [
    {
     "name": "stdout",
     "output_type": "stream",
     "text": [
      "Epoch 1/5\n",
      "\u001b[1m88/88\u001b[0m \u001b[32m━━━━━━━━━━━━━━━━━━━━\u001b[0m\u001b[37m\u001b[0m \u001b[1m1s\u001b[0m 5ms/step - binary_accuracy: 0.8988 - loss: 0.1211 - val_binary_accuracy: 0.7533 - val_loss: 0.1667\n",
      "Epoch 2/5\n",
      "\u001b[1m88/88\u001b[0m \u001b[32m━━━━━━━━━━━━━━━━━━━━\u001b[0m\u001b[37m\u001b[0m \u001b[1m0s\u001b[0m 3ms/step - binary_accuracy: 0.9415 - loss: 0.0761 - val_binary_accuracy: 0.9800 - val_loss: 0.0558\n",
      "Epoch 3/5\n",
      "\u001b[1m88/88\u001b[0m \u001b[32m━━━━━━━━━━━━━━━━━━━━\u001b[0m\u001b[37m\u001b[0m \u001b[1m0s\u001b[0m 3ms/step - binary_accuracy: 0.9660 - loss: 0.0636 - val_binary_accuracy: 0.9950 - val_loss: 0.0398\n",
      "Epoch 4/5\n",
      "\u001b[1m88/88\u001b[0m \u001b[32m━━━━━━━━━━━━━━━━━━━━\u001b[0m\u001b[37m\u001b[0m \u001b[1m0s\u001b[0m 3ms/step - binary_accuracy: 0.9417 - loss: 0.0803 - val_binary_accuracy: 0.9950 - val_loss: 0.0447\n",
      "Epoch 5/5\n",
      "\u001b[1m88/88\u001b[0m \u001b[32m━━━━━━━━━━━━━━━━━━━━\u001b[0m\u001b[37m\u001b[0m \u001b[1m0s\u001b[0m 4ms/step - binary_accuracy: 0.9703 - loss: 0.0658 - val_binary_accuracy: 0.7750 - val_loss: 0.2272\n"
     ]
    },
    {
     "data": {
      "text/plain": [
       "<keras.src.callbacks.history.History at 0x7ac81c519ea0>"
      ]
     },
     "execution_count": 66,
     "metadata": {},
     "output_type": "execute_result"
    }
   ],
   "source": [
    "# Define the model\n",
    "model = keras.Sequential([keras.layers.Dense(1)])\n",
    "\n",
    "# Compile the model\n",
    "model.compile(optimizer=keras.optimizers.RMSprop(learning_rate=0.1),\n",
    "              loss=keras.losses.MeanSquaredError(),\n",
    "              metrics=[keras.metrics.BinaryAccuracy()])\n",
    "\n",
    "# Define all of the splits\n",
    "indices_permutation = np.random.permutation(len(inputs))\n",
    "shuffled_inputs = inputs[indices_permutation]\n",
    "shuffled_targets = targets[indices_permutation]\n",
    "num_validation_samples = int(0.3 * len(inputs))\n",
    "val_inputs = shuffled_inputs[:num_validation_samples]\n",
    "val_targets = shuffled_targets[:num_validation_samples]\n",
    "training_inputs = shuffled_inputs[num_validation_samples:]\n",
    "training_targets = shuffled_targets[num_validation_samples:]\n",
    "\n",
    "# Fit the model w/ a validation set\n",
    "model.fit(\n",
    "    training_inputs,\n",
    "    training_targets,\n",
    "    epochs=5,\n",
    "    batch_size=16,\n",
    "    validation_data=(val_inputs, val_targets)\n",
    ")"
   ]
  },
  {
   "cell_type": "markdown",
   "id": "1b5dbf00",
   "metadata": {},
   "source": [
    "Notice that you now get the `val_binary_accuracy` and the `val_loss` that\n",
    "show the accuracy and loss for the validation set\n",
    "\n",
    "Note if you want to calculate the validation loss and metrics after the training\n",
    "is done you can call the `evaluate()` method:"
   ]
  },
  {
   "cell_type": "code",
   "execution_count": 68,
   "id": "0dc825fd",
   "metadata": {},
   "outputs": [
    {
     "name": "stdout",
     "output_type": "stream",
     "text": [
      "\u001b[1m5/5\u001b[0m \u001b[32m━━━━━━━━━━━━━━━━━━━━\u001b[0m\u001b[37m\u001b[0m \u001b[1m0s\u001b[0m 13ms/step - binary_accuracy: 0.7683 - loss: 0.2303\n"
     ]
    },
    {
     "data": {
      "text/plain": [
       "[0.22715522348880768, 0.7749999761581421]"
      ]
     },
     "execution_count": 68,
     "metadata": {},
     "output_type": "execute_result"
    }
   ],
   "source": [
    "# Evaluate the model\n",
    "loss_and_metrics = model.evaluate(val_inputs, val_targets, batch_size=128)\n",
    "loss_and_metrics"
   ]
  },
  {
   "cell_type": "markdown",
   "id": "87aa9d44",
   "metadata": {},
   "source": [
    "### Inference after the model\n",
    "\n",
    "You can use the `predict()` method on the model and specify the batch size.\n",
    "\n",
    "```python\n",
    "predictions = model.predict(new_inputs, batch_size=128)\n",
    "```"
   ]
  },
  {
   "cell_type": "code",
   "execution_count": 70,
   "id": "2ac72f89",
   "metadata": {},
   "outputs": [
    {
     "name": "stdout",
     "output_type": "stream",
     "text": [
      "\u001b[1m5/5\u001b[0m \u001b[32m━━━━━━━━━━━━━━━━━━━━\u001b[0m\u001b[37m\u001b[0m \u001b[1m0s\u001b[0m 20ms/step\n",
      "[[-0.47931135]\n",
      " [-0.60741526]\n",
      " [-0.26694393]\n",
      " [-0.02142218]\n",
      " [-0.17934042]\n",
      " [-0.20063931]\n",
      " [ 0.39775458]\n",
      " [-0.40131104]\n",
      " [-0.42105412]\n",
      " [ 0.46833974]]\n"
     ]
    }
   ],
   "source": [
    "predictions = model.predict(val_inputs, batch_size=128)\n",
    "print(predictions[:10])"
   ]
  },
  {
   "cell_type": "markdown",
   "id": "a6fa199b",
   "metadata": {},
   "source": [
    "## Summary\n",
    "\n",
    "- Tensorflow is an great framework for numerical computing on CPU, GPU, or TPU.\n",
    "  It calculates gradients and can export programs to various runtimes.\n",
    "- Keras is the standard API for doing deep learning with TensorFlow\n",
    "- The central class of Keras is the Layer. You can inherit from this layer and \n",
    "  create your own layers with custom functionality\n",
    "- Before training your model you have to compile it specifying the optimizer, loss function,\n",
    "  and evaluation metrics.\n",
    "- Training the model is done with the `fit()` method, which runs the optimization.\n",
    "  You can use it to monitor metrics and loss on the training and validation sets.\n",
    "- You can use the `model.predict()` method to make predictions on the model. You \n",
    "  can use the `batch_size` argument to break it into pieces."
   ]
  },
  {
   "cell_type": "markdown",
   "id": "20ad32f1",
   "metadata": {},
   "source": [
    "# Chapter 4 - Getting started: Classification and Regression"
   ]
  },
  {
   "cell_type": "code",
   "execution_count": null,
   "id": "fd7bcd8b",
   "metadata": {},
   "outputs": [],
   "source": []
  }
 ],
 "metadata": {
  "kernelspec": {
   "display_name": ".venv",
   "language": "python",
   "name": "python3"
  },
  "language_info": {
   "codemirror_mode": {
    "name": "ipython",
    "version": 3
   },
   "file_extension": ".py",
   "mimetype": "text/x-python",
   "name": "python",
   "nbconvert_exporter": "python",
   "pygments_lexer": "ipython3",
   "version": "3.10.13"
  }
 },
 "nbformat": 4,
 "nbformat_minor": 5
}
